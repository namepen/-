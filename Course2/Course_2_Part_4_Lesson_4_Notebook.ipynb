{
  "nbformat": 4,
  "nbformat_minor": 0,
  "metadata": {
    "accelerator": "GPU",
    "colab": {
      "name": "Course 2 - Part 4 - Lesson 4 - Notebook.ipynb",
      "provenance": [],
      "collapsed_sections": []
    },
    "kernelspec": {
      "display_name": "Python 3",
      "name": "python3"
    }
  },
  "cells": [
    {
      "cell_type": "markdown",
      "metadata": {
        "id": "rX8mhOLljYeM"
      },
      "source": [
        "##### Copyright 2019 The TensorFlow Authors."
      ]
    },
    {
      "cell_type": "code",
      "metadata": {
        "cellView": "form",
        "id": "BZSlp3DAjdYf"
      },
      "source": [
        "#@title Licensed under the Apache License, Version 2.0 (the \"License\");\n",
        "# you may not use this file except in compliance with the License.\n",
        "# You may obtain a copy of the License at\n",
        "#\n",
        "# https://www.apache.org/licenses/LICENSE-2.0\n",
        "#\n",
        "# Unless required by applicable law or agreed to in writing, software\n",
        "# distributed under the License is distributed on an \"AS IS\" BASIS,\n",
        "# WITHOUT WARRANTIES OR CONDITIONS OF ANY KIND, either express or implied.\n",
        "# See the License for the specific language governing permissions and\n",
        "# limitations under the License."
      ],
      "execution_count": 1,
      "outputs": []
    },
    {
      "cell_type": "code",
      "metadata": {
        "colab": {
          "base_uri": "https://localhost:8080/"
        },
        "id": "RXZT2UsyIVe_",
        "outputId": "0407208b-d168-4713-ae3a-e105b65a0941"
      },
      "source": [
        "!wget --no-check-certificate \\\n",
        "    https://storage.googleapis.com/laurencemoroney-blog.appspot.com/horse-or-human.zip \\\n",
        "    -O /tmp/horse-or-human.zip\n",
        "\n",
        "!wget --no-check-certificate \\\n",
        "    https://storage.googleapis.com/laurencemoroney-blog.appspot.com/validation-horse-or-human.zip \\\n",
        "    -O /tmp/validation-horse-or-human.zip\n",
        "  \n",
        "import os\n",
        "import zipfile\n",
        "\n",
        "local_zip = '/tmp/horse-or-human.zip'\n",
        "zip_ref = zipfile.ZipFile(local_zip, 'r')\n",
        "zip_ref.extractall('/tmp/horse-or-human')\n",
        "local_zip = '/tmp/validation-horse-or-human.zip'\n",
        "zip_ref = zipfile.ZipFile(local_zip, 'r')\n",
        "zip_ref.extractall('/tmp/validation-horse-or-human')\n",
        "zip_ref.close()\n",
        "# Directory with our training horse pictures\n",
        "train_horse_dir = os.path.join('/tmp/horse-or-human/horses')\n",
        "\n",
        "# Directory with our training human pictures\n",
        "train_human_dir = os.path.join('/tmp/horse-or-human/humans')\n",
        "\n",
        "# Directory with our training horse pictures\n",
        "validation_horse_dir = os.path.join('/tmp/validation-horse-or-human/horses')\n",
        "\n",
        "# Directory with our training human pictures\n",
        "validation_human_dir = os.path.join('/tmp/validation-horse-or-human/humans')"
      ],
      "execution_count": 2,
      "outputs": [
        {
          "output_type": "stream",
          "text": [
            "--2021-01-19 14:28:51--  https://storage.googleapis.com/laurencemoroney-blog.appspot.com/horse-or-human.zip\n",
            "Resolving storage.googleapis.com (storage.googleapis.com)... 108.177.112.128, 172.217.212.128, 172.217.214.128, ...\n",
            "Connecting to storage.googleapis.com (storage.googleapis.com)|108.177.112.128|:443... connected.\n",
            "HTTP request sent, awaiting response... 200 OK\n",
            "Length: 149574867 (143M) [application/zip]\n",
            "Saving to: ‘/tmp/horse-or-human.zip’\n",
            "\n",
            "/tmp/horse-or-human 100%[===================>] 142.65M   218MB/s    in 0.7s    \n",
            "\n",
            "2021-01-19 14:28:51 (218 MB/s) - ‘/tmp/horse-or-human.zip’ saved [149574867/149574867]\n",
            "\n",
            "--2021-01-19 14:28:51--  https://storage.googleapis.com/laurencemoroney-blog.appspot.com/validation-horse-or-human.zip\n",
            "Resolving storage.googleapis.com (storage.googleapis.com)... 108.177.111.128, 209.85.234.128, 172.217.212.128, ...\n",
            "Connecting to storage.googleapis.com (storage.googleapis.com)|108.177.111.128|:443... connected.\n",
            "HTTP request sent, awaiting response... 200 OK\n",
            "Length: 11480187 (11M) [application/zip]\n",
            "Saving to: ‘/tmp/validation-horse-or-human.zip’\n",
            "\n",
            "/tmp/validation-hor 100%[===================>]  10.95M  35.0MB/s    in 0.3s    \n",
            "\n",
            "2021-01-19 14:28:52 (35.0 MB/s) - ‘/tmp/validation-horse-or-human.zip’ saved [11480187/11480187]\n",
            "\n"
          ],
          "name": "stdout"
        }
      ]
    },
    {
      "cell_type": "markdown",
      "metadata": {
        "id": "5oqBkNBJmtUv"
      },
      "source": [
        "## Building a Small Model from Scratch\n",
        "\n",
        "But before we continue, let's start defining the model:\n",
        "\n",
        "Step 1 will be to import tensorflow."
      ]
    },
    {
      "cell_type": "code",
      "metadata": {
        "id": "qvfZg3LQbD-5"
      },
      "source": [
        "import tensorflow as tf"
      ],
      "execution_count": 3,
      "outputs": []
    },
    {
      "cell_type": "markdown",
      "metadata": {
        "id": "BnhYCP4tdqjC"
      },
      "source": [
        "We then add convolutional layers as in the previous example, and flatten the final result to feed into the densely connected layers."
      ]
    },
    {
      "cell_type": "markdown",
      "metadata": {
        "id": "gokG5HKpdtzm"
      },
      "source": [
        "Finally we add the densely connected layers. \n",
        "\n",
        "Note that because we are facing a two-class classification problem, i.e. a *binary classification problem*, we will end our network with a [*sigmoid* activation](https://wikipedia.org/wiki/Sigmoid_function), so that the output of our network will be a single scalar between 0 and 1, encoding the probability that the current image is class 1 (as opposed to class 0)."
      ]
    },
    {
      "cell_type": "code",
      "metadata": {
        "id": "PixZ2s5QbYQ3"
      },
      "source": [
        "model = tf.keras.models.Sequential([\n",
        "    # Note the input shape is the desired size of the image 300x300 with 3 bytes color\n",
        "    # This is the first convolution\n",
        "    tf.keras.layers.Conv2D(16, (3,3), activation='relu', input_shape=(300, 300, 3)),\n",
        "    tf.keras.layers.MaxPooling2D(2, 2),\n",
        "    # The second convolution\n",
        "    tf.keras.layers.Conv2D(32, (3,3), activation='relu'),\n",
        "    tf.keras.layers.MaxPooling2D(2,2),\n",
        "    # The third convolution\n",
        "    tf.keras.layers.Conv2D(64, (3,3), activation='relu'),\n",
        "    tf.keras.layers.MaxPooling2D(2,2),\n",
        "    # The fourth convolution\n",
        "    tf.keras.layers.Conv2D(64, (3,3), activation='relu'),\n",
        "    tf.keras.layers.MaxPooling2D(2,2),\n",
        "    # The fifth convolution\n",
        "    tf.keras.layers.Conv2D(64, (3,3), activation='relu'),\n",
        "    tf.keras.layers.MaxPooling2D(2,2),\n",
        "    # Flatten the results to feed into a DNN\n",
        "    tf.keras.layers.Flatten(),\n",
        "    # 512 neuron hidden layer\n",
        "    tf.keras.layers.Dense(512, activation='relu'),\n",
        "    # Only 1 output neuron. It will contain a value from 0-1 where 0 for 1 class ('horses') and 1 for the other ('humans')\n",
        "    tf.keras.layers.Dense(1, activation='sigmoid')\n",
        "])"
      ],
      "execution_count": 4,
      "outputs": []
    },
    {
      "cell_type": "code",
      "metadata": {
        "id": "8DHWhFP_uhq3"
      },
      "source": [
        "from tensorflow.keras.optimizers import RMSprop\n",
        "\n",
        "model.compile(loss='binary_crossentropy',\n",
        "              optimizer=RMSprop(lr=1e-4),\n",
        "              metrics=['accuracy'])"
      ],
      "execution_count": 5,
      "outputs": []
    },
    {
      "cell_type": "markdown",
      "metadata": {
        "id": "DSxAjcEKB7Pi"
      },
      "source": [
        "## 1. Not Augmentation"
      ]
    },
    {
      "cell_type": "code",
      "metadata": {
        "id": "EV-ZmD7BB6Yi",
        "outputId": "6f7685f3-0309-46d7-d238-79f8f0ef5110",
        "colab": {
          "base_uri": "https://localhost:8080/"
        }
      },
      "source": [
        "from tensorflow.keras.preprocessing.image import ImageDataGenerator\r\n",
        "\r\n",
        "# All images will be rescaled by 1./255\r\n",
        "train_datagen = ImageDataGenerator(rescale=1/255)\r\n",
        "validation_datagen = ImageDataGenerator(rescale=1/255)\r\n",
        "\r\n",
        "# Flow training images in batches of 128 using train_datagen generator\r\n",
        "train_generator = train_datagen.flow_from_directory(\r\n",
        "        '/tmp/horse-or-human/',  # This is the source directory for training images\r\n",
        "        target_size=(300, 300),  # All images will be resized to 150x150\r\n",
        "        batch_size=128,\r\n",
        "        # Since we use binary_crossentropy loss, we need binary labels\r\n",
        "        class_mode='binary')\r\n",
        "\r\n",
        "# Flow training images in batches of 128 using train_datagen generator\r\n",
        "validation_generator = validation_datagen.flow_from_directory(\r\n",
        "        '/tmp/validation-horse-or-human/',  # This is the source directory for training images\r\n",
        "        target_size=(300, 300),  # All images will be resized to 150x150\r\n",
        "        batch_size=32,\r\n",
        "        # Since we use binary_crossentropy loss, we need binary labels\r\n",
        "        class_mode='binary')"
      ],
      "execution_count": 6,
      "outputs": [
        {
          "output_type": "stream",
          "text": [
            "Found 1027 images belonging to 2 classes.\n",
            "Found 256 images belonging to 2 classes.\n"
          ],
          "name": "stdout"
        }
      ]
    },
    {
      "cell_type": "code",
      "metadata": {
        "id": "Qq9Sa6PQCMhL",
        "outputId": "36fb60af-c08a-482d-845d-b75f94303c30",
        "colab": {
          "base_uri": "https://localhost:8080/"
        }
      },
      "source": [
        "history = model.fit(\r\n",
        "      train_generator,\r\n",
        "      steps_per_epoch=8,  \r\n",
        "      epochs=100,\r\n",
        "      verbose=1,\r\n",
        "      validation_data = validation_generator,\r\n",
        "      validation_steps=8)"
      ],
      "execution_count": 7,
      "outputs": [
        {
          "output_type": "stream",
          "text": [
            "Epoch 1/100\n",
            "8/8 [==============================] - 13s 1s/step - loss: 0.6792 - accuracy: 0.5618 - val_loss: 0.6084 - val_accuracy: 0.6836\n",
            "Epoch 2/100\n",
            "8/8 [==============================] - 8s 1s/step - loss: 0.6099 - accuracy: 0.7049 - val_loss: 0.5051 - val_accuracy: 0.7930\n",
            "Epoch 3/100\n",
            "8/8 [==============================] - 8s 1s/step - loss: 0.4670 - accuracy: 0.9090 - val_loss: 0.4065 - val_accuracy: 0.8320\n",
            "Epoch 4/100\n",
            "8/8 [==============================] - 9s 1s/step - loss: 0.3510 - accuracy: 0.9137 - val_loss: 0.3933 - val_accuracy: 0.8633\n",
            "Epoch 5/100\n",
            "8/8 [==============================] - 8s 1s/step - loss: 0.2636 - accuracy: 0.9309 - val_loss: 0.4902 - val_accuracy: 0.8398\n",
            "Epoch 6/100\n",
            "8/8 [==============================] - 8s 1s/step - loss: 0.1962 - accuracy: 0.9521 - val_loss: 0.4162 - val_accuracy: 0.8789\n",
            "Epoch 7/100\n",
            "8/8 [==============================] - 8s 1s/step - loss: 0.1759 - accuracy: 0.9411 - val_loss: 0.7686 - val_accuracy: 0.8281\n",
            "Epoch 8/100\n",
            "8/8 [==============================] - 8s 1s/step - loss: 0.2444 - accuracy: 0.9175 - val_loss: 0.7858 - val_accuracy: 0.8047\n",
            "Epoch 9/100\n",
            "8/8 [==============================] - 8s 1s/step - loss: 0.1331 - accuracy: 0.9602 - val_loss: 0.9342 - val_accuracy: 0.8047\n",
            "Epoch 10/100\n",
            "8/8 [==============================] - 8s 1s/step - loss: 0.1061 - accuracy: 0.9694 - val_loss: 0.8858 - val_accuracy: 0.8398\n",
            "Epoch 11/100\n",
            "8/8 [==============================] - 8s 1s/step - loss: 0.0986 - accuracy: 0.9772 - val_loss: 0.7720 - val_accuracy: 0.8555\n",
            "Epoch 12/100\n",
            "8/8 [==============================] - 8s 1s/step - loss: 0.1241 - accuracy: 0.9508 - val_loss: 0.9766 - val_accuracy: 0.8438\n",
            "Epoch 13/100\n",
            "8/8 [==============================] - 8s 1s/step - loss: 0.0812 - accuracy: 0.9729 - val_loss: 1.1774 - val_accuracy: 0.8125\n",
            "Epoch 14/100\n",
            "8/8 [==============================] - 8s 1s/step - loss: 0.0682 - accuracy: 0.9832 - val_loss: 2.5497 - val_accuracy: 0.6641\n",
            "Epoch 15/100\n",
            "8/8 [==============================] - 8s 1s/step - loss: 0.2083 - accuracy: 0.9117 - val_loss: 1.8232 - val_accuracy: 0.7305\n",
            "Epoch 16/100\n",
            "8/8 [==============================] - 8s 1s/step - loss: 0.0741 - accuracy: 0.9792 - val_loss: 1.2752 - val_accuracy: 0.8125\n",
            "Epoch 17/100\n",
            "8/8 [==============================] - 8s 1s/step - loss: 0.0495 - accuracy: 0.9877 - val_loss: 1.4041 - val_accuracy: 0.8008\n",
            "Epoch 18/100\n",
            "8/8 [==============================] - 8s 1s/step - loss: 0.0888 - accuracy: 0.9636 - val_loss: 1.3064 - val_accuracy: 0.8086\n",
            "Epoch 19/100\n",
            "8/8 [==============================] - 8s 1s/step - loss: 0.0478 - accuracy: 0.9884 - val_loss: 1.4401 - val_accuracy: 0.8047\n",
            "Epoch 20/100\n",
            "8/8 [==============================] - 8s 1s/step - loss: 0.0477 - accuracy: 0.9879 - val_loss: 1.7483 - val_accuracy: 0.7773\n",
            "Epoch 21/100\n",
            "8/8 [==============================] - 8s 1s/step - loss: 0.0763 - accuracy: 0.9640 - val_loss: 1.5897 - val_accuracy: 0.8047\n",
            "Epoch 22/100\n",
            "8/8 [==============================] - 8s 1s/step - loss: 0.0622 - accuracy: 0.9782 - val_loss: 1.4793 - val_accuracy: 0.8047\n",
            "Epoch 23/100\n",
            "8/8 [==============================] - 8s 1s/step - loss: 0.0425 - accuracy: 0.9876 - val_loss: 1.4351 - val_accuracy: 0.8281\n",
            "Epoch 24/100\n",
            "8/8 [==============================] - 9s 1s/step - loss: 0.0476 - accuracy: 0.9827 - val_loss: 1.3602 - val_accuracy: 0.8281\n",
            "Epoch 25/100\n",
            "8/8 [==============================] - 8s 1s/step - loss: 0.0327 - accuracy: 0.9890 - val_loss: 1.6812 - val_accuracy: 0.8164\n",
            "Epoch 26/100\n",
            "8/8 [==============================] - 8s 1s/step - loss: 0.0250 - accuracy: 0.9941 - val_loss: 1.2022 - val_accuracy: 0.8594\n",
            "Epoch 27/100\n",
            "8/8 [==============================] - 8s 1s/step - loss: 0.0557 - accuracy: 0.9763 - val_loss: 1.6481 - val_accuracy: 0.8281\n",
            "Epoch 28/100\n",
            "8/8 [==============================] - 8s 1s/step - loss: 0.0674 - accuracy: 0.9768 - val_loss: 1.6807 - val_accuracy: 0.8086\n",
            "Epoch 29/100\n",
            "8/8 [==============================] - 8s 1s/step - loss: 0.0246 - accuracy: 0.9926 - val_loss: 1.7483 - val_accuracy: 0.8164\n",
            "Epoch 30/100\n",
            "8/8 [==============================] - 8s 1s/step - loss: 0.0288 - accuracy: 0.9881 - val_loss: 1.6772 - val_accuracy: 0.8281\n",
            "Epoch 31/100\n",
            "8/8 [==============================] - 8s 1s/step - loss: 0.0148 - accuracy: 0.9960 - val_loss: 2.0490 - val_accuracy: 0.8008\n",
            "Epoch 32/100\n",
            "8/8 [==============================] - 8s 1s/step - loss: 0.0231 - accuracy: 0.9939 - val_loss: 1.8847 - val_accuracy: 0.8164\n",
            "Epoch 33/100\n",
            "8/8 [==============================] - 8s 999ms/step - loss: 0.0148 - accuracy: 0.9958 - val_loss: 0.7458 - val_accuracy: 0.9062\n",
            "Epoch 34/100\n",
            "8/8 [==============================] - 8s 1s/step - loss: 0.7019 - accuracy: 0.8328 - val_loss: 1.7074 - val_accuracy: 0.8203\n",
            "Epoch 35/100\n",
            "8/8 [==============================] - 8s 1s/step - loss: 0.0160 - accuracy: 0.9982 - val_loss: 1.6941 - val_accuracy: 0.8203\n",
            "Epoch 36/100\n",
            "8/8 [==============================] - 8s 1s/step - loss: 0.0118 - accuracy: 0.9964 - val_loss: 1.7577 - val_accuracy: 0.8242\n",
            "Epoch 37/100\n",
            "8/8 [==============================] - 8s 1s/step - loss: 0.0131 - accuracy: 0.9952 - val_loss: 1.9115 - val_accuracy: 0.8125\n",
            "Epoch 38/100\n",
            "8/8 [==============================] - 8s 1s/step - loss: 0.0107 - accuracy: 0.9988 - val_loss: 1.9043 - val_accuracy: 0.8203\n",
            "Epoch 39/100\n",
            "8/8 [==============================] - 8s 1s/step - loss: 0.0101 - accuracy: 0.9995 - val_loss: 2.2257 - val_accuracy: 0.7891\n",
            "Epoch 40/100\n",
            "8/8 [==============================] - 9s 1s/step - loss: 0.0091 - accuracy: 1.0000 - val_loss: 1.9477 - val_accuracy: 0.8242\n",
            "Epoch 41/100\n",
            "8/8 [==============================] - 8s 1s/step - loss: 0.0102 - accuracy: 0.9994 - val_loss: 1.6448 - val_accuracy: 0.8477\n",
            "Epoch 42/100\n",
            "8/8 [==============================] - 8s 1s/step - loss: 0.0372 - accuracy: 0.9824 - val_loss: 2.0808 - val_accuracy: 0.8125\n",
            "Epoch 43/100\n",
            "8/8 [==============================] - 8s 1s/step - loss: 0.0068 - accuracy: 1.0000 - val_loss: 2.0500 - val_accuracy: 0.8242\n",
            "Epoch 44/100\n",
            "8/8 [==============================] - 8s 1s/step - loss: 0.0078 - accuracy: 1.0000 - val_loss: 2.2240 - val_accuracy: 0.8242\n",
            "Epoch 45/100\n",
            "8/8 [==============================] - 8s 1s/step - loss: 0.0072 - accuracy: 0.9988 - val_loss: 2.4058 - val_accuracy: 0.8125\n",
            "Epoch 46/100\n",
            "8/8 [==============================] - 8s 1s/step - loss: 0.0067 - accuracy: 0.9988 - val_loss: 1.3412 - val_accuracy: 0.8750\n",
            "Epoch 47/100\n",
            "8/8 [==============================] - 8s 1s/step - loss: 0.0059 - accuracy: 1.0000 - val_loss: 2.3619 - val_accuracy: 0.8164\n",
            "Epoch 48/100\n",
            "8/8 [==============================] - 8s 1s/step - loss: 0.0027 - accuracy: 1.0000 - val_loss: 2.5773 - val_accuracy: 0.8125\n",
            "Epoch 49/100\n",
            "8/8 [==============================] - 8s 1s/step - loss: 0.0033 - accuracy: 1.0000 - val_loss: 2.6371 - val_accuracy: 0.8125\n",
            "Epoch 50/100\n",
            "8/8 [==============================] - 8s 1s/step - loss: 0.0078 - accuracy: 0.9976 - val_loss: 1.8716 - val_accuracy: 0.8555\n",
            "Epoch 51/100\n",
            "8/8 [==============================] - 8s 1s/step - loss: 0.0232 - accuracy: 0.9861 - val_loss: 2.3382 - val_accuracy: 0.8125\n",
            "Epoch 52/100\n",
            "8/8 [==============================] - 8s 1s/step - loss: 0.0030 - accuracy: 1.0000 - val_loss: 2.5359 - val_accuracy: 0.8125\n",
            "Epoch 53/100\n",
            "8/8 [==============================] - 8s 1s/step - loss: 0.0023 - accuracy: 1.0000 - val_loss: 2.6812 - val_accuracy: 0.8125\n",
            "Epoch 54/100\n",
            "8/8 [==============================] - 8s 1s/step - loss: 0.0014 - accuracy: 1.0000 - val_loss: 2.9468 - val_accuracy: 0.8047\n",
            "Epoch 55/100\n",
            "8/8 [==============================] - 8s 1s/step - loss: 0.0011 - accuracy: 1.0000 - val_loss: 3.1019 - val_accuracy: 0.8086\n",
            "Epoch 56/100\n",
            "8/8 [==============================] - 8s 1s/step - loss: 0.0569 - accuracy: 0.9870 - val_loss: 3.3142 - val_accuracy: 0.7266\n",
            "Epoch 57/100\n",
            "8/8 [==============================] - 8s 1s/step - loss: 0.0083 - accuracy: 0.9977 - val_loss: 2.7389 - val_accuracy: 0.7812\n",
            "Epoch 58/100\n",
            "8/8 [==============================] - 8s 1s/step - loss: 0.0024 - accuracy: 1.0000 - val_loss: 2.6835 - val_accuracy: 0.8008\n",
            "Epoch 59/100\n",
            "8/8 [==============================] - 8s 1s/step - loss: 0.0015 - accuracy: 1.0000 - val_loss: 2.6425 - val_accuracy: 0.8086\n",
            "Epoch 60/100\n",
            "8/8 [==============================] - 8s 1s/step - loss: 0.0015 - accuracy: 1.0000 - val_loss: 2.7895 - val_accuracy: 0.8086\n",
            "Epoch 61/100\n",
            "8/8 [==============================] - 8s 1s/step - loss: 0.0010 - accuracy: 1.0000 - val_loss: 2.8117 - val_accuracy: 0.8086\n",
            "Epoch 62/100\n",
            "8/8 [==============================] - 9s 1s/step - loss: 7.9482e-04 - accuracy: 1.0000 - val_loss: 2.9966 - val_accuracy: 0.8047\n",
            "Epoch 63/100\n",
            "8/8 [==============================] - 8s 1s/step - loss: 7.4200e-04 - accuracy: 1.0000 - val_loss: 3.0984 - val_accuracy: 0.8047\n",
            "Epoch 64/100\n",
            "8/8 [==============================] - 8s 1s/step - loss: 8.6501e-04 - accuracy: 1.0000 - val_loss: 3.2745 - val_accuracy: 0.8047\n",
            "Epoch 65/100\n",
            "8/8 [==============================] - 8s 1s/step - loss: 5.0583e-04 - accuracy: 1.0000 - val_loss: 2.8597 - val_accuracy: 0.8281\n",
            "Epoch 66/100\n",
            "8/8 [==============================] - 8s 1s/step - loss: 0.0251 - accuracy: 0.9923 - val_loss: 3.1341 - val_accuracy: 0.7656\n",
            "Epoch 67/100\n",
            "8/8 [==============================] - 8s 1s/step - loss: 0.0058 - accuracy: 1.0000 - val_loss: 2.8149 - val_accuracy: 0.8047\n",
            "Epoch 68/100\n",
            "8/8 [==============================] - 8s 1s/step - loss: 0.0021 - accuracy: 1.0000 - val_loss: 2.6650 - val_accuracy: 0.8086\n",
            "Epoch 69/100\n",
            "8/8 [==============================] - 8s 1s/step - loss: 9.5024e-04 - accuracy: 1.0000 - val_loss: 2.5929 - val_accuracy: 0.8125\n",
            "Epoch 70/100\n",
            "8/8 [==============================] - 8s 1s/step - loss: 0.0011 - accuracy: 1.0000 - val_loss: 2.6172 - val_accuracy: 0.8164\n",
            "Epoch 71/100\n",
            "8/8 [==============================] - 8s 1s/step - loss: 6.2452e-04 - accuracy: 1.0000 - val_loss: 2.6977 - val_accuracy: 0.8125\n",
            "Epoch 72/100\n",
            "8/8 [==============================] - 8s 1s/step - loss: 5.9777e-04 - accuracy: 1.0000 - val_loss: 2.7544 - val_accuracy: 0.8164\n",
            "Epoch 73/100\n",
            "8/8 [==============================] - 8s 1s/step - loss: 4.9915e-04 - accuracy: 1.0000 - val_loss: 2.7115 - val_accuracy: 0.8164\n",
            "Epoch 74/100\n",
            "8/8 [==============================] - 8s 1s/step - loss: 5.8558e-04 - accuracy: 1.0000 - val_loss: 2.9920 - val_accuracy: 0.8125\n",
            "Epoch 75/100\n",
            "8/8 [==============================] - 8s 1s/step - loss: 3.1714e-04 - accuracy: 1.0000 - val_loss: 2.9893 - val_accuracy: 0.8164\n",
            "Epoch 76/100\n",
            "8/8 [==============================] - 8s 1s/step - loss: 2.6410e-04 - accuracy: 1.0000 - val_loss: 3.2352 - val_accuracy: 0.8086\n",
            "Epoch 77/100\n",
            "8/8 [==============================] - 8s 1s/step - loss: 2.1491e-04 - accuracy: 1.0000 - val_loss: 3.2999 - val_accuracy: 0.8164\n",
            "Epoch 78/100\n",
            "8/8 [==============================] - 9s 1s/step - loss: 1.8457e-04 - accuracy: 1.0000 - val_loss: 3.4495 - val_accuracy: 0.8125\n",
            "Epoch 79/100\n",
            "8/8 [==============================] - 8s 1s/step - loss: 2.4704e-04 - accuracy: 1.0000 - val_loss: 3.0225 - val_accuracy: 0.8359\n",
            "Epoch 80/100\n",
            "8/8 [==============================] - 8s 1s/step - loss: 0.0588 - accuracy: 0.9769 - val_loss: 3.2103 - val_accuracy: 0.7969\n",
            "Epoch 81/100\n",
            "8/8 [==============================] - 8s 1s/step - loss: 2.5851e-04 - accuracy: 1.0000 - val_loss: 3.2245 - val_accuracy: 0.8008\n",
            "Epoch 82/100\n",
            "8/8 [==============================] - 8s 1s/step - loss: 2.5982e-04 - accuracy: 1.0000 - val_loss: 3.2402 - val_accuracy: 0.8086\n",
            "Epoch 83/100\n",
            "8/8 [==============================] - 9s 1s/step - loss: 2.3704e-04 - accuracy: 1.0000 - val_loss: 3.2654 - val_accuracy: 0.8125\n",
            "Epoch 84/100\n",
            "8/8 [==============================] - 8s 1s/step - loss: 1.8680e-04 - accuracy: 1.0000 - val_loss: 3.3106 - val_accuracy: 0.8125\n",
            "Epoch 85/100\n",
            "8/8 [==============================] - 9s 1s/step - loss: 1.4882e-04 - accuracy: 1.0000 - val_loss: 3.3853 - val_accuracy: 0.8125\n",
            "Epoch 86/100\n",
            "8/8 [==============================] - 8s 1s/step - loss: 2.0645e-04 - accuracy: 1.0000 - val_loss: 3.4752 - val_accuracy: 0.8125\n",
            "Epoch 87/100\n",
            "8/8 [==============================] - 8s 1s/step - loss: 1.0148e-04 - accuracy: 1.0000 - val_loss: 3.5263 - val_accuracy: 0.8125\n",
            "Epoch 88/100\n",
            "8/8 [==============================] - 8s 997ms/step - loss: 8.8323e-05 - accuracy: 1.0000 - val_loss: 3.6084 - val_accuracy: 0.8047\n",
            "Epoch 89/100\n",
            "8/8 [==============================] - 8s 1s/step - loss: 1.2462e-04 - accuracy: 1.0000 - val_loss: 4.7289 - val_accuracy: 0.7188\n",
            "Epoch 90/100\n",
            "8/8 [==============================] - 8s 1s/step - loss: 0.0371 - accuracy: 0.9858 - val_loss: 3.4194 - val_accuracy: 0.7969\n",
            "Epoch 91/100\n",
            "8/8 [==============================] - 9s 1s/step - loss: 3.0566e-04 - accuracy: 1.0000 - val_loss: 3.4312 - val_accuracy: 0.8047\n",
            "Epoch 92/100\n",
            "8/8 [==============================] - 8s 1s/step - loss: 1.8088e-04 - accuracy: 1.0000 - val_loss: 3.4412 - val_accuracy: 0.8086\n",
            "Epoch 93/100\n",
            "8/8 [==============================] - 9s 1s/step - loss: 1.6576e-04 - accuracy: 1.0000 - val_loss: 3.4589 - val_accuracy: 0.8125\n",
            "Epoch 94/100\n",
            "8/8 [==============================] - 8s 1s/step - loss: 1.1120e-04 - accuracy: 1.0000 - val_loss: 3.5384 - val_accuracy: 0.8125\n",
            "Epoch 95/100\n",
            "8/8 [==============================] - 8s 1s/step - loss: 9.2556e-05 - accuracy: 1.0000 - val_loss: 3.6040 - val_accuracy: 0.8125\n",
            "Epoch 96/100\n",
            "8/8 [==============================] - 9s 1s/step - loss: 9.3793e-05 - accuracy: 1.0000 - val_loss: 3.6526 - val_accuracy: 0.8125\n",
            "Epoch 97/100\n",
            "8/8 [==============================] - 8s 1s/step - loss: 5.8379e-05 - accuracy: 1.0000 - val_loss: 3.6883 - val_accuracy: 0.8125\n",
            "Epoch 98/100\n",
            "8/8 [==============================] - 8s 1s/step - loss: 5.7385e-05 - accuracy: 1.0000 - val_loss: 3.7825 - val_accuracy: 0.8125\n",
            "Epoch 99/100\n",
            "8/8 [==============================] - 8s 1s/step - loss: 6.1521e-05 - accuracy: 1.0000 - val_loss: 4.0611 - val_accuracy: 0.7930\n",
            "Epoch 100/100\n",
            "8/8 [==============================] - 8s 1s/step - loss: 5.9369e-05 - accuracy: 1.0000 - val_loss: 3.9126 - val_accuracy: 0.8125\n"
          ],
          "name": "stdout"
        }
      ]
    },
    {
      "cell_type": "code",
      "metadata": {
        "id": "Ris7BorYCXPY",
        "outputId": "fc37e353-2ae4-41b4-af48-47c4834fcf67",
        "colab": {
          "base_uri": "https://localhost:8080/",
          "height": 544
        }
      },
      "source": [
        "import matplotlib.pyplot as plt\r\n",
        "acc = history.history['accuracy']\r\n",
        "val_acc = history.history['val_accuracy']\r\n",
        "loss = history.history['loss']\r\n",
        "val_loss = history.history['val_loss']\r\n",
        "\r\n",
        "epochs = range(len(acc))\r\n",
        "\r\n",
        "plt.plot(epochs, acc, 'r', label='Training accuracy')\r\n",
        "plt.plot(epochs, val_acc, 'b', label='Validation accuracy')\r\n",
        "plt.title('Training and validation accuracy')\r\n",
        "\r\n",
        "plt.figure()\r\n",
        "\r\n",
        "plt.plot(epochs, loss, 'r', label='Training Loss')\r\n",
        "plt.plot(epochs, val_loss, 'b', label='Validation Loss')\r\n",
        "plt.title('Training and validation loss')\r\n",
        "plt.legend()\r\n",
        "\r\n",
        "plt.show()"
      ],
      "execution_count": 8,
      "outputs": [
        {
          "output_type": "display_data",
          "data": {
            "image/png": "[encoded data removed]",
            "text/plain": [
              "<Figure size 432x288 with 1 Axes>"
            ]
          },
          "metadata": {
            "tags": [],
            "needs_background": "light"
          }
        },
        {
          "output_type": "display_data",
          "data": {
            "image/png": "[encoded data removed]",
            "text/plain": [
              "<Figure size 432x288 with 1 Axes>"
            ]
          },
          "metadata": {
            "tags": [],
            "needs_background": "light"
          }
        }
      ]
    },
    {
      "cell_type": "markdown",
      "metadata": {
        "id": "69Yx2zXwCYRi"
      },
      "source": [
        "## 2. Using Augmentation"
      ]
    },
    {
      "cell_type": "code",
      "metadata": {
        "id": "t5SPRsOuC8GH"
      },
      "source": [
        "model = tf.keras.models.Sequential([\r\n",
        "    # Note the input shape is the desired size of the image 300x300 with 3 bytes color\r\n",
        "    # This is the first convolution\r\n",
        "    tf.keras.layers.Conv2D(16, (3,3), activation='relu', input_shape=(300, 300, 3)),\r\n",
        "    tf.keras.layers.MaxPooling2D(2, 2),\r\n",
        "    # The second convolution\r\n",
        "    tf.keras.layers.Conv2D(32, (3,3), activation='relu'),\r\n",
        "    tf.keras.layers.MaxPooling2D(2,2),\r\n",
        "    # The third convolution\r\n",
        "    tf.keras.layers.Conv2D(64, (3,3), activation='relu'),\r\n",
        "    tf.keras.layers.MaxPooling2D(2,2),\r\n",
        "    # The fourth convolution\r\n",
        "    tf.keras.layers.Conv2D(64, (3,3), activation='relu'),\r\n",
        "    tf.keras.layers.MaxPooling2D(2,2),\r\n",
        "    # The fifth convolution\r\n",
        "    tf.keras.layers.Conv2D(64, (3,3), activation='relu'),\r\n",
        "    tf.keras.layers.MaxPooling2D(2,2),\r\n",
        "    # Flatten the results to feed into a DNN\r\n",
        "    tf.keras.layers.Flatten(),\r\n",
        "    # 512 neuron hidden layer\r\n",
        "    tf.keras.layers.Dense(512, activation='relu'),\r\n",
        "    # Only 1 output neuron. It will contain a value from 0-1 where 0 for 1 class ('horses') and 1 for the other ('humans')\r\n",
        "    tf.keras.layers.Dense(1, activation='sigmoid')\r\n",
        "])\r\n",
        "\r\n",
        "model.compile(loss='binary_crossentropy',\r\n",
        "              optimizer=RMSprop(lr=1e-4),\r\n",
        "              metrics=['accuracy'])"
      ],
      "execution_count": 9,
      "outputs": []
    },
    {
      "cell_type": "code",
      "metadata": {
        "colab": {
          "base_uri": "https://localhost:8080/"
        },
        "id": "ClebU9NJg99G",
        "outputId": "09c97766-3192-4fb1-e797-21914bc90ec3"
      },
      "source": [
        "from tensorflow.keras.preprocessing.image import ImageDataGenerator\n",
        "\n",
        "# All images will be rescaled by 1./255\n",
        "train_datagen = ImageDataGenerator(\n",
        "      rescale=1./255,\n",
        "      rotation_range=40,\n",
        "      width_shift_range=0.2,\n",
        "      height_shift_range=0.2,\n",
        "      shear_range=0.2,\n",
        "      zoom_range=0.2,\n",
        "      horizontal_flip=True,\n",
        "      fill_mode='nearest')\n",
        "\n",
        "validation_datagen = ImageDataGenerator(rescale=1/255)\n",
        "\n",
        "# Flow training images in batches of 128 using train_datagen generator\n",
        "train_generator = train_datagen.flow_from_directory(\n",
        "        '/tmp/horse-or-human/',  # This is the source directory for training images\n",
        "        target_size=(300, 300),  # All images will be resized to 150x150\n",
        "        batch_size=128,\n",
        "        # Since we use binary_crossentropy loss, we need binary labels\n",
        "        class_mode='binary')\n",
        "\n",
        "# Flow training images in batches of 128 using train_datagen generator\n",
        "validation_generator = validation_datagen.flow_from_directory(\n",
        "        '/tmp/validation-horse-or-human/',  # This is the source directory for training images\n",
        "        target_size=(300, 300),  # All images will be resized to 150x150\n",
        "        batch_size=32,\n",
        "        # Since we use binary_crossentropy loss, we need binary labels\n",
        "        class_mode='binary')"
      ],
      "execution_count": 10,
      "outputs": [
        {
          "output_type": "stream",
          "text": [
            "Found 1027 images belonging to 2 classes.\n",
            "Found 256 images belonging to 2 classes.\n"
          ],
          "name": "stdout"
        }
      ]
    },
    {
      "cell_type": "code",
      "metadata": {
        "colab": {
          "base_uri": "https://localhost:8080/"
        },
        "id": "Fb1_lgobv81m",
        "outputId": "2804e518-5c6e-4366-ad68-679a072bd3db"
      },
      "source": [
        "history_2 = model.fit(\n",
        "      train_generator,\n",
        "      steps_per_epoch=8,  \n",
        "      epochs=100,\n",
        "      verbose=1,\n",
        "      validation_data = validation_generator,\n",
        "      validation_steps=8)"
      ],
      "execution_count": 11,
      "outputs": [
        {
          "output_type": "stream",
          "text": [
            "Epoch 1/100\n",
            "8/8 [==============================] - 25s 3s/step - loss: 0.7069 - accuracy: 0.5029 - val_loss: 0.6831 - val_accuracy: 0.5156\n",
            "Epoch 2/100\n",
            "8/8 [==============================] - 26s 3s/step - loss: 0.6817 - accuracy: 0.5874 - val_loss: 0.6890 - val_accuracy: 0.5000\n",
            "Epoch 3/100\n",
            "8/8 [==============================] - 26s 3s/step - loss: 0.6644 - accuracy: 0.6057 - val_loss: 0.6150 - val_accuracy: 0.6172\n",
            "Epoch 4/100\n",
            "8/8 [==============================] - 23s 3s/step - loss: 0.6557 - accuracy: 0.6614 - val_loss: 0.5767 - val_accuracy: 0.7812\n",
            "Epoch 5/100\n",
            "8/8 [==============================] - 23s 3s/step - loss: 0.5792 - accuracy: 0.7552 - val_loss: 0.6200 - val_accuracy: 0.5352\n",
            "Epoch 6/100\n",
            "8/8 [==============================] - 24s 3s/step - loss: 0.5661 - accuracy: 0.7343 - val_loss: 0.5992 - val_accuracy: 0.5977\n",
            "Epoch 7/100\n",
            "8/8 [==============================] - 24s 3s/step - loss: 0.5385 - accuracy: 0.7354 - val_loss: 0.5779 - val_accuracy: 0.6289\n",
            "Epoch 8/100\n",
            "8/8 [==============================] - 24s 3s/step - loss: 0.5476 - accuracy: 0.7321 - val_loss: 0.6569 - val_accuracy: 0.5625\n",
            "Epoch 9/100\n",
            "8/8 [==============================] - 24s 3s/step - loss: 0.5573 - accuracy: 0.7191 - val_loss: 0.6117 - val_accuracy: 0.6172\n",
            "Epoch 10/100\n",
            "8/8 [==============================] - 24s 3s/step - loss: 0.4926 - accuracy: 0.7765 - val_loss: 0.7392 - val_accuracy: 0.5508\n",
            "Epoch 11/100\n",
            "8/8 [==============================] - 23s 3s/step - loss: 0.4961 - accuracy: 0.7535 - val_loss: 0.4902 - val_accuracy: 0.7148\n",
            "Epoch 12/100\n",
            "8/8 [==============================] - 24s 3s/step - loss: 0.6155 - accuracy: 0.6983 - val_loss: 0.7833 - val_accuracy: 0.5742\n",
            "Epoch 13/100\n",
            "8/8 [==============================] - 24s 3s/step - loss: 0.4708 - accuracy: 0.7639 - val_loss: 1.0701 - val_accuracy: 0.5195\n",
            "Epoch 14/100\n",
            "8/8 [==============================] - 24s 3s/step - loss: 0.5154 - accuracy: 0.7348 - val_loss: 0.8217 - val_accuracy: 0.5742\n",
            "Epoch 15/100\n",
            "8/8 [==============================] - 23s 3s/step - loss: 0.4402 - accuracy: 0.8029 - val_loss: 0.2573 - val_accuracy: 0.8945\n",
            "Epoch 16/100\n",
            "8/8 [==============================] - 24s 3s/step - loss: 0.6233 - accuracy: 0.6954 - val_loss: 0.9527 - val_accuracy: 0.5820\n",
            "Epoch 17/100\n",
            "8/8 [==============================] - 24s 3s/step - loss: 0.4433 - accuracy: 0.8041 - val_loss: 1.0430 - val_accuracy: 0.5664\n",
            "Epoch 18/100\n",
            "8/8 [==============================] - 23s 3s/step - loss: 0.4218 - accuracy: 0.8263 - val_loss: 0.8374 - val_accuracy: 0.6484\n",
            "Epoch 19/100\n",
            "8/8 [==============================] - 26s 3s/step - loss: 0.4305 - accuracy: 0.8048 - val_loss: 0.7353 - val_accuracy: 0.6719\n",
            "Epoch 20/100\n",
            "8/8 [==============================] - 23s 3s/step - loss: 0.4334 - accuracy: 0.7907 - val_loss: 1.4230 - val_accuracy: 0.5273\n",
            "Epoch 21/100\n",
            "8/8 [==============================] - 23s 3s/step - loss: 0.4061 - accuracy: 0.8284 - val_loss: 1.6424 - val_accuracy: 0.5234\n",
            "Epoch 22/100\n",
            "8/8 [==============================] - 24s 3s/step - loss: 0.4114 - accuracy: 0.7947 - val_loss: 0.8607 - val_accuracy: 0.6562\n",
            "Epoch 23/100\n",
            "8/8 [==============================] - 23s 3s/step - loss: 0.4026 - accuracy: 0.8317 - val_loss: 0.9060 - val_accuracy: 0.6602\n",
            "Epoch 24/100\n",
            "8/8 [==============================] - 23s 3s/step - loss: 0.3637 - accuracy: 0.8411 - val_loss: 1.2461 - val_accuracy: 0.5898\n",
            "Epoch 25/100\n",
            "8/8 [==============================] - 23s 3s/step - loss: 0.3693 - accuracy: 0.8213 - val_loss: 1.5978 - val_accuracy: 0.5586\n",
            "Epoch 26/100\n",
            "8/8 [==============================] - 26s 3s/step - loss: 0.3616 - accuracy: 0.8376 - val_loss: 1.6150 - val_accuracy: 0.5547\n",
            "Epoch 27/100\n",
            "8/8 [==============================] - 23s 3s/step - loss: 0.3547 - accuracy: 0.8543 - val_loss: 1.3395 - val_accuracy: 0.5820\n",
            "Epoch 28/100\n",
            "8/8 [==============================] - 26s 3s/step - loss: 0.3474 - accuracy: 0.8564 - val_loss: 1.4225 - val_accuracy: 0.5938\n",
            "Epoch 29/100\n",
            "8/8 [==============================] - 23s 3s/step - loss: 0.3440 - accuracy: 0.8504 - val_loss: 0.8919 - val_accuracy: 0.6914\n",
            "Epoch 30/100\n",
            "8/8 [==============================] - 23s 3s/step - loss: 0.3317 - accuracy: 0.8534 - val_loss: 0.9057 - val_accuracy: 0.6875\n",
            "Epoch 31/100\n",
            "8/8 [==============================] - 24s 3s/step - loss: 0.3545 - accuracy: 0.8359 - val_loss: 1.4050 - val_accuracy: 0.5859\n",
            "Epoch 32/100\n",
            "8/8 [==============================] - 23s 3s/step - loss: 0.3448 - accuracy: 0.8485 - val_loss: 1.3608 - val_accuracy: 0.6016\n",
            "Epoch 33/100\n",
            "8/8 [==============================] - 23s 3s/step - loss: 0.4100 - accuracy: 0.8176 - val_loss: 1.1796 - val_accuracy: 0.6445\n",
            "Epoch 34/100\n",
            "8/8 [==============================] - 23s 3s/step - loss: 0.3410 - accuracy: 0.8445 - val_loss: 1.4697 - val_accuracy: 0.5742\n",
            "Epoch 35/100\n",
            "8/8 [==============================] - 23s 3s/step - loss: 0.3171 - accuracy: 0.8644 - val_loss: 1.9206 - val_accuracy: 0.5352\n",
            "Epoch 36/100\n",
            "8/8 [==============================] - 23s 3s/step - loss: 0.3535 - accuracy: 0.8445 - val_loss: 1.4267 - val_accuracy: 0.5859\n",
            "Epoch 37/100\n",
            "8/8 [==============================] - 23s 3s/step - loss: 0.3495 - accuracy: 0.8366 - val_loss: 1.7411 - val_accuracy: 0.5625\n",
            "Epoch 38/100\n",
            "8/8 [==============================] - 23s 3s/step - loss: 0.3215 - accuracy: 0.8579 - val_loss: 1.8189 - val_accuracy: 0.5703\n",
            "Epoch 39/100\n",
            "8/8 [==============================] - 23s 3s/step - loss: 0.3041 - accuracy: 0.8710 - val_loss: 1.9151 - val_accuracy: 0.5586\n",
            "Epoch 40/100\n",
            "8/8 [==============================] - 26s 3s/step - loss: 0.2856 - accuracy: 0.8803 - val_loss: 2.5130 - val_accuracy: 0.5234\n",
            "Epoch 41/100\n",
            "8/8 [==============================] - 24s 3s/step - loss: 0.2701 - accuracy: 0.8896 - val_loss: 1.7757 - val_accuracy: 0.5820\n",
            "Epoch 42/100\n",
            "8/8 [==============================] - 23s 3s/step - loss: 0.2801 - accuracy: 0.8723 - val_loss: 2.3732 - val_accuracy: 0.5273\n",
            "Epoch 43/100\n",
            "8/8 [==============================] - 23s 3s/step - loss: 0.2571 - accuracy: 0.9048 - val_loss: 1.3536 - val_accuracy: 0.6250\n",
            "Epoch 44/100\n",
            "8/8 [==============================] - 23s 3s/step - loss: 0.2671 - accuracy: 0.8923 - val_loss: 1.6711 - val_accuracy: 0.5898\n",
            "Epoch 45/100\n",
            "8/8 [==============================] - 23s 3s/step - loss: 0.2628 - accuracy: 0.8819 - val_loss: 2.1659 - val_accuracy: 0.5469\n",
            "Epoch 46/100\n",
            "8/8 [==============================] - 23s 3s/step - loss: 0.2449 - accuracy: 0.9043 - val_loss: 2.5108 - val_accuracy: 0.5273\n",
            "Epoch 47/100\n",
            "8/8 [==============================] - 23s 3s/step - loss: 0.2953 - accuracy: 0.8694 - val_loss: 1.8931 - val_accuracy: 0.5781\n",
            "Epoch 48/100\n",
            "8/8 [==============================] - 23s 3s/step - loss: 0.2553 - accuracy: 0.9000 - val_loss: 0.9934 - val_accuracy: 0.7070\n",
            "Epoch 49/100\n",
            "8/8 [==============================] - 23s 3s/step - loss: 0.3099 - accuracy: 0.8670 - val_loss: 2.0036 - val_accuracy: 0.5664\n",
            "Epoch 50/100\n",
            "8/8 [==============================] - 26s 3s/step - loss: 0.2627 - accuracy: 0.8869 - val_loss: 2.3606 - val_accuracy: 0.5547\n",
            "Epoch 51/100\n",
            "8/8 [==============================] - 23s 3s/step - loss: 0.3416 - accuracy: 0.8652 - val_loss: 1.6571 - val_accuracy: 0.6055\n",
            "Epoch 52/100\n",
            "8/8 [==============================] - 26s 3s/step - loss: 0.2518 - accuracy: 0.8971 - val_loss: 1.6985 - val_accuracy: 0.6172\n",
            "Epoch 53/100\n",
            "8/8 [==============================] - 24s 3s/step - loss: 0.2777 - accuracy: 0.8893 - val_loss: 2.1493 - val_accuracy: 0.5781\n",
            "Epoch 54/100\n",
            "8/8 [==============================] - 23s 3s/step - loss: 0.2481 - accuracy: 0.8874 - val_loss: 1.6311 - val_accuracy: 0.6367\n",
            "Epoch 55/100\n",
            "8/8 [==============================] - 26s 3s/step - loss: 0.2181 - accuracy: 0.9142 - val_loss: 2.4267 - val_accuracy: 0.5625\n",
            "Epoch 56/100\n",
            "8/8 [==============================] - 23s 3s/step - loss: 0.2214 - accuracy: 0.9054 - val_loss: 2.0088 - val_accuracy: 0.5664\n",
            "Epoch 57/100\n",
            "8/8 [==============================] - 23s 3s/step - loss: 0.2659 - accuracy: 0.8939 - val_loss: 2.0621 - val_accuracy: 0.5820\n",
            "Epoch 58/100\n",
            "8/8 [==============================] - 23s 3s/step - loss: 0.1991 - accuracy: 0.9304 - val_loss: 1.1179 - val_accuracy: 0.7109\n",
            "Epoch 59/100\n",
            "8/8 [==============================] - 23s 3s/step - loss: 0.3236 - accuracy: 0.8564 - val_loss: 2.4346 - val_accuracy: 0.5469\n",
            "Epoch 60/100\n",
            "8/8 [==============================] - 23s 3s/step - loss: 0.2096 - accuracy: 0.9228 - val_loss: 2.0906 - val_accuracy: 0.5664\n",
            "Epoch 61/100\n",
            "8/8 [==============================] - 26s 3s/step - loss: 0.1853 - accuracy: 0.9306 - val_loss: 1.8930 - val_accuracy: 0.6211\n",
            "Epoch 62/100\n",
            "8/8 [==============================] - 23s 3s/step - loss: 0.2050 - accuracy: 0.9155 - val_loss: 2.8139 - val_accuracy: 0.5352\n",
            "Epoch 63/100\n",
            "8/8 [==============================] - 23s 3s/step - loss: 0.1960 - accuracy: 0.9267 - val_loss: 2.5715 - val_accuracy: 0.5703\n",
            "Epoch 64/100\n",
            "8/8 [==============================] - 23s 3s/step - loss: 0.1975 - accuracy: 0.9148 - val_loss: 2.9442 - val_accuracy: 0.5391\n",
            "Epoch 65/100\n",
            "8/8 [==============================] - 23s 3s/step - loss: 0.2528 - accuracy: 0.8908 - val_loss: 2.2985 - val_accuracy: 0.5938\n",
            "Epoch 66/100\n",
            "8/8 [==============================] - 24s 3s/step - loss: 0.1505 - accuracy: 0.9501 - val_loss: 2.7277 - val_accuracy: 0.5391\n",
            "Epoch 67/100\n",
            "8/8 [==============================] - 24s 3s/step - loss: 0.2105 - accuracy: 0.9230 - val_loss: 2.6620 - val_accuracy: 0.5625\n",
            "Epoch 68/100\n",
            "8/8 [==============================] - 24s 3s/step - loss: 0.2921 - accuracy: 0.9028 - val_loss: 2.7219 - val_accuracy: 0.5508\n",
            "Epoch 69/100\n",
            "8/8 [==============================] - 24s 3s/step - loss: 0.1602 - accuracy: 0.9532 - val_loss: 2.5184 - val_accuracy: 0.5859\n",
            "Epoch 70/100\n",
            "8/8 [==============================] - 24s 3s/step - loss: 0.2055 - accuracy: 0.9176 - val_loss: 2.2760 - val_accuracy: 0.6094\n",
            "Epoch 71/100\n",
            "8/8 [==============================] - 26s 3s/step - loss: 0.1915 - accuracy: 0.9241 - val_loss: 1.6428 - val_accuracy: 0.6602\n",
            "Epoch 72/100\n",
            "8/8 [==============================] - 24s 3s/step - loss: 0.2374 - accuracy: 0.8986 - val_loss: 1.7717 - val_accuracy: 0.6523\n",
            "Epoch 73/100\n",
            "8/8 [==============================] - 23s 3s/step - loss: 0.1624 - accuracy: 0.9470 - val_loss: 1.8582 - val_accuracy: 0.6367\n",
            "Epoch 74/100\n",
            "8/8 [==============================] - 23s 3s/step - loss: 0.2144 - accuracy: 0.9265 - val_loss: 2.3665 - val_accuracy: 0.6016\n",
            "Epoch 75/100\n",
            "8/8 [==============================] - 23s 3s/step - loss: 0.3517 - accuracy: 0.8745 - val_loss: 2.5097 - val_accuracy: 0.5898\n",
            "Epoch 76/100\n",
            "8/8 [==============================] - 23s 3s/step - loss: 0.1930 - accuracy: 0.9265 - val_loss: 2.6533 - val_accuracy: 0.5820\n",
            "Epoch 77/100\n",
            "8/8 [==============================] - 23s 3s/step - loss: 0.1273 - accuracy: 0.9539 - val_loss: 3.5328 - val_accuracy: 0.5312\n",
            "Epoch 78/100\n",
            "8/8 [==============================] - 23s 3s/step - loss: 0.2254 - accuracy: 0.8866 - val_loss: 2.7042 - val_accuracy: 0.5977\n",
            "Epoch 79/100\n",
            "8/8 [==============================] - 23s 3s/step - loss: 0.1295 - accuracy: 0.9582 - val_loss: 1.9080 - val_accuracy: 0.6562\n",
            "Epoch 80/100\n",
            "8/8 [==============================] - 26s 3s/step - loss: 0.1636 - accuracy: 0.9283 - val_loss: 3.2657 - val_accuracy: 0.5469\n",
            "Epoch 81/100\n",
            "8/8 [==============================] - 23s 3s/step - loss: 0.2269 - accuracy: 0.9144 - val_loss: 2.5071 - val_accuracy: 0.6016\n",
            "Epoch 82/100\n",
            "8/8 [==============================] - 23s 3s/step - loss: 0.1358 - accuracy: 0.9633 - val_loss: 2.1243 - val_accuracy: 0.6289\n",
            "Epoch 83/100\n",
            "8/8 [==============================] - 23s 3s/step - loss: 0.1647 - accuracy: 0.9338 - val_loss: 2.8797 - val_accuracy: 0.5391\n",
            "Epoch 84/100\n",
            "8/8 [==============================] - 23s 3s/step - loss: 0.2165 - accuracy: 0.8954 - val_loss: 2.0731 - val_accuracy: 0.6133\n",
            "Epoch 85/100\n",
            "8/8 [==============================] - 24s 3s/step - loss: 0.1283 - accuracy: 0.9597 - val_loss: 3.3984 - val_accuracy: 0.5312\n",
            "Epoch 86/100\n",
            "8/8 [==============================] - 23s 3s/step - loss: 0.1730 - accuracy: 0.9304 - val_loss: 3.0801 - val_accuracy: 0.5742\n",
            "Epoch 87/100\n",
            "8/8 [==============================] - 23s 3s/step - loss: 0.1833 - accuracy: 0.9312 - val_loss: 2.4694 - val_accuracy: 0.6133\n",
            "Epoch 88/100\n",
            "8/8 [==============================] - 23s 3s/step - loss: 0.2569 - accuracy: 0.9214 - val_loss: 2.4579 - val_accuracy: 0.6211\n",
            "Epoch 89/100\n",
            "8/8 [==============================] - 26s 3s/step - loss: 0.1263 - accuracy: 0.9471 - val_loss: 3.0334 - val_accuracy: 0.5977\n",
            "Epoch 90/100\n",
            "8/8 [==============================] - 23s 3s/step - loss: 0.1150 - accuracy: 0.9601 - val_loss: 2.2722 - val_accuracy: 0.6367\n",
            "Epoch 91/100\n",
            "8/8 [==============================] - 26s 3s/step - loss: 0.1350 - accuracy: 0.9450 - val_loss: 3.1782 - val_accuracy: 0.5859\n",
            "Epoch 92/100\n",
            "8/8 [==============================] - 23s 3s/step - loss: 0.1728 - accuracy: 0.9311 - val_loss: 2.7209 - val_accuracy: 0.6172\n",
            "Epoch 93/100\n",
            "8/8 [==============================] - 23s 3s/step - loss: 0.1876 - accuracy: 0.9255 - val_loss: 2.1068 - val_accuracy: 0.6445\n",
            "Epoch 94/100\n",
            "8/8 [==============================] - 23s 3s/step - loss: 0.1110 - accuracy: 0.9438 - val_loss: 1.8912 - val_accuracy: 0.6641\n",
            "Epoch 95/100\n",
            "8/8 [==============================] - 23s 3s/step - loss: 0.1101 - accuracy: 0.9586 - val_loss: 5.7483 - val_accuracy: 0.5156\n",
            "Epoch 96/100\n",
            "8/8 [==============================] - 23s 3s/step - loss: 0.2400 - accuracy: 0.8879 - val_loss: 2.9203 - val_accuracy: 0.6016\n",
            "Epoch 97/100\n",
            "8/8 [==============================] - 23s 3s/step - loss: 0.0901 - accuracy: 0.9715 - val_loss: 1.5042 - val_accuracy: 0.7031\n",
            "Epoch 98/100\n",
            "8/8 [==============================] - 23s 3s/step - loss: 0.1929 - accuracy: 0.9144 - val_loss: 2.9118 - val_accuracy: 0.6094\n",
            "Epoch 99/100\n",
            "8/8 [==============================] - 23s 3s/step - loss: 0.1057 - accuracy: 0.9657 - val_loss: 2.2791 - val_accuracy: 0.6602\n",
            "Epoch 100/100\n",
            "8/8 [==============================] - 23s 3s/step - loss: 0.1673 - accuracy: 0.9340 - val_loss: 2.3533 - val_accuracy: 0.6562\n"
          ],
          "name": "stdout"
        }
      ]
    },
    {
      "cell_type": "markdown",
      "metadata": {
        "id": "ur_3UrSsSky0"
      },
      "source": [
        "we can see that the training accuracy climbs steadily in the way that we would want, but the validation fluctuated like crazy. So what we can learn from this is that the image augmentation introduces a random element to the training images but if the validation set doesn't have the same randomness, then its results can fluctuate like this. So bear in mind that you don't just need a broad set of images for training, you also need them for testing or the image augmentation won't help you very much."
      ]
    },
    {
      "cell_type": "code",
      "metadata": {
        "colab": {
          "base_uri": "https://localhost:8080/",
          "height": 544
        },
        "id": "7zNPRWOVJdOH",
        "outputId": "b7000b89-54fd-4995-de82-c80246e65596"
      },
      "source": [
        "import matplotlib.pyplot as plt\n",
        "acc = history_2.history['accuracy']\n",
        "val_acc = history_2.history['val_accuracy']\n",
        "loss = history_2.history['loss']\n",
        "val_loss = history_2.history['val_loss']\n",
        "\n",
        "epochs = range(len(acc))\n",
        "\n",
        "plt.plot(epochs, acc, 'r', label='Training accuracy')\n",
        "plt.plot(epochs, val_acc, 'b', label='Validation accuracy')\n",
        "plt.title('Training and validation accuracy')\n",
        "\n",
        "plt.figure()\n",
        "\n",
        "plt.plot(epochs, loss, 'r', label='Training Loss')\n",
        "plt.plot(epochs, val_loss, 'b', label='Validation Loss')\n",
        "plt.title('Training and validation loss')\n",
        "plt.legend()\n",
        "\n",
        "plt.show()"
      ],
      "execution_count": 14,
      "outputs": [
        {
          "output_type": "display_data",
          "data": {
            "image/png": "[encoded data removed]",
            "text/plain": [
              "<Figure size 432x288 with 1 Axes>"
            ]
          },
          "metadata": {
            "tags": [],
            "needs_background": "light"
          }
        },
        {
          "output_type": "display_data",
          "data": {
            "image/png": "[encoded data removed]",
            "text/plain": [
              "<Figure size 432x288 with 1 Axes>"
            ]
          },
          "metadata": {
            "tags": [],
            "needs_background": "light"
          }
        }
      ]
    },
    {
      "cell_type": "code",
      "metadata": {
        "id": "L9hds4_bCa3b"
      },
      "source": [
        ""
      ],
      "execution_count": null,
      "outputs": []
    }
  ]
}