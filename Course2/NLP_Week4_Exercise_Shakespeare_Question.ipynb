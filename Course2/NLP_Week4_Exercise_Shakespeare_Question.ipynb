{
  "nbformat": 4,
  "nbformat_minor": 0,
  "metadata": {
    "accelerator": "GPU",
    "colab": {
      "name": "NLP_Week4_Exercise_Shakespeare_Question.ipynb",
      "provenance": [],
      "toc_visible": true
    },
    "kernelspec": {
      "display_name": "Python 3",
      "name": "python3"
    }
  },
  "cells": [
    {
      "cell_type": "code",
      "metadata": {
        "id": "zX4Kg8DUTKWO"
      },
      "source": [
        "#@title Licensed under the Apache License, Version 2.0 (the \"License\");\n",
        "# you may not use this file except in compliance with the License.\n",
        "# You may obtain a copy of the License at\n",
        "#\n",
        "# https://www.apache.org/licenses/LICENSE-2.0\n",
        "#\n",
        "# Unless required by applicable law or agreed to in writing, software\n",
        "# distributed under the License is distributed on an \"AS IS\" BASIS,\n",
        "# WITHOUT WARRANTIES OR CONDITIONS OF ANY KIND, either express or implied.\n",
        "# See the License for the specific language governing permissions and\n",
        "# limitations under the License."
      ],
      "execution_count": 1,
      "outputs": []
    },
    {
      "cell_type": "code",
      "metadata": {
        "id": "BOwsuGQQY9OL"
      },
      "source": [
        "from tensorflow.keras.preprocessing.sequence import pad_sequences\n",
        "from tensorflow.keras.layers import Embedding, LSTM, Dense, Dropout, Bidirectional\n",
        "from tensorflow.keras.preprocessing.text import Tokenizer\n",
        "from tensorflow.keras.models import Sequential\n",
        "from tensorflow.keras.optimizers import Adam\n",
        "### YOUR CODE HERE\n",
        "# Figure out how to import regularizers\n",
        "from tensorflow.keras import regularizers\n",
        "###\n",
        "import tensorflow.keras.utils as ku \n",
        "import numpy as np "
      ],
      "execution_count": 2,
      "outputs": []
    },
    {
      "cell_type": "code",
      "metadata": {
        "id": "s_3fzG_JTZAm",
        "outputId": "3a97a0e3-7171-4907-b39f-982e8e0c4288",
        "colab": {
          "base_uri": "https://localhost:8080/"
        }
      },
      "source": [
        "tokenizer = Tokenizer()\r\n",
        "!wget --no-check-certificate \\\r\n",
        "    https://storage.googleapis.com/laurencemoroney-blog.appspot.com/sonnets.txt \\\r\n",
        "    -O /tmp/sonnets.txt\r\n",
        "data = open('/tmp/sonnets.txt').read()\r\n",
        "\r\n",
        "corpus = data.lower().split(\"\\n\")"
      ],
      "execution_count": 3,
      "outputs": [
        {
          "output_type": "stream",
          "text": [
            "--2021-01-25 16:08:19--  https://storage.googleapis.com/laurencemoroney-blog.appspot.com/sonnets.txt\n",
            "Resolving storage.googleapis.com (storage.googleapis.com)... 74.125.203.128, 74.125.204.128, 64.233.187.128, ...\n",
            "Connecting to storage.googleapis.com (storage.googleapis.com)|74.125.203.128|:443... connected.\n",
            "HTTP request sent, awaiting response... 200 OK\n",
            "Length: 93578 (91K) [text/plain]\n",
            "Saving to: ‘/tmp/sonnets.txt’\n",
            "\n",
            "\r/tmp/sonnets.txt      0%[                    ]       0  --.-KB/s               \r/tmp/sonnets.txt    100%[===================>]  91.38K  --.-KB/s    in 0.001s  \n",
            "\n",
            "2021-01-25 16:08:19 (75.7 MB/s) - ‘/tmp/sonnets.txt’ saved [93578/93578]\n",
            "\n"
          ],
          "name": "stdout"
        }
      ]
    },
    {
      "cell_type": "code",
      "metadata": {
        "id": "6eWb-UW-Tahj",
        "outputId": "7ab6d532-6270-42c0-e544-f34ef87cff60",
        "colab": {
          "base_uri": "https://localhost:8080/"
        }
      },
      "source": [
        "corpus[:2]"
      ],
      "execution_count": 4,
      "outputs": [
        {
          "output_type": "execute_result",
          "data": {
            "text/plain": [
              "['from fairest creatures we desire increase,',\n",
              " \"that thereby beauty's rose might never die,\"]"
            ]
          },
          "metadata": {
            "tags": []
          },
          "execution_count": 4
        }
      ]
    },
    {
      "cell_type": "code",
      "metadata": {
        "id": "PRnDnCW-Z7qv"
      },
      "source": [
        "tokenizer.fit_on_texts(corpus)\n",
        "total_words = len(tokenizer.word_index) + 1\n",
        "\n",
        "# create input sequences using list of tokens\n",
        "input_sequences = []\n",
        "for line in corpus:\n",
        "\ttoken_list = tokenizer.texts_to_sequences([line])[0]\n",
        "\tfor i in range(1, len(token_list)):\n",
        "\t\tn_gram_sequence = token_list[:i+1]\n",
        "\t\tinput_sequences.append(n_gram_sequence)\n",
        "\n",
        "\n",
        "# pad sequences \n",
        "max_sequence_len = max([len(x) for x in input_sequences])\n",
        "input_sequences = np.array(pad_sequences(input_sequences, maxlen=max_sequence_len, padding='pre'))\n",
        "\n",
        "# create predictors and label\n",
        "predictors, label = input_sequences[:,:-1],input_sequences[:,-1]\n",
        "\n",
        "label = ku.to_categorical(label, num_classes=total_words)"
      ],
      "execution_count": 5,
      "outputs": []
    },
    {
      "cell_type": "code",
      "metadata": {
        "colab": {
          "base_uri": "https://localhost:8080/"
        },
        "id": "w9vH8Y59ajYL",
        "outputId": "4168bd2e-ea77-4921-8365-70bcd24a7c84"
      },
      "source": [
        "model = Sequential()\n",
        "model.add(Embedding(total_words, 100, input_length=max_sequence_len-1)) # Your Embedding Layer\n",
        "model.add(LSTM(128, return_sequences=True)) # An LSTM Layer\n",
        "model.add(Dropout(0.2)) # A dropout layer\n",
        "model.add(LSTM(64)) # Another LSTM Layer\n",
        "model.add(Dense(64, activation='relu', kernel_regularizer=regularizers.l2(0.01))) # A Dense Layer including regularizers\n",
        "model.add(Dense(total_words, activation='softmax')) # A Dense Layer\n",
        "# Pick an optimizer\n",
        "model.compile(loss='categorical_crossentropy', optimizer=Adam(0.003), metrics=['accuracy']) # Pick a loss function and an optimizer\n",
        "print(model.summary())\n"
      ],
      "execution_count": 16,
      "outputs": [
        {
          "output_type": "stream",
          "text": [
            "Model: \"sequential_6\"\n",
            "_________________________________________________________________\n",
            "Layer (type)                 Output Shape              Param #   \n",
            "=================================================================\n",
            "embedding_6 (Embedding)      (None, 10, 100)           321100    \n",
            "_________________________________________________________________\n",
            "lstm_12 (LSTM)               (None, 10, 128)           117248    \n",
            "_________________________________________________________________\n",
            "dropout_6 (Dropout)          (None, 10, 128)           0         \n",
            "_________________________________________________________________\n",
            "lstm_13 (LSTM)               (None, 64)                49408     \n",
            "_________________________________________________________________\n",
            "dense_12 (Dense)             (None, 64)                4160      \n",
            "_________________________________________________________________\n",
            "dense_13 (Dense)             (None, 3211)              208715    \n",
            "=================================================================\n",
            "Total params: 700,631\n",
            "Trainable params: 700,631\n",
            "Non-trainable params: 0\n",
            "_________________________________________________________________\n",
            "None\n"
          ],
          "name": "stdout"
        }
      ]
    },
    {
      "cell_type": "code",
      "metadata": {
        "colab": {
          "base_uri": "https://localhost:8080/"
        },
        "id": "AIg2f1HBxqof",
        "outputId": "ffe3da1c-94ed-4025-b559-c965cf873e42"
      },
      "source": [
        " history = model.fit(predictors, label, epochs=100, verbose=1)"
      ],
      "execution_count": 17,
      "outputs": [
        {
          "output_type": "stream",
          "text": [
            "Epoch 1/100\n",
            "484/484 [==============================] - 11s 16ms/step - loss: 7.1773 - accuracy: 0.0199\n",
            "Epoch 2/100\n",
            "484/484 [==============================] - 8s 16ms/step - loss: 6.5570 - accuracy: 0.0226\n",
            "Epoch 3/100\n",
            "484/484 [==============================] - 8s 16ms/step - loss: 6.4637 - accuracy: 0.0217\n",
            "Epoch 4/100\n",
            "484/484 [==============================] - 8s 16ms/step - loss: 6.3677 - accuracy: 0.0286\n",
            "Epoch 5/100\n",
            "484/484 [==============================] - 8s 16ms/step - loss: 6.2974 - accuracy: 0.0292\n",
            "Epoch 6/100\n",
            "484/484 [==============================] - 8s 16ms/step - loss: 6.1967 - accuracy: 0.0272\n",
            "Epoch 7/100\n",
            "484/484 [==============================] - 8s 16ms/step - loss: 6.1283 - accuracy: 0.0310\n",
            "Epoch 8/100\n",
            "484/484 [==============================] - 8s 16ms/step - loss: 6.0673 - accuracy: 0.0352\n",
            "Epoch 9/100\n",
            "484/484 [==============================] - 8s 16ms/step - loss: 6.0034 - accuracy: 0.0399\n",
            "Epoch 10/100\n",
            "484/484 [==============================] - 8s 16ms/step - loss: 5.9269 - accuracy: 0.0457\n",
            "Epoch 11/100\n",
            "484/484 [==============================] - 8s 16ms/step - loss: 5.8650 - accuracy: 0.0471\n",
            "Epoch 12/100\n",
            "484/484 [==============================] - 8s 16ms/step - loss: 5.8234 - accuracy: 0.0488\n",
            "Epoch 13/100\n",
            "484/484 [==============================] - 8s 16ms/step - loss: 5.7694 - accuracy: 0.0537\n",
            "Epoch 14/100\n",
            "484/484 [==============================] - 7s 15ms/step - loss: 5.6940 - accuracy: 0.0576\n",
            "Epoch 15/100\n",
            "484/484 [==============================] - 8s 16ms/step - loss: 5.6220 - accuracy: 0.0655\n",
            "Epoch 16/100\n",
            "484/484 [==============================] - 8s 16ms/step - loss: 5.5587 - accuracy: 0.0682\n",
            "Epoch 17/100\n",
            "484/484 [==============================] - 8s 16ms/step - loss: 5.5126 - accuracy: 0.0727\n",
            "Epoch 18/100\n",
            "484/484 [==============================] - 7s 15ms/step - loss: 5.4440 - accuracy: 0.0735\n",
            "Epoch 19/100\n",
            "484/484 [==============================] - 7s 15ms/step - loss: 5.3863 - accuracy: 0.0787\n",
            "Epoch 20/100\n",
            "484/484 [==============================] - 8s 16ms/step - loss: 5.3096 - accuracy: 0.0847\n",
            "Epoch 21/100\n",
            "484/484 [==============================] - 7s 15ms/step - loss: 5.2644 - accuracy: 0.0856\n",
            "Epoch 22/100\n",
            "484/484 [==============================] - 7s 15ms/step - loss: 5.2253 - accuracy: 0.0918\n",
            "Epoch 23/100\n",
            "484/484 [==============================] - 7s 15ms/step - loss: 5.1639 - accuracy: 0.0989\n",
            "Epoch 24/100\n",
            "484/484 [==============================] - 8s 16ms/step - loss: 5.0898 - accuracy: 0.1047\n",
            "Epoch 25/100\n",
            "484/484 [==============================] - 8s 16ms/step - loss: 5.0382 - accuracy: 0.1106\n",
            "Epoch 26/100\n",
            "484/484 [==============================] - 8s 16ms/step - loss: 5.0085 - accuracy: 0.1099\n",
            "Epoch 27/100\n",
            "484/484 [==============================] - 8s 16ms/step - loss: 4.9453 - accuracy: 0.1193\n",
            "Epoch 28/100\n",
            "484/484 [==============================] - 8s 16ms/step - loss: 4.8747 - accuracy: 0.1310\n",
            "Epoch 29/100\n",
            "484/484 [==============================] - 8s 16ms/step - loss: 4.8518 - accuracy: 0.1274\n",
            "Epoch 30/100\n",
            "484/484 [==============================] - 8s 16ms/step - loss: 4.7836 - accuracy: 0.1391\n",
            "Epoch 31/100\n",
            "484/484 [==============================] - 8s 16ms/step - loss: 4.7541 - accuracy: 0.1362\n",
            "Epoch 32/100\n",
            "484/484 [==============================] - 8s 16ms/step - loss: 4.6856 - accuracy: 0.1449\n",
            "Epoch 33/100\n",
            "484/484 [==============================] - 8s 16ms/step - loss: 4.6582 - accuracy: 0.1447\n",
            "Epoch 34/100\n",
            "484/484 [==============================] - 8s 16ms/step - loss: 4.6173 - accuracy: 0.1482\n",
            "Epoch 35/100\n",
            "484/484 [==============================] - 7s 15ms/step - loss: 4.5809 - accuracy: 0.1564\n",
            "Epoch 36/100\n",
            "484/484 [==============================] - 7s 15ms/step - loss: 4.5844 - accuracy: 0.1542\n",
            "Epoch 37/100\n",
            "484/484 [==============================] - 7s 15ms/step - loss: 4.5215 - accuracy: 0.1651\n",
            "Epoch 38/100\n",
            "484/484 [==============================] - 7s 15ms/step - loss: 4.4418 - accuracy: 0.1752\n",
            "Epoch 39/100\n",
            "484/484 [==============================] - 7s 15ms/step - loss: 4.4559 - accuracy: 0.1682\n",
            "Epoch 40/100\n",
            "484/484 [==============================] - 7s 15ms/step - loss: 4.3815 - accuracy: 0.1757\n",
            "Epoch 41/100\n",
            "484/484 [==============================] - 7s 15ms/step - loss: 4.3435 - accuracy: 0.1793\n",
            "Epoch 42/100\n",
            "484/484 [==============================] - 7s 15ms/step - loss: 4.3117 - accuracy: 0.1867\n",
            "Epoch 43/100\n",
            "484/484 [==============================] - 7s 15ms/step - loss: 4.2791 - accuracy: 0.1818\n",
            "Epoch 44/100\n",
            "484/484 [==============================] - 7s 15ms/step - loss: 4.2244 - accuracy: 0.1965\n",
            "Epoch 45/100\n",
            "484/484 [==============================] - 7s 15ms/step - loss: 4.2170 - accuracy: 0.1971\n",
            "Epoch 46/100\n",
            "484/484 [==============================] - 7s 15ms/step - loss: 4.1904 - accuracy: 0.2026\n",
            "Epoch 47/100\n",
            "484/484 [==============================] - 7s 15ms/step - loss: 4.1648 - accuracy: 0.2084\n",
            "Epoch 48/100\n",
            "484/484 [==============================] - 7s 15ms/step - loss: 4.1033 - accuracy: 0.2147\n",
            "Epoch 49/100\n",
            "484/484 [==============================] - 7s 15ms/step - loss: 4.0907 - accuracy: 0.2160\n",
            "Epoch 50/100\n",
            "484/484 [==============================] - 7s 15ms/step - loss: 4.0426 - accuracy: 0.2206\n",
            "Epoch 51/100\n",
            "484/484 [==============================] - 8s 16ms/step - loss: 4.0028 - accuracy: 0.2258\n",
            "Epoch 52/100\n",
            "484/484 [==============================] - 8s 16ms/step - loss: 3.9969 - accuracy: 0.2286\n",
            "Epoch 53/100\n",
            "484/484 [==============================] - 8s 16ms/step - loss: 3.9887 - accuracy: 0.2295\n",
            "Epoch 54/100\n",
            "484/484 [==============================] - 8s 16ms/step - loss: 3.9402 - accuracy: 0.2259\n",
            "Epoch 55/100\n",
            "484/484 [==============================] - 7s 15ms/step - loss: 3.9444 - accuracy: 0.2328\n",
            "Epoch 56/100\n",
            "484/484 [==============================] - 7s 15ms/step - loss: 3.8857 - accuracy: 0.2385\n",
            "Epoch 57/100\n",
            "484/484 [==============================] - 8s 15ms/step - loss: 3.8589 - accuracy: 0.2435\n",
            "Epoch 58/100\n",
            "484/484 [==============================] - 7s 15ms/step - loss: 3.8130 - accuracy: 0.2440\n",
            "Epoch 59/100\n",
            "484/484 [==============================] - 7s 15ms/step - loss: 3.8123 - accuracy: 0.2445\n",
            "Epoch 60/100\n",
            "484/484 [==============================] - 7s 15ms/step - loss: 3.8168 - accuracy: 0.2527\n",
            "Epoch 61/100\n",
            "484/484 [==============================] - 7s 15ms/step - loss: 3.7819 - accuracy: 0.2534\n",
            "Epoch 62/100\n",
            "484/484 [==============================] - 7s 15ms/step - loss: 3.7669 - accuracy: 0.2525\n",
            "Epoch 63/100\n",
            "484/484 [==============================] - 7s 15ms/step - loss: 3.7443 - accuracy: 0.2617\n",
            "Epoch 64/100\n",
            "484/484 [==============================] - 7s 15ms/step - loss: 3.7220 - accuracy: 0.2614\n",
            "Epoch 65/100\n",
            "484/484 [==============================] - 7s 15ms/step - loss: 3.7041 - accuracy: 0.2665\n",
            "Epoch 66/100\n",
            "484/484 [==============================] - 7s 15ms/step - loss: 3.6639 - accuracy: 0.2725\n",
            "Epoch 67/100\n",
            "484/484 [==============================] - 7s 15ms/step - loss: 3.6381 - accuracy: 0.2759\n",
            "Epoch 68/100\n",
            "484/484 [==============================] - 7s 15ms/step - loss: 3.6096 - accuracy: 0.2789\n",
            "Epoch 69/100\n",
            "484/484 [==============================] - 7s 15ms/step - loss: 3.6499 - accuracy: 0.2710\n",
            "Epoch 70/100\n",
            "484/484 [==============================] - 8s 16ms/step - loss: 3.6032 - accuracy: 0.2859\n",
            "Epoch 71/100\n",
            "484/484 [==============================] - 8s 16ms/step - loss: 3.5806 - accuracy: 0.2802\n",
            "Epoch 72/100\n",
            "484/484 [==============================] - 8s 16ms/step - loss: 3.5540 - accuracy: 0.2851\n",
            "Epoch 73/100\n",
            "484/484 [==============================] - 8s 16ms/step - loss: 3.5567 - accuracy: 0.2895\n",
            "Epoch 74/100\n",
            "484/484 [==============================] - 8s 16ms/step - loss: 3.5278 - accuracy: 0.2869\n",
            "Epoch 75/100\n",
            "484/484 [==============================] - 8s 16ms/step - loss: 3.5018 - accuracy: 0.2969\n",
            "Epoch 76/100\n",
            "484/484 [==============================] - 8s 16ms/step - loss: 3.4905 - accuracy: 0.2955\n",
            "Epoch 77/100\n",
            "484/484 [==============================] - 8s 16ms/step - loss: 3.4939 - accuracy: 0.3001\n",
            "Epoch 78/100\n",
            "484/484 [==============================] - 7s 15ms/step - loss: 3.4549 - accuracy: 0.3003\n",
            "Epoch 79/100\n",
            "484/484 [==============================] - 8s 16ms/step - loss: 3.4437 - accuracy: 0.3034\n",
            "Epoch 80/100\n",
            "484/484 [==============================] - 8s 16ms/step - loss: 3.4390 - accuracy: 0.3005\n",
            "Epoch 81/100\n",
            "484/484 [==============================] - 7s 15ms/step - loss: 3.4167 - accuracy: 0.3020\n",
            "Epoch 82/100\n",
            "484/484 [==============================] - 7s 15ms/step - loss: 3.4539 - accuracy: 0.2977\n",
            "Epoch 83/100\n",
            "484/484 [==============================] - 7s 15ms/step - loss: 3.3962 - accuracy: 0.3144\n",
            "Epoch 84/100\n",
            "484/484 [==============================] - 7s 15ms/step - loss: 3.3627 - accuracy: 0.3204\n",
            "Epoch 85/100\n",
            "484/484 [==============================] - 7s 15ms/step - loss: 3.3322 - accuracy: 0.3247\n",
            "Epoch 86/100\n",
            "484/484 [==============================] - 7s 15ms/step - loss: 3.3642 - accuracy: 0.3153\n",
            "Epoch 87/100\n",
            "484/484 [==============================] - 7s 15ms/step - loss: 3.3171 - accuracy: 0.3246\n",
            "Epoch 88/100\n",
            "484/484 [==============================] - 7s 15ms/step - loss: 3.3358 - accuracy: 0.3218\n",
            "Epoch 89/100\n",
            "484/484 [==============================] - 7s 15ms/step - loss: 3.3327 - accuracy: 0.3229\n",
            "Epoch 90/100\n",
            "484/484 [==============================] - 7s 15ms/step - loss: 3.2927 - accuracy: 0.3293\n",
            "Epoch 91/100\n",
            "484/484 [==============================] - 7s 15ms/step - loss: 3.2788 - accuracy: 0.3282\n",
            "Epoch 92/100\n",
            "484/484 [==============================] - 8s 16ms/step - loss: 3.2621 - accuracy: 0.3357\n",
            "Epoch 93/100\n",
            "484/484 [==============================] - 8s 15ms/step - loss: 3.2484 - accuracy: 0.3378\n",
            "Epoch 94/100\n",
            "484/484 [==============================] - 7s 15ms/step - loss: 3.2355 - accuracy: 0.3423\n",
            "Epoch 95/100\n",
            "484/484 [==============================] - 8s 16ms/step - loss: 3.2503 - accuracy: 0.3351\n",
            "Epoch 96/100\n",
            "484/484 [==============================] - 7s 15ms/step - loss: 3.2257 - accuracy: 0.3356\n",
            "Epoch 97/100\n",
            "484/484 [==============================] - 7s 15ms/step - loss: 3.1888 - accuracy: 0.3453\n",
            "Epoch 98/100\n",
            "484/484 [==============================] - 7s 15ms/step - loss: 3.2145 - accuracy: 0.3421\n",
            "Epoch 99/100\n",
            "484/484 [==============================] - 7s 15ms/step - loss: 3.1995 - accuracy: 0.3445\n",
            "Epoch 100/100\n",
            "484/484 [==============================] - 7s 15ms/step - loss: 3.1830 - accuracy: 0.3466\n"
          ],
          "name": "stdout"
        }
      ]
    },
    {
      "cell_type": "code",
      "metadata": {
        "colab": {
          "base_uri": "https://localhost:8080/",
          "height": 544
        },
        "id": "1fXTEO3GJ282",
        "outputId": "0798b965-6daa-48b4-b126-5dd0fb3030cf"
      },
      "source": [
        "import matplotlib.pyplot as plt\n",
        "acc = history.history['accuracy']\n",
        "loss = history.history['loss']\n",
        "\n",
        "epochs = range(len(acc))\n",
        "\n",
        "plt.plot(epochs, acc, 'b', label='Training accuracy')\n",
        "plt.title('Training accuracy')\n",
        "\n",
        "plt.figure()\n",
        "\n",
        "plt.plot(epochs, loss, 'b', label='Training Loss')\n",
        "plt.title('Training loss')\n",
        "plt.legend()\n",
        "\n",
        "plt.show()"
      ],
      "execution_count": 18,
      "outputs": [
        {
          "output_type": "display_data",
          "data": {
            "image/png": "[encoded data removed]",
            "text/plain": [
              "<Figure size 432x288 with 1 Axes>"
            ]
          },
          "metadata": {
            "tags": [],
            "needs_background": "light"
          }
        },
        {
          "output_type": "display_data",
          "data": {
            "image/png": "[encoded data removed]",
            "text/plain": [
              "<Figure size 432x288 with 1 Axes>"
            ]
          },
          "metadata": {
            "tags": [],
            "needs_background": "light"
          }
        }
      ]
    },
    {
      "cell_type": "code",
      "metadata": {
        "colab": {
          "base_uri": "https://localhost:8080/"
        },
        "id": "6Vc6PHgxa6Hm",
        "outputId": "7a7c62c3-449f-4e52-f0fe-d41e2b9408ae"
      },
      "source": [
        "seed_text = \"Help me Obi Wan Kenobi, you're my only hope\"\n",
        "next_words = 100\n",
        "  \n",
        "for _ in range(next_words):\n",
        "\ttoken_list = tokenizer.texts_to_sequences([seed_text])[0]\n",
        "\ttoken_list = pad_sequences([token_list], maxlen=max_sequence_len-1, padding='pre')\n",
        "\tpredicted = model.predict_classes(token_list, verbose=0)\n",
        "\toutput_word = \"\"\n",
        "\tfor word, index in tokenizer.word_index.items():\n",
        "\t\tif index == predicted:\n",
        "\t\t\toutput_word = word\n",
        "\t\t\tbreak\n",
        "\tseed_text += \" \" + output_word\n",
        "print(seed_text)"
      ],
      "execution_count": 19,
      "outputs": [
        {
          "output_type": "stream",
          "text": [
            "/usr/local/lib/python3.6/dist-packages/tensorflow/python/keras/engine/sequential.py:450: UserWarning: `model.predict_classes()` is deprecated and will be removed after 2021-01-01. Please use instead:* `np.argmax(model.predict(x), axis=-1)`,   if your model does multi-class classification   (e.g. if it uses a `softmax` last-layer activation).* `(model.predict(x) > 0.5).astype(\"int32\")`,   if your model does binary classification   (e.g. if it uses a `sigmoid` last-layer activation).\n",
            "  warnings.warn('`model.predict_classes()` is deprecated and '\n"
          ],
          "name": "stderr"
        },
        {
          "output_type": "stream",
          "text": [
            "Help me Obi Wan Kenobi, you're my only hope and die before stay new grow ' upon abuse thee alone is women's night or woe thoughts replete so 'will ' must grow grown ' increase born quite gone got of hell false broken outstripp'd than beauty blot of every hand pride control not well of use truth night more ill scope by deceive blood shaken knights mark forsworn so well old world possess'd so 'will ' or rich got more up more hide of thee is confounds men will was thee dies so true young every brow holds it still more skill increase memory spends truth twain rare hell\n"
          ],
          "name": "stdout"
        }
      ]
    },
    {
      "cell_type": "code",
      "metadata": {
        "id": "AupXpy1bY9S8"
      },
      "source": [
        ""
      ],
      "execution_count": null,
      "outputs": []
    }
  ]
}