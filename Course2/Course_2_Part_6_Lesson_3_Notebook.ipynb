{
  "nbformat": 4,
  "nbformat_minor": 0,
  "metadata": {
    "accelerator": "GPU",
    "colab": {
      "name": "Course 2 - Part 6 - Lesson 3 - Notebook.ipynb",
      "provenance": [],
      "collapsed_sections": [],
      "toc_visible": true
    },
    "kernelspec": {
      "display_name": "Python 3",
      "name": "python3"
    }
  },
  "cells": [
    {
      "cell_type": "markdown",
      "metadata": {
        "id": "rX8mhOLljYeM"
      },
      "source": [
        "##### Copyright 2019 The TensorFlow Authors."
      ]
    },
    {
      "cell_type": "code",
      "metadata": {
        "cellView": "form",
        "id": "BZSlp3DAjdYf"
      },
      "source": [
        "#@title Licensed under the Apache License, Version 2.0 (the \"License\");\n",
        "# you may not use this file except in compliance with the License.\n",
        "# You may obtain a copy of the License at\n",
        "#\n",
        "# https://www.apache.org/licenses/LICENSE-2.0\n",
        "#\n",
        "# Unless required by applicable law or agreed to in writing, software\n",
        "# distributed under the License is distributed on an \"AS IS\" BASIS,\n",
        "# WITHOUT WARRANTIES OR CONDITIONS OF ANY KIND, either express or implied.\n",
        "# See the License for the specific language governing permissions and\n",
        "# limitations under the License."
      ],
      "execution_count": 1,
      "outputs": []
    },
    {
      "cell_type": "code",
      "metadata": {
        "colab": {
          "base_uri": "https://localhost:8080/"
        },
        "id": "1xJZ5glPPCRz",
        "outputId": "68de051c-b6ff-4c60-c2a2-105d79947d94"
      },
      "source": [
        "import os\n",
        "\n",
        "from tensorflow.keras import layers\n",
        "from tensorflow.keras import Model\n",
        "!wget --no-check-certificate \\\n",
        "    https://storage.googleapis.com/mledu-datasets/inception_v3_weights_tf_dim_ordering_tf_kernels_notop.h5 \\\n",
        "    -O /tmp/inception_v3_weights_tf_dim_ordering_tf_kernels_notop.h5"
      ],
      "execution_count": 2,
      "outputs": [
        {
          "output_type": "stream",
          "text": [
            "--2021-01-22 13:56:30--  https://storage.googleapis.com/mledu-datasets/inception_v3_weights_tf_dim_ordering_tf_kernels_notop.h5\n",
            "Resolving storage.googleapis.com (storage.googleapis.com)... 74.125.142.128, 173.194.202.128, 74.125.195.128, ...\n",
            "Connecting to storage.googleapis.com (storage.googleapis.com)|74.125.142.128|:443... connected.\n",
            "HTTP request sent, awaiting response... 200 OK\n",
            "Length: 87910968 (84M) [application/x-hdf]\n",
            "Saving to: ‘/tmp/inception_v3_weights_tf_dim_ordering_tf_kernels_notop.h5’\n",
            "\n",
            "/tmp/inception_v3_w 100%[===================>]  83.84M   148MB/s    in 0.6s    \n",
            "\n",
            "2021-01-22 13:56:30 (148 MB/s) - ‘/tmp/inception_v3_weights_tf_dim_ordering_tf_kernels_notop.h5’ saved [87910968/87910968]\n",
            "\n"
          ],
          "name": "stdout"
        }
      ]
    },
    {
      "cell_type": "code",
      "metadata": {
        "id": "8RGIlX0zOLKP"
      },
      "source": [
        "# keras.application으로 저장된 모델의 구조를 불러옴\r\n",
        "from tensorflow.keras.applications.inception_v3 import InceptionV3\r\n",
        "\r\n",
        "local_weights_file = '/tmp/inception_v3_weights_tf_dim_ordering_tf_kernels_notop.h5'\r\n",
        "\r\n",
        "pre_trained_model = InceptionV3(input_shape = (150, 150, 3), \r\n",
        "                                include_top = False, \r\n",
        "                                weights = None)\r\n",
        "# 모델의 weights를 불러옴\r\n",
        "pre_trained_model.load_weights(local_weights_file)"
      ],
      "execution_count": 3,
      "outputs": []
    },
    {
      "cell_type": "code",
      "metadata": {
        "id": "jE8oSGqHOXuS",
        "outputId": "53032f48-ede8-4f33-f146-626123bcaf59",
        "colab": {
          "base_uri": "https://localhost:8080/"
        }
      },
      "source": [
        "for layer in pre_trained_model.layers:\r\n",
        "  layer.trainable = False\r\n",
        "  \r\n",
        "# pre_trained_model.summary()\r\n",
        "\r\n",
        "# 모델의 특정 지점에서 DNN을 연결함\r\n",
        "last_layer = pre_trained_model.get_layer('mixed7')\r\n",
        "print('last layer output shape: ', last_layer.output_shape)\r\n",
        "last_output = last_layer.output "
      ],
      "execution_count": 4,
      "outputs": [
        {
          "output_type": "stream",
          "text": [
            "last layer output shape:  (None, 7, 7, 768)\n"
          ],
          "name": "stdout"
        }
      ]
    },
    {
      "cell_type": "code",
      "metadata": {
        "id": "BMXb913pbvFg"
      },
      "source": [
        "from tensorflow.keras.optimizers import RMSprop\n",
        "\n",
        "# 모델의 마지막 output에 DNN layer를 추가하여 원하는 결과값이 나올 수 있도록 조정\n",
        "# Flatten the output layer to 1 dimension\n",
        "x = layers.Flatten()(last_output)\n",
        "# Add a fully connected layer with 1,024 hidden units and ReLU activation\n",
        "x = layers.Dense(1024, activation='relu')(x)\n",
        "# Add a dropout rate of 0.2\n",
        "x = layers.Dropout(0.2)(x)                  \n",
        "# Add a final sigmoid layer for classification\n",
        "x = layers.Dense  (1, activation='sigmoid')(x)           \n",
        "\n",
        "model = Model( pre_trained_model.input, x) \n",
        "\n",
        "model.compile(optimizer = RMSprop(lr=0.0001), \n",
        "              loss = 'binary_crossentropy', \n",
        "              metrics = ['accuracy'])\n"
      ],
      "execution_count": 5,
      "outputs": []
    },
    {
      "cell_type": "code",
      "metadata": {
        "colab": {
          "base_uri": "https://localhost:8080/"
        },
        "id": "O4s8HckqGlnb",
        "outputId": "0ad70f89-eb16-4c12-b902-3db35290514b"
      },
      "source": [
        "!wget --no-check-certificate \\\n",
        "        https://storage.googleapis.com/mledu-datasets/cats_and_dogs_filtered.zip \\\n",
        "       -O /tmp/cats_and_dogs_filtered.zip\n",
        "\n",
        "from tensorflow.keras.preprocessing.image import ImageDataGenerator\n",
        "\n",
        "import os\n",
        "import zipfile\n",
        "\n",
        "local_zip = '//tmp/cats_and_dogs_filtered.zip'\n",
        "\n",
        "zip_ref = zipfile.ZipFile(local_zip, 'r')\n",
        "\n",
        "zip_ref.extractall('/tmp')\n",
        "zip_ref.close()\n",
        "\n",
        "# Define our example directories and files\n",
        "base_dir = '/tmp/cats_and_dogs_filtered'\n",
        "\n",
        "train_dir = os.path.join( base_dir, 'train')\n",
        "validation_dir = os.path.join( base_dir, 'validation')\n",
        "\n",
        "\n",
        "train_cats_dir = os.path.join(train_dir, 'cats') # Directory with our training cat pictures\n",
        "train_dogs_dir = os.path.join(train_dir, 'dogs') # Directory with our training dog pictures\n",
        "validation_cats_dir = os.path.join(validation_dir, 'cats') # Directory with our validation cat pictures\n",
        "validation_dogs_dir = os.path.join(validation_dir, 'dogs')# Directory with our validation dog pictures\n",
        "\n",
        "train_cat_fnames = os.listdir(train_cats_dir)\n",
        "train_dog_fnames = os.listdir(train_dogs_dir)\n",
        "\n",
        "# Add our data-augmentation parameters to ImageDataGenerator\n",
        "train_datagen = ImageDataGenerator(rescale = 1./255.,\n",
        "                                   rotation_range = 40,\n",
        "                                   width_shift_range = 0.2,\n",
        "                                   height_shift_range = 0.2,\n",
        "                                   shear_range = 0.2,\n",
        "                                   zoom_range = 0.2,\n",
        "                                   horizontal_flip = True)\n",
        "\n",
        "# Note that the validation data should not be augmented!\n",
        "test_datagen = ImageDataGenerator( rescale = 1.0/255. )\n",
        "\n",
        "# Flow training images in batches of 20 using train_datagen generator\n",
        "train_generator = train_datagen.flow_from_directory(train_dir,\n",
        "                                                    batch_size = 20,\n",
        "                                                    class_mode = 'binary', \n",
        "                                                    target_size = (150, 150))     \n",
        "\n",
        "# Flow validation images in batches of 20 using test_datagen generator\n",
        "validation_generator =  test_datagen.flow_from_directory( validation_dir,\n",
        "                                                          batch_size  = 20,\n",
        "                                                          class_mode  = 'binary', \n",
        "                                                          target_size = (150, 150))"
      ],
      "execution_count": 6,
      "outputs": [
        {
          "output_type": "stream",
          "text": [
            "--2021-01-22 13:56:33--  https://storage.googleapis.com/mledu-datasets/cats_and_dogs_filtered.zip\n",
            "Resolving storage.googleapis.com (storage.googleapis.com)... 74.125.199.128, 74.125.20.128, 74.125.195.128, ...\n",
            "Connecting to storage.googleapis.com (storage.googleapis.com)|74.125.199.128|:443... connected.\n",
            "HTTP request sent, awaiting response... 200 OK\n",
            "Length: 68606236 (65M) [application/zip]\n",
            "Saving to: ‘/tmp/cats_and_dogs_filtered.zip’\n",
            "\n",
            "/tmp/cats_and_dogs_ 100%[===================>]  65.43M   175MB/s    in 0.4s    \n",
            "\n",
            "2021-01-22 13:56:34 (175 MB/s) - ‘/tmp/cats_and_dogs_filtered.zip’ saved [68606236/68606236]\n",
            "\n",
            "Found 2000 images belonging to 2 classes.\n",
            "Found 1000 images belonging to 2 classes.\n"
          ],
          "name": "stdout"
        }
      ]
    },
    {
      "cell_type": "code",
      "metadata": {
        "colab": {
          "base_uri": "https://localhost:8080/"
        },
        "id": "Blhq2MAUeyGA",
        "outputId": "d4f53fc2-d930-4c70-adf3-7c6771720973"
      },
      "source": [
        "history = model.fit(\n",
        "            train_generator,\n",
        "            validation_data = validation_generator,\n",
        "            steps_per_epoch = 100,\n",
        "            epochs = 20,\n",
        "            validation_steps = 50,\n",
        "            verbose = 2)"
      ],
      "execution_count": 7,
      "outputs": [
        {
          "output_type": "stream",
          "text": [
            "Epoch 1/20\n",
            "100/100 - 23s - loss: 0.3579 - accuracy: 0.8590 - val_loss: 0.1084 - val_accuracy: 0.9560\n",
            "Epoch 2/20\n",
            "100/100 - 17s - loss: 0.2123 - accuracy: 0.9195 - val_loss: 0.1218 - val_accuracy: 0.9590\n",
            "Epoch 3/20\n",
            "100/100 - 17s - loss: 0.2108 - accuracy: 0.9255 - val_loss: 0.1059 - val_accuracy: 0.9600\n",
            "Epoch 4/20\n",
            "100/100 - 17s - loss: 0.1807 - accuracy: 0.9385 - val_loss: 0.1116 - val_accuracy: 0.9580\n",
            "Epoch 5/20\n",
            "100/100 - 17s - loss: 0.2054 - accuracy: 0.9335 - val_loss: 0.1328 - val_accuracy: 0.9570\n",
            "Epoch 6/20\n",
            "100/100 - 17s - loss: 0.1855 - accuracy: 0.9325 - val_loss: 0.1125 - val_accuracy: 0.9620\n",
            "Epoch 7/20\n",
            "100/100 - 17s - loss: 0.1748 - accuracy: 0.9415 - val_loss: 0.1431 - val_accuracy: 0.9600\n",
            "Epoch 8/20\n",
            "100/100 - 17s - loss: 0.1655 - accuracy: 0.9385 - val_loss: 0.1307 - val_accuracy: 0.9580\n",
            "Epoch 9/20\n",
            "100/100 - 17s - loss: 0.1550 - accuracy: 0.9415 - val_loss: 0.1130 - val_accuracy: 0.9630\n",
            "Epoch 10/20\n",
            "100/100 - 17s - loss: 0.1374 - accuracy: 0.9545 - val_loss: 0.1289 - val_accuracy: 0.9620\n",
            "Epoch 11/20\n",
            "100/100 - 17s - loss: 0.1460 - accuracy: 0.9515 - val_loss: 0.1279 - val_accuracy: 0.9630\n",
            "Epoch 12/20\n",
            "100/100 - 17s - loss: 0.1467 - accuracy: 0.9555 - val_loss: 0.1374 - val_accuracy: 0.9590\n",
            "Epoch 13/20\n",
            "100/100 - 17s - loss: 0.1431 - accuracy: 0.9530 - val_loss: 0.1475 - val_accuracy: 0.9620\n",
            "Epoch 14/20\n",
            "100/100 - 17s - loss: 0.1664 - accuracy: 0.9455 - val_loss: 0.1305 - val_accuracy: 0.9640\n",
            "Epoch 15/20\n",
            "100/100 - 17s - loss: 0.1401 - accuracy: 0.9550 - val_loss: 0.1393 - val_accuracy: 0.9660\n",
            "Epoch 16/20\n",
            "100/100 - 17s - loss: 0.1462 - accuracy: 0.9510 - val_loss: 0.1211 - val_accuracy: 0.9650\n",
            "Epoch 17/20\n",
            "100/100 - 17s - loss: 0.1485 - accuracy: 0.9530 - val_loss: 0.1383 - val_accuracy: 0.9620\n",
            "Epoch 18/20\n",
            "100/100 - 17s - loss: 0.1251 - accuracy: 0.9650 - val_loss: 0.1315 - val_accuracy: 0.9660\n",
            "Epoch 19/20\n",
            "100/100 - 17s - loss: 0.1520 - accuracy: 0.9510 - val_loss: 0.1265 - val_accuracy: 0.9670\n",
            "Epoch 20/20\n",
            "100/100 - 17s - loss: 0.1322 - accuracy: 0.9545 - val_loss: 0.1274 - val_accuracy: 0.9650\n"
          ],
          "name": "stdout"
        }
      ]
    },
    {
      "cell_type": "markdown",
      "metadata": {
        "id": "ioAV2zTlQ4bz"
      },
      "source": [
        "결과 그래프를 살펴봅니다.\r\n",
        "\r\n",
        "* Training acc는 잘 올라기고 있음\r\n",
        "* Validation acc는 처음보다 감소하기도 함\r\n",
        "  -> 학습 데이터에 과적합(overfitting)된 것으로 의심할 수 있음\r\n",
        "\r\n",
        "* 두 acc 그래프가 동일하게 상승하는 모양이 나타나면 모델의 학습이 잘 이루어지고 있다고 판단할 수 있음"
      ]
    },
    {
      "cell_type": "code",
      "metadata": {
        "colab": {
          "base_uri": "https://localhost:8080/",
          "height": 298
        },
        "id": "C2Fp6Se9rKuL",
        "outputId": "f414912d-1685-4dac-872d-803e17598211"
      },
      "source": [
        "import matplotlib.pyplot as plt\n",
        "acc = history.history['accuracy']\n",
        "val_acc = history.history['val_accuracy']\n",
        "loss = history.history['loss']\n",
        "val_loss = history.history['val_loss']\n",
        "\n",
        "epochs = range(len(acc))\n",
        "\n",
        "plt.plot(epochs, acc, 'r', label='Training accuracy')\n",
        "plt.plot(epochs, val_acc, 'b', label='Validation accuracy')\n",
        "plt.title('Training and validation accuracy')\n",
        "plt.legend(loc=0)\n",
        "plt.figure()\n",
        "\n",
        "\n",
        "plt.show()"
      ],
      "execution_count": 8,
      "outputs": [
        {
          "output_type": "display_data",
          "data": {
            "image/png": "[encoded data removed]",
            "text/plain": [
              "<Figure size 432x288 with 1 Axes>"
            ]
          },
          "metadata": {
            "tags": [],
            "needs_background": "light"
          }
        },
        {
          "output_type": "display_data",
          "data": {
            "text/plain": [
              "<Figure size 432x288 with 0 Axes>"
            ]
          },
          "metadata": {
            "tags": []
          }
        }
      ]
    },
    {
      "cell_type": "markdown",
      "metadata": {
        "id": "jboylJVMSIiM"
      },
      "source": [
        "## 실습과정\r\n",
        "\r\n",
        "1. keras.application으로 모델을 불러오고 미리 저장된 weights를 넣는다.\r\n",
        "1. 고양이 sv 개 데이터셋을 불러온다\r\n",
        "2. ImageGenerator를 사용하기 위해서 분류한다."
      ]
    },
    {
      "cell_type": "code",
      "metadata": {
        "id": "37lhGNjrSJl3",
        "outputId": "a63a8443-d9e1-4cca-90ee-2f815ea5cd70",
        "colab": {
          "base_uri": "https://localhost:8080/"
        }
      },
      "source": [
        "import os\r\n",
        "\r\n",
        "from tensorflow.keras import layers\r\n",
        "from tensorflow.keras import Model\r\n",
        "!wget --no-check-certificate \\\r\n",
        "    https://storage.googleapis.com/mledu-datasets/inception_v3_weights_tf_dim_ordering_tf_kernels_notop.h5 \\\r\n",
        "    -O /tmp/inception_v3_weights_tf_dim_ordering_tf_kernels_notop.h5"
      ],
      "execution_count": 9,
      "outputs": [
        {
          "output_type": "stream",
          "text": [
            "--2021-01-22 14:02:21--  https://storage.googleapis.com/mledu-datasets/inception_v3_weights_tf_dim_ordering_tf_kernels_notop.h5\n",
            "Resolving storage.googleapis.com (storage.googleapis.com)... 74.125.20.128, 74.125.195.128, 74.125.142.128, ...\n",
            "Connecting to storage.googleapis.com (storage.googleapis.com)|74.125.20.128|:443... connected.\n",
            "HTTP request sent, awaiting response... 200 OK\n",
            "Length: 87910968 (84M) [application/x-hdf]\n",
            "Saving to: ‘/tmp/inception_v3_weights_tf_dim_ordering_tf_kernels_notop.h5’\n",
            "\n",
            "/tmp/inception_v3_w 100%[===================>]  83.84M   180MB/s    in 0.5s    \n",
            "\n",
            "2021-01-22 14:02:21 (180 MB/s) - ‘/tmp/inception_v3_weights_tf_dim_ordering_tf_kernels_notop.h5’ saved [87910968/87910968]\n",
            "\n"
          ],
          "name": "stdout"
        }
      ]
    },
    {
      "cell_type": "code",
      "metadata": {
        "id": "lKn0N8sqSvSF"
      },
      "source": [
        "# keras.application으로 저장된 모델의 구조를 불러옴\r\n",
        "from tensorflow.keras.applications.inception_v3 import InceptionV3\r\n"
      ],
      "execution_count": 10,
      "outputs": []
    },
    {
      "cell_type": "code",
      "metadata": {
        "id": "F5CbIA-AS1Wz"
      },
      "source": [
        "pre_trained_model = InceptionV3(include_top=False, input_shape=(150, 150, 3), weights=None)\r\n",
        "pre_trained_model.load_weights('/tmp/inception_v3_weights_tf_dim_ordering_tf_kernels_notop.h5')"
      ],
      "execution_count": 11,
      "outputs": []
    },
    {
      "cell_type": "code",
      "metadata": {
        "id": "7FiXjPKBTAML"
      },
      "source": [
        "# 모델의 weights를 고정함\r\n",
        "for layer in pre_trained_model.layers:\r\n",
        "  layer.trainable = False"
      ],
      "execution_count": 12,
      "outputs": []
    },
    {
      "cell_type": "code",
      "metadata": {
        "id": "553cvPnrTeGb"
      },
      "source": [
        "# 원하는 layer의 output을 가져옴\r\n",
        "last_layer = pre_trained_model.layers[-1]\r\n",
        "output = last_layer.output\r\n",
        "\r\n",
        "# DNN layer를 연결\r\n",
        "x = layers.Flatten()(output)\r\n",
        "x = layers.Dense(512, activation='relu')(x)\r\n",
        "x = layers.Dropout(0.2)(x)\r\n",
        "x = layers.Dense(1, activation='sigmoid')(x)\r\n",
        "\r\n",
        "# 모델 완성\r\n",
        "model = Model(pre_trained_model.input, x)\r\n",
        "model.compile(optimizer=RMSprop(learning_rate=0.001), loss='binary_crossentropy', metrics=['accuracy'])"
      ],
      "execution_count": 13,
      "outputs": []
    },
    {
      "cell_type": "code",
      "metadata": {
        "id": "MRAO7yO5VOEt",
        "outputId": "46c84045-5c0e-4b6c-c57e-453164c9dbd4",
        "colab": {
          "base_uri": "https://localhost:8080/"
        }
      },
      "source": [
        "!wget --no-check-certificate \\\r\n",
        "        https://storage.googleapis.com/mledu-datasets/cats_and_dogs_filtered.zip \\\r\n",
        "       -O /tmp/cats_and_dogs_filtered.zip\r\n",
        "\r\n",
        "from tensorflow.keras.preprocessing.image import ImageDataGenerator\r\n",
        "\r\n",
        "import os\r\n",
        "import zipfile"
      ],
      "execution_count": 14,
      "outputs": [
        {
          "output_type": "stream",
          "text": [
            "--2021-01-22 14:02:23--  https://storage.googleapis.com/mledu-datasets/cats_and_dogs_filtered.zip\n",
            "Resolving storage.googleapis.com (storage.googleapis.com)... 74.125.195.128, 142.250.99.128, 74.125.142.128, ...\n",
            "Connecting to storage.googleapis.com (storage.googleapis.com)|74.125.195.128|:443... connected.\n",
            "HTTP request sent, awaiting response... 200 OK\n",
            "Length: 68606236 (65M) [application/zip]\n",
            "Saving to: ‘/tmp/cats_and_dogs_filtered.zip’\n",
            "\n",
            "/tmp/cats_and_dogs_ 100%[===================>]  65.43M   115MB/s    in 0.6s    \n",
            "\n",
            "2021-01-22 14:02:24 (115 MB/s) - ‘/tmp/cats_and_dogs_filtered.zip’ saved [68606236/68606236]\n",
            "\n"
          ],
          "name": "stdout"
        }
      ]
    },
    {
      "cell_type": "code",
      "metadata": {
        "id": "1WNcz-1hUCqi"
      },
      "source": [
        "local_zip = '//tmp/cats_and_dogs_filtered.zip'\r\n",
        "zip_ref = zipfile.ZipFile(local_zip, 'r')\r\n",
        "\r\n",
        "zip_ref.extractall('/tmp')\r\n",
        "zip_ref.close()"
      ],
      "execution_count": 15,
      "outputs": []
    },
    {
      "cell_type": "code",
      "metadata": {
        "id": "Lvg5qQ9TUuFy",
        "outputId": "c009fdbc-a454-474f-cd46-83d7d57f2e37",
        "colab": {
          "base_uri": "https://localhost:8080/"
        }
      },
      "source": [
        "base_dir = '/tmp/cats_and_dogs_filtered'\r\n",
        "print(os.listdir(base_dir))\r\n",
        "\r\n",
        "train_dir = os.path.join( base_dir, 'train')\r\n",
        "validation_dir = os.path.join( base_dir, 'validation')"
      ],
      "execution_count": 16,
      "outputs": [
        {
          "output_type": "stream",
          "text": [
            "['validation', 'train', 'vectorize.py']\n"
          ],
          "name": "stdout"
        }
      ]
    },
    {
      "cell_type": "code",
      "metadata": {
        "id": "4LnQpOOmVrcA"
      },
      "source": [
        "# ImageGenerator 정의\r\n",
        "\r\n",
        "train_datagen = ImageDataGenerator(rescale=1/255, rotation_range=70, width_shift_range=0.2, height_shift_range=0.2, zoom_range=0.2, horizontal_flip=True)\r\n",
        "test_datagen = ImageDataGenerator(rescale=1/255)"
      ],
      "execution_count": 17,
      "outputs": []
    },
    {
      "cell_type": "code",
      "metadata": {
        "id": "QzWeoZd4WjZk",
        "outputId": "662b65da-fa2e-466c-80da-b6598c130b10",
        "colab": {
          "base_uri": "https://localhost:8080/"
        }
      },
      "source": [
        "train_generator = train_datagen.flow_from_directory(train_dir, target_size=(150, 150), batch_size=64, class_mode='binary')\r\n",
        "validation_generator = test_datagen.flow_from_directory(validation_dir, target_size=(150, 150), batch_size=32, class_mode='binary')"
      ],
      "execution_count": 18,
      "outputs": [
        {
          "output_type": "stream",
          "text": [
            "Found 2000 images belonging to 2 classes.\n",
            "Found 1000 images belonging to 2 classes.\n"
          ],
          "name": "stdout"
        }
      ]
    },
    {
      "cell_type": "code",
      "metadata": {
        "id": "Y0UEfEhMXD9Z",
        "outputId": "5b57c119-27e3-458e-f212-fe48d59a4368",
        "colab": {
          "base_uri": "https://localhost:8080/"
        }
      },
      "source": [
        "# for steps_per_epoch\r\n",
        "2000 / 64, 1000/ 32"
      ],
      "execution_count": 19,
      "outputs": [
        {
          "output_type": "execute_result",
          "data": {
            "text/plain": [
              "(31.25, 31.25)"
            ]
          },
          "metadata": {
            "tags": []
          },
          "execution_count": 19
        }
      ]
    },
    {
      "cell_type": "code",
      "metadata": {
        "id": "matPtOtcXIBI",
        "outputId": "1b247905-2f8b-40aa-b20f-0d4a65478b1c",
        "colab": {
          "base_uri": "https://localhost:8080/"
        }
      },
      "source": [
        "histotry = model.fit_generator(train_generator, steps_per_epoch=32, epochs=10, verbose=2, validation_data=validation_generator)"
      ],
      "execution_count": 20,
      "outputs": [
        {
          "output_type": "stream",
          "text": [
            "/usr/local/lib/python3.6/dist-packages/tensorflow/python/keras/engine/training.py:1844: UserWarning: `Model.fit_generator` is deprecated and will be removed in a future version. Please use `Model.fit`, which supports generators.\n",
            "  warnings.warn('`Model.fit_generator` is deprecated and '\n"
          ],
          "name": "stderr"
        },
        {
          "output_type": "stream",
          "text": [
            "Epoch 1/10\n",
            "32/32 - 22s - loss: 13.5376 - accuracy: 0.7500 - val_loss: 1.0829 - val_accuracy: 0.9340\n",
            "Epoch 2/10\n",
            "32/32 - 16s - loss: 2.9742 - accuracy: 0.8280 - val_loss: 0.7182 - val_accuracy: 0.9360\n",
            "Epoch 3/10\n",
            "32/32 - 17s - loss: 1.4440 - accuracy: 0.8645 - val_loss: 0.2692 - val_accuracy: 0.9590\n",
            "Epoch 4/10\n",
            "32/32 - 16s - loss: 0.5933 - accuracy: 0.8240 - val_loss: 0.2895 - val_accuracy: 0.8620\n",
            "Epoch 5/10\n",
            "32/32 - 16s - loss: 0.6003 - accuracy: 0.8195 - val_loss: 0.1174 - val_accuracy: 0.9550\n",
            "Epoch 6/10\n",
            "32/32 - 16s - loss: 0.7169 - accuracy: 0.8385 - val_loss: 0.3858 - val_accuracy: 0.9120\n",
            "Epoch 7/10\n",
            "32/32 - 16s - loss: 0.3670 - accuracy: 0.8700 - val_loss: 0.2671 - val_accuracy: 0.9080\n",
            "Epoch 8/10\n",
            "32/32 - 16s - loss: 0.3472 - accuracy: 0.8715 - val_loss: 0.1161 - val_accuracy: 0.9520\n",
            "Epoch 9/10\n",
            "32/32 - 16s - loss: 0.4632 - accuracy: 0.8685 - val_loss: 0.1145 - val_accuracy: 0.9550\n",
            "Epoch 10/10\n",
            "32/32 - 16s - loss: 0.3050 - accuracy: 0.8965 - val_loss: 0.1142 - val_accuracy: 0.9600\n"
          ],
          "name": "stdout"
        }
      ]
    },
    {
      "cell_type": "code",
      "metadata": {
        "id": "KkIpE9DZX-IK",
        "outputId": "9a45e7b3-1d51-4b6e-9044-8f6a63d72b3f",
        "colab": {
          "base_uri": "https://localhost:8080/",
          "height": 298
        }
      },
      "source": [
        "import matplotlib.pyplot as plt\r\n",
        "acc = history.history['accuracy']\r\n",
        "val_acc = history.history['val_accuracy']\r\n",
        "loss = history.history['loss']\r\n",
        "val_loss = history.history['val_loss']\r\n",
        "\r\n",
        "epochs = range(len(acc))\r\n",
        "\r\n",
        "plt.plot(epochs, acc, 'r',label='Training accuracy')\r\n",
        "plt.plot(epochs, val_acc, 'b', label='Validation accuracy')\r\n",
        "plt.title('Training and validation accuracy')\r\n",
        "plt.legend(loc=0)\r\n",
        "plt.figure()\r\n",
        "\r\n",
        "\r\n",
        "plt.show()"
      ],
      "execution_count": 21,
      "outputs": [
        {
          "output_type": "display_data",
          "data": {
            "image/png": "[encoded data removed]",
            "text/plain": [
              "<Figure size 432x288 with 1 Axes>"
            ]
          },
          "metadata": {
            "tags": [],
            "needs_background": "light"
          }
        },
        {
          "output_type": "display_data",
          "data": {
            "text/plain": [
              "<Figure size 432x288 with 0 Axes>"
            ]
          },
          "metadata": {
            "tags": []
          }
        }
      ]
    },
    {
      "cell_type": "code",
      "metadata": {
        "id": "izVlaNQJYUm_"
      },
      "source": [
        ""
      ],
      "execution_count": 21,
      "outputs": []
    }
  ]
}