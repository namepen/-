{
  "nbformat": 4,
  "nbformat_minor": 0,
  "metadata": {
    "accelerator": "GPU",
    "colab": {
      "name": "Course 3 - Week 2 - Lesson 2.ipynb",
      "provenance": [],
      "collapsed_sections": [],
      "toc_visible": true
    },
    "kernelspec": {
      "display_name": "Python 3",
      "name": "python3"
    }
  },
  "cells": [
    {
      "cell_type": "code",
      "metadata": {
        "id": "zX4Kg8DUTKWO"
      },
      "source": [
        "#@title Licensed under the Apache License, Version 2.0 (the \"License\");\n",
        "# you may not use this file except in compliance with the License.\n",
        "# You may obtain a copy of the License at\n",
        "#\n",
        "# https://www.apache.org/licenses/LICENSE-2.0\n",
        "#\n",
        "# Unless required by applicable law or agreed to in writing, software\n",
        "# distributed under the License is distributed on an \"AS IS\" BASIS,\n",
        "# WITHOUT WARRANTIES OR CONDITIONS OF ANY KIND, either express or implied.\n",
        "# See the License for the specific language governing permissions and\n",
        "# limitations under the License."
      ],
      "execution_count": null,
      "outputs": []
    },
    {
      "cell_type": "markdown",
      "metadata": {
        "id": "view-in-github"
      },
      "source": [
        "<a href=\"https://colab.research.google.com/github/lmoroney/dlaicourse/blob/master/TensorFlow%20In%20Practice/Course%203%20-%20NLP/Course%203%20-%20Week%202%20-%20Lesson%202.ipynb\" target=\"_parent\"><img src=\"https://colab.research.google.com/assets/colab-badge.svg\" alt=\"Open In Colab\"/></a>"
      ]
    },
    {
      "cell_type": "code",
      "metadata": {
        "id": "4gs9htvM7n_x"
      },
      "source": [
        "# Run this to ensure TensorFlow 2.x is used\n",
        "try:\n",
        "  # %tensorflow_version only exists in Colab.\n",
        "  %tensorflow_version 2.x\n",
        "except Exception:\n",
        "  pass"
      ],
      "execution_count": 1,
      "outputs": []
    },
    {
      "cell_type": "code",
      "metadata": {
        "id": "XYYDvoskkE61"
      },
      "source": [
        "import json\n",
        "import tensorflow as tf\n",
        "\n",
        "from tensorflow.keras.preprocessing.text import Tokenizer\n",
        "from tensorflow.keras.preprocessing.sequence import pad_sequences"
      ],
      "execution_count": 2,
      "outputs": []
    },
    {
      "cell_type": "code",
      "metadata": {
        "id": "0eJSTTYnkJQd"
      },
      "source": [
        "vocab_size = 10000\n",
        "embedding_dim = 16\n",
        "max_length = 100\n",
        "trunc_type='post'\n",
        "padding_type='post'\n",
        "oov_tok = \"<OOV>\"\n",
        "training_size = 20000\n"
      ],
      "execution_count": 3,
      "outputs": []
    },
    {
      "cell_type": "code",
      "metadata": {
        "colab": {
          "base_uri": "https://localhost:8080/"
        },
        "id": "BQVuQrZNkPn9",
        "outputId": "66ad8750-1c04-476d-ce71-f4999c41990f"
      },
      "source": [
        "!wget --no-check-certificate \\\n",
        "    https://storage.googleapis.com/laurencemoroney-blog.appspot.com/sarcasm.json \\\n",
        "    -O /tmp/sarcasm.json\n"
      ],
      "execution_count": 4,
      "outputs": [
        {
          "output_type": "stream",
          "text": [
            "--2021-01-25 07:30:56--  https://storage.googleapis.com/laurencemoroney-blog.appspot.com/sarcasm.json\n",
            "Resolving storage.googleapis.com (storage.googleapis.com)... 172.217.7.144, 172.217.7.176, 172.217.5.240, ...\n",
            "Connecting to storage.googleapis.com (storage.googleapis.com)|172.217.7.144|:443... connected.\n",
            "HTTP request sent, awaiting response... 200 OK\n",
            "Length: 5643545 (5.4M) [application/json]\n",
            "Saving to: ‘/tmp/sarcasm.json’\n",
            "\n",
            "\r/tmp/sarcasm.json     0%[                    ]       0  --.-KB/s               \r/tmp/sarcasm.json   100%[===================>]   5.38M  --.-KB/s    in 0.05s   \n",
            "\n",
            "2021-01-25 07:30:56 (107 MB/s) - ‘/tmp/sarcasm.json’ saved [5643545/5643545]\n",
            "\n"
          ],
          "name": "stdout"
        }
      ]
    },
    {
      "cell_type": "code",
      "metadata": {
        "id": "oaLaaqhNkUPd"
      },
      "source": [
        "with open(\"/tmp/sarcasm.json\", 'r') as f:\n",
        "    datastore = json.load(f)\n",
        "\n",
        "sentences = []\n",
        "labels = []\n",
        "\n",
        "for item in datastore:\n",
        "    sentences.append(item['headline'])\n",
        "    labels.append(item['is_sarcastic'])"
      ],
      "execution_count": 8,
      "outputs": []
    },
    {
      "cell_type": "code",
      "metadata": {
        "id": "S1sD-7v0kYWk"
      },
      "source": [
        "training_sentences = sentences[0:training_size]\n",
        "testing_sentences = sentences[training_size:]\n",
        "training_labels = labels[0:training_size]\n",
        "testing_labels = labels[training_size:]"
      ],
      "execution_count": 9,
      "outputs": []
    },
    {
      "cell_type": "code",
      "metadata": {
        "id": "3u8UB0MCkZ5N"
      },
      "source": [
        "# Sentences to sequences\n",
        "tokenizer = Tokenizer(num_words=vocab_size, oov_token=oov_tok)\n",
        "tokenizer.fit_on_texts(training_sentences)\n",
        "\n",
        "word_index = tokenizer.word_index\n",
        "\n",
        "training_sequences = tokenizer.texts_to_sequences(training_sentences)\n",
        "training_padded = pad_sequences(training_sequences, maxlen=max_length, padding=padding_type, truncating=trunc_type)\n",
        "\n",
        "testing_sequences = tokenizer.texts_to_sequences(testing_sentences)\n",
        "testing_padded = pad_sequences(testing_sequences, maxlen=max_length, padding=padding_type, truncating=trunc_type)"
      ],
      "execution_count": 11,
      "outputs": []
    },
    {
      "cell_type": "code",
      "metadata": {
        "id": "GrAlWBKf99Ya"
      },
      "source": [
        "# Need this block to get it to work with TensorFlow 2.x\n",
        "import numpy as np\n",
        "training_padded = np.array(training_padded)\n",
        "training_labels = np.array(training_labels)\n",
        "testing_padded = np.array(testing_padded)\n",
        "testing_labels = np.array(testing_labels)"
      ],
      "execution_count": 12,
      "outputs": []
    },
    {
      "cell_type": "code",
      "metadata": {
        "id": "FufaT4vlkiDE"
      },
      "source": [
        "model = tf.keras.Sequential([\n",
        "    tf.keras.layers.Embedding(vocab_size, embedding_dim, input_length=max_length),\n",
        "    tf.keras.layers.GlobalAveragePooling1D(),\n",
        "    tf.keras.layers.Dense(24, activation='relu'),\n",
        "    tf.keras.layers.Dense(1, activation='sigmoid')\n",
        "])\n",
        "model.compile(loss='binary_crossentropy',optimizer='adam',metrics=['accuracy'])"
      ],
      "execution_count": 13,
      "outputs": []
    },
    {
      "cell_type": "code",
      "metadata": {
        "colab": {
          "base_uri": "https://localhost:8080/"
        },
        "id": "XfDt1hmYkiys",
        "outputId": "867967e1-7f61-4d5e-c907-32d7cc0e3d7e"
      },
      "source": [
        "model.summary()\n"
      ],
      "execution_count": 14,
      "outputs": [
        {
          "output_type": "stream",
          "text": [
            "Model: \"sequential\"\n",
            "_________________________________________________________________\n",
            "Layer (type)                 Output Shape              Param #   \n",
            "=================================================================\n",
            "embedding (Embedding)        (None, 100, 16)           160000    \n",
            "_________________________________________________________________\n",
            "global_average_pooling1d (Gl (None, 16)                0         \n",
            "_________________________________________________________________\n",
            "dense (Dense)                (None, 24)                408       \n",
            "_________________________________________________________________\n",
            "dense_1 (Dense)              (None, 1)                 25        \n",
            "=================================================================\n",
            "Total params: 160,433\n",
            "Trainable params: 160,433\n",
            "Non-trainable params: 0\n",
            "_________________________________________________________________\n"
          ],
          "name": "stdout"
        }
      ]
    },
    {
      "cell_type": "code",
      "metadata": {
        "colab": {
          "base_uri": "https://localhost:8080/"
        },
        "id": "2DTKQFf1kkyc",
        "outputId": "436e30d6-4733-4170-d58a-449923a08dad"
      },
      "source": [
        "num_epochs = 30\n",
        "history = model.fit(training_padded, training_labels, epochs=num_epochs, validation_data=(testing_padded, testing_labels), verbose=2)"
      ],
      "execution_count": 15,
      "outputs": [
        {
          "output_type": "stream",
          "text": [
            "Epoch 1/30\n",
            "625/625 - 5s - loss: 0.6625 - accuracy: 0.5914 - val_loss: 0.5689 - val_accuracy: 0.7898\n",
            "Epoch 2/30\n",
            "625/625 - 2s - loss: 0.4233 - accuracy: 0.8311 - val_loss: 0.3806 - val_accuracy: 0.8402\n",
            "Epoch 3/30\n",
            "625/625 - 2s - loss: 0.3078 - accuracy: 0.8773 - val_loss: 0.3733 - val_accuracy: 0.8337\n",
            "Epoch 4/30\n",
            "625/625 - 2s - loss: 0.2565 - accuracy: 0.9008 - val_loss: 0.3494 - val_accuracy: 0.8523\n",
            "Epoch 5/30\n",
            "625/625 - 2s - loss: 0.2215 - accuracy: 0.9148 - val_loss: 0.3421 - val_accuracy: 0.8551\n",
            "Epoch 6/30\n",
            "625/625 - 2s - loss: 0.1943 - accuracy: 0.9248 - val_loss: 0.3511 - val_accuracy: 0.8539\n",
            "Epoch 7/30\n",
            "625/625 - 2s - loss: 0.1708 - accuracy: 0.9359 - val_loss: 0.3811 - val_accuracy: 0.8439\n",
            "Epoch 8/30\n",
            "625/625 - 2s - loss: 0.1529 - accuracy: 0.9441 - val_loss: 0.4102 - val_accuracy: 0.8365\n",
            "Epoch 9/30\n",
            "625/625 - 2s - loss: 0.1391 - accuracy: 0.9494 - val_loss: 0.4033 - val_accuracy: 0.8496\n",
            "Epoch 10/30\n",
            "625/625 - 2s - loss: 0.1251 - accuracy: 0.9550 - val_loss: 0.4177 - val_accuracy: 0.8509\n",
            "Epoch 11/30\n",
            "625/625 - 2s - loss: 0.1141 - accuracy: 0.9603 - val_loss: 0.4398 - val_accuracy: 0.8489\n",
            "Epoch 12/30\n",
            "625/625 - 2s - loss: 0.1024 - accuracy: 0.9648 - val_loss: 0.4657 - val_accuracy: 0.8460\n",
            "Epoch 13/30\n",
            "625/625 - 2s - loss: 0.0932 - accuracy: 0.9693 - val_loss: 0.5174 - val_accuracy: 0.8328\n",
            "Epoch 14/30\n",
            "625/625 - 2s - loss: 0.0856 - accuracy: 0.9713 - val_loss: 0.5216 - val_accuracy: 0.8402\n",
            "Epoch 15/30\n",
            "625/625 - 2s - loss: 0.0778 - accuracy: 0.9754 - val_loss: 0.5510 - val_accuracy: 0.8375\n",
            "Epoch 16/30\n",
            "625/625 - 2s - loss: 0.0743 - accuracy: 0.9754 - val_loss: 0.5779 - val_accuracy: 0.8365\n",
            "Epoch 17/30\n",
            "625/625 - 2s - loss: 0.0667 - accuracy: 0.9781 - val_loss: 0.6323 - val_accuracy: 0.8286\n",
            "Epoch 18/30\n",
            "625/625 - 2s - loss: 0.0616 - accuracy: 0.9796 - val_loss: 0.6331 - val_accuracy: 0.8319\n",
            "Epoch 19/30\n",
            "625/625 - 2s - loss: 0.0542 - accuracy: 0.9837 - val_loss: 0.6652 - val_accuracy: 0.8289\n",
            "Epoch 20/30\n",
            "625/625 - 2s - loss: 0.0505 - accuracy: 0.9852 - val_loss: 0.7270 - val_accuracy: 0.8265\n",
            "Epoch 21/30\n",
            "625/625 - 2s - loss: 0.0469 - accuracy: 0.9858 - val_loss: 0.7374 - val_accuracy: 0.8259\n",
            "Epoch 22/30\n",
            "625/625 - 2s - loss: 0.0429 - accuracy: 0.9875 - val_loss: 0.7694 - val_accuracy: 0.8240\n",
            "Epoch 23/30\n",
            "625/625 - 2s - loss: 0.0392 - accuracy: 0.9882 - val_loss: 0.8023 - val_accuracy: 0.8219\n",
            "Epoch 24/30\n",
            "625/625 - 2s - loss: 0.0355 - accuracy: 0.9903 - val_loss: 0.8874 - val_accuracy: 0.8155\n",
            "Epoch 25/30\n",
            "625/625 - 2s - loss: 0.0337 - accuracy: 0.9897 - val_loss: 0.8792 - val_accuracy: 0.8204\n",
            "Epoch 26/30\n",
            "625/625 - 2s - loss: 0.0322 - accuracy: 0.9909 - val_loss: 0.9261 - val_accuracy: 0.8188\n",
            "Epoch 27/30\n",
            "625/625 - 2s - loss: 0.0287 - accuracy: 0.9920 - val_loss: 0.9395 - val_accuracy: 0.8177\n",
            "Epoch 28/30\n",
            "625/625 - 2s - loss: 0.0268 - accuracy: 0.9922 - val_loss: 1.0034 - val_accuracy: 0.8120\n",
            "Epoch 29/30\n",
            "625/625 - 2s - loss: 0.0236 - accuracy: 0.9937 - val_loss: 1.0525 - val_accuracy: 0.8149\n",
            "Epoch 30/30\n",
            "625/625 - 2s - loss: 0.0251 - accuracy: 0.9923 - val_loss: 1.0820 - val_accuracy: 0.8113\n"
          ],
          "name": "stdout"
        }
      ]
    },
    {
      "cell_type": "code",
      "metadata": {
        "colab": {
          "base_uri": "https://localhost:8080/",
          "height": 541
        },
        "id": "2HYfBKXjkmU8",
        "outputId": "fe206620-6adf-4048-f636-c9d15e461c4d"
      },
      "source": [
        "import matplotlib.pyplot as plt\n",
        "\n",
        "\n",
        "def plot_graphs(history, string):\n",
        "  plt.plot(history.history[string])\n",
        "  plt.plot(history.history['val_'+string])\n",
        "  plt.xlabel(\"Epochs\")\n",
        "  plt.ylabel(string)\n",
        "  plt.legend([string, 'val_'+string])\n",
        "  plt.show()\n",
        "  \n",
        "plot_graphs(history, \"accuracy\")\n",
        "plot_graphs(history, \"loss\")"
      ],
      "execution_count": 16,
      "outputs": [
        {
          "output_type": "display_data",
          "data": {
            "image/png": "[encoded data removed]",
            "text/plain": [
              "<Figure size 432x288 with 1 Axes>"
            ]
          },
          "metadata": {
            "tags": [],
            "needs_background": "light"
          }
        },
        {
          "output_type": "display_data",
          "data": {
            "image/png": "[encoded data removed]",
            "text/plain": [
              "<Figure size 432x288 with 1 Axes>"
            ]
          },
          "metadata": {
            "tags": [],
            "needs_background": "light"
          }
        }
      ]
    },
    {
      "cell_type": "code",
      "metadata": {
        "colab": {
          "base_uri": "https://localhost:8080/"
        },
        "id": "7SBdAZAenvzL",
        "outputId": "b8ee0a17-4839-416e-ff3f-a71f30858a13"
      },
      "source": [
        "reverse_word_index = dict([(value, key) for (key, value) in word_index.items()])\n",
        "\n",
        "def decode_sentence(text):\n",
        "    return ' '.join([reverse_word_index.get(i, '?') for i in text])\n",
        "\n",
        "print(decode_sentence(training_padded[0]))\n",
        "print(training_sentences[2])\n",
        "print(labels[2])"
      ],
      "execution_count": 17,
      "outputs": [
        {
          "output_type": "stream",
          "text": [
            "former <OOV> store clerk sues over secret 'black <OOV> for minority shoppers ? ? ? ? ? ? ? ? ? ? ? ? ? ? ? ? ? ? ? ? ? ? ? ? ? ? ? ? ? ? ? ? ? ? ? ? ? ? ? ? ? ? ? ? ? ? ? ? ? ? ? ? ? ? ? ? ? ? ? ? ? ? ? ? ? ? ? ? ? ? ? ? ? ? ? ? ? ? ? ? ? ? ? ? ? ? ? ?\n",
            "mom starting to fear son's web series closest thing she will have to grandchild\n",
            "1\n"
          ],
          "name": "stdout"
        }
      ]
    },
    {
      "cell_type": "code",
      "metadata": {
        "colab": {
          "base_uri": "https://localhost:8080/"
        },
        "id": "c9MqihtEkzQ9",
        "outputId": "8ad71dd7-daf7-499d-e3c0-db7af9e194aa"
      },
      "source": [
        "e = model.layers[0]\n",
        "weights = e.get_weights()[0]\n",
        "print(weights.shape) # shape: (vocab_size, embedding_dim)\n"
      ],
      "execution_count": 18,
      "outputs": [
        {
          "output_type": "stream",
          "text": [
            "(10000, 16)\n"
          ],
          "name": "stdout"
        }
      ]
    },
    {
      "cell_type": "code",
      "metadata": {
        "id": "LoBXVffknldU"
      },
      "source": [
        "import io\n",
        "\n",
        "out_v = io.open('vecs.tsv', 'w', encoding='utf-8')\n",
        "out_m = io.open('meta.tsv', 'w', encoding='utf-8')\n",
        "for word_num in range(1, vocab_size):\n",
        "  word = reverse_word_index[word_num]\n",
        "  embeddings = weights[word_num]\n",
        "  out_m.write(word + \"\\n\")\n",
        "  out_v.write('\\t'.join([str(x) for x in embeddings]) + \"\\n\")\n",
        "out_v.close()\n",
        "out_m.close()"
      ],
      "execution_count": 19,
      "outputs": []
    },
    {
      "cell_type": "code",
      "metadata": {
        "id": "U4eZ5HtVnnEE"
      },
      "source": [
        "try:\n",
        "  from google.colab import files\n",
        "except ImportError:\n",
        "  pass\n",
        "else:\n",
        "  files.download('vecs.tsv')\n",
        "  files.download('meta.tsv')"
      ],
      "execution_count": null,
      "outputs": []
    },
    {
      "cell_type": "code",
      "metadata": {
        "colab": {
          "base_uri": "https://localhost:8080/"
        },
        "id": "cG8-ArY-qDcz",
        "outputId": "13fe930f-9816-4978-9212-cc0531911477"
      },
      "source": [
        "sentence = [\"granny starting to fear spiders in the garden might be real\", \"game of thrones season finale showing this sunday night\"]\n",
        "sequences = tokenizer.texts_to_sequences(sentence)\n",
        "padded = pad_sequences(sequences, maxlen=max_length, padding=padding_type, truncating=trunc_type)\n",
        "print(model.predict(padded))\n",
        "#Predict labels\n",
        "print(np.argmax(model.predict(padded)))"
      ],
      "execution_count": 21,
      "outputs": [
        {
          "output_type": "stream",
          "text": [
            "[[9.311110e-01]\n",
            " [5.220371e-05]]\n",
            "0\n"
          ],
          "name": "stdout"
        }
      ]
    },
    {
      "cell_type": "markdown",
      "metadata": {
        "id": "X1RssRVJfsNn"
      },
      "source": [
        "## Hyper parameters 조정"
      ]
    },
    {
      "cell_type": "markdown",
      "metadata": {
        "id": "otSWJmP-f_ip"
      },
      "source": [
        "### 1. Reduce vocab_size"
      ]
    },
    {
      "cell_type": "code",
      "metadata": {
        "id": "CP2YCt6vfxyV",
        "outputId": "2f166e0a-e88e-4e0b-87e7-953837495693",
        "colab": {
          "base_uri": "https://localhost:8080/"
        }
      },
      "source": [
        "vocab_size =  3000 #10000\r\n",
        "embedding_dim = 16\r\n",
        "max_length = 100\r\n",
        "trunc_type='post'\r\n",
        "padding_type='post'\r\n",
        "oov_tok = \"<OOV>\"\r\n",
        "training_size = 20000\r\n",
        "\r\n",
        "# Sentences to sequences\r\n",
        "tokenizer = Tokenizer(num_words=vocab_size, oov_token=oov_tok)\r\n",
        "tokenizer.fit_on_texts(training_sentences)\r\n",
        "\r\n",
        "word_index = tokenizer.word_index\r\n",
        "\r\n",
        "training_sequences = tokenizer.texts_to_sequences(training_sentences)\r\n",
        "training_padded = pad_sequences(training_sequences, maxlen=max_length, padding=padding_type, truncating=trunc_type)\r\n",
        "\r\n",
        "testing_sequences = tokenizer.texts_to_sequences(testing_sentences)\r\n",
        "testing_padded = pad_sequences(testing_sequences, maxlen=max_length, padding=padding_type, truncating=trunc_type)\r\n",
        "\r\n",
        "# Need this block to get it to work with TensorFlow 2.x\r\n",
        "import numpy as np\r\n",
        "training_padded = np.array(training_padded)\r\n",
        "training_labels = np.array(training_labels)\r\n",
        "testing_padded = np.array(testing_padded)\r\n",
        "testing_labels = np.array(testing_labels)\r\n",
        "\r\n",
        "model = tf.keras.Sequential([\r\n",
        "    tf.keras.layers.Embedding(vocab_size, embedding_dim, input_length=max_length),\r\n",
        "    tf.keras.layers.GlobalAveragePooling1D(),\r\n",
        "    tf.keras.layers.Dense(24, activation='relu'),\r\n",
        "    tf.keras.layers.Dense(1, activation='sigmoid')\r\n",
        "])\r\n",
        "model.compile(loss='binary_crossentropy',optimizer='adam',metrics=['accuracy'])\r\n",
        "\r\n",
        "num_epochs = 30\r\n",
        "history2 = model.fit(training_padded, training_labels, epochs=num_epochs, validation_data=(testing_padded, testing_labels), verbose=2)"
      ],
      "execution_count": 22,
      "outputs": [
        {
          "output_type": "stream",
          "text": [
            "Epoch 1/30\n",
            "625/625 - 2s - loss: 0.6597 - accuracy: 0.6030 - val_loss: 0.5656 - val_accuracy: 0.7250\n",
            "Epoch 2/30\n",
            "625/625 - 2s - loss: 0.4391 - accuracy: 0.8117 - val_loss: 0.4037 - val_accuracy: 0.8217\n",
            "Epoch 3/30\n",
            "625/625 - 2s - loss: 0.3484 - accuracy: 0.8501 - val_loss: 0.3716 - val_accuracy: 0.8359\n",
            "Epoch 4/30\n",
            "625/625 - 2s - loss: 0.3154 - accuracy: 0.8656 - val_loss: 0.3626 - val_accuracy: 0.8420\n",
            "Epoch 5/30\n",
            "625/625 - 2s - loss: 0.2947 - accuracy: 0.8759 - val_loss: 0.3652 - val_accuracy: 0.8368\n",
            "Epoch 6/30\n",
            "625/625 - 2s - loss: 0.2828 - accuracy: 0.8808 - val_loss: 0.3677 - val_accuracy: 0.8429\n",
            "Epoch 7/30\n",
            "625/625 - 2s - loss: 0.2730 - accuracy: 0.8850 - val_loss: 0.3692 - val_accuracy: 0.8380\n",
            "Epoch 8/30\n",
            "625/625 - 2s - loss: 0.2667 - accuracy: 0.8889 - val_loss: 0.3776 - val_accuracy: 0.8343\n",
            "Epoch 9/30\n",
            "625/625 - 1s - loss: 0.2615 - accuracy: 0.8895 - val_loss: 0.3815 - val_accuracy: 0.8314\n",
            "Epoch 10/30\n",
            "625/625 - 2s - loss: 0.2547 - accuracy: 0.8914 - val_loss: 0.3997 - val_accuracy: 0.8319\n",
            "Epoch 11/30\n",
            "625/625 - 2s - loss: 0.2536 - accuracy: 0.8933 - val_loss: 0.4124 - val_accuracy: 0.8281\n",
            "Epoch 12/30\n",
            "625/625 - 1s - loss: 0.2478 - accuracy: 0.8970 - val_loss: 0.3979 - val_accuracy: 0.8323\n",
            "Epoch 13/30\n",
            "625/625 - 1s - loss: 0.2466 - accuracy: 0.8967 - val_loss: 0.4091 - val_accuracy: 0.8298\n",
            "Epoch 14/30\n",
            "625/625 - 2s - loss: 0.2438 - accuracy: 0.8957 - val_loss: 0.4165 - val_accuracy: 0.8295\n",
            "Epoch 15/30\n",
            "625/625 - 1s - loss: 0.2421 - accuracy: 0.8981 - val_loss: 0.4128 - val_accuracy: 0.8323\n",
            "Epoch 16/30\n",
            "625/625 - 1s - loss: 0.2428 - accuracy: 0.8967 - val_loss: 0.4229 - val_accuracy: 0.8295\n",
            "Epoch 17/30\n",
            "625/625 - 2s - loss: 0.2396 - accuracy: 0.8989 - val_loss: 0.4257 - val_accuracy: 0.8284\n",
            "Epoch 18/30\n",
            "625/625 - 1s - loss: 0.2385 - accuracy: 0.9002 - val_loss: 0.4250 - val_accuracy: 0.8314\n",
            "Epoch 19/30\n",
            "625/625 - 2s - loss: 0.2373 - accuracy: 0.9008 - val_loss: 0.4423 - val_accuracy: 0.8261\n",
            "Epoch 20/30\n",
            "625/625 - 2s - loss: 0.2364 - accuracy: 0.9003 - val_loss: 0.4348 - val_accuracy: 0.8298\n",
            "Epoch 21/30\n",
            "625/625 - 1s - loss: 0.2346 - accuracy: 0.9032 - val_loss: 0.4359 - val_accuracy: 0.8290\n",
            "Epoch 22/30\n",
            "625/625 - 1s - loss: 0.2341 - accuracy: 0.9015 - val_loss: 0.4431 - val_accuracy: 0.8272\n",
            "Epoch 23/30\n",
            "625/625 - 1s - loss: 0.2331 - accuracy: 0.9043 - val_loss: 0.4409 - val_accuracy: 0.8283\n",
            "Epoch 24/30\n",
            "625/625 - 2s - loss: 0.2335 - accuracy: 0.9024 - val_loss: 0.4428 - val_accuracy: 0.8281\n",
            "Epoch 25/30\n",
            "625/625 - 2s - loss: 0.2316 - accuracy: 0.9037 - val_loss: 0.4493 - val_accuracy: 0.8247\n",
            "Epoch 26/30\n",
            "625/625 - 2s - loss: 0.2330 - accuracy: 0.9025 - val_loss: 0.4480 - val_accuracy: 0.8261\n",
            "Epoch 27/30\n",
            "625/625 - 1s - loss: 0.2315 - accuracy: 0.9031 - val_loss: 0.4497 - val_accuracy: 0.8286\n",
            "Epoch 28/30\n",
            "625/625 - 2s - loss: 0.2304 - accuracy: 0.9044 - val_loss: 0.4541 - val_accuracy: 0.8262\n",
            "Epoch 29/30\n",
            "625/625 - 2s - loss: 0.2302 - accuracy: 0.9058 - val_loss: 0.4549 - val_accuracy: 0.8243\n",
            "Epoch 30/30\n",
            "625/625 - 2s - loss: 0.2300 - accuracy: 0.9050 - val_loss: 0.4557 - val_accuracy: 0.8258\n"
          ],
          "name": "stdout"
        }
      ]
    },
    {
      "cell_type": "code",
      "metadata": {
        "id": "6DDj47Usf7iY",
        "outputId": "88b70093-be3d-4c0a-deb8-77c2b6bbf21f",
        "colab": {
          "base_uri": "https://localhost:8080/",
          "height": 541
        }
      },
      "source": [
        "plot_graphs(history2, \"accuracy\")\r\n",
        "plot_graphs(history2, \"loss\")"
      ],
      "execution_count": 23,
      "outputs": [
        {
          "output_type": "display_data",
          "data": {
            "image/png": "[encoded data removed]",
            "text/plain": [
              "<Figure size 432x288 with 1 Axes>"
            ]
          },
          "metadata": {
            "tags": [],
            "needs_background": "light"
          }
        },
        {
          "output_type": "display_data",
          "data": {
            "image/png": "[encoded data removed]",
            "text/plain": [
              "<Figure size 432x288 with 1 Axes>"
            ]
          },
          "metadata": {
            "tags": [],
            "needs_background": "light"
          }
        }
      ]
    },
    {
      "cell_type": "markdown",
      "metadata": {
        "id": "mtIjWZUigDHg"
      },
      "source": [
        "## 2. Reduce maxlen"
      ]
    },
    {
      "cell_type": "code",
      "metadata": {
        "id": "r6SM_Z1_gE4G",
        "outputId": "5e546413-1ec1-4b23-ad4f-68a05b4dea18",
        "colab": {
          "base_uri": "https://localhost:8080/"
        }
      },
      "source": [
        "vocab_size =  10000\r\n",
        "embedding_dim = 16\r\n",
        "max_length = 30 # 100\r\n",
        "trunc_type='post'\r\n",
        "padding_type='post'\r\n",
        "oov_tok = \"<OOV>\"\r\n",
        "training_size = 20000\r\n",
        "\r\n",
        "# Sentences to sequences\r\n",
        "tokenizer = Tokenizer(num_words=vocab_size, oov_token=oov_tok)\r\n",
        "tokenizer.fit_on_texts(training_sentences)\r\n",
        "\r\n",
        "word_index = tokenizer.word_index\r\n",
        "\r\n",
        "training_sequences = tokenizer.texts_to_sequences(training_sentences)\r\n",
        "training_padded = pad_sequences(training_sequences, maxlen=max_length, padding=padding_type, truncating=trunc_type)\r\n",
        "\r\n",
        "testing_sequences = tokenizer.texts_to_sequences(testing_sentences)\r\n",
        "testing_padded = pad_sequences(testing_sequences, maxlen=max_length, padding=padding_type, truncating=trunc_type)\r\n",
        "\r\n",
        "# Need this block to get it to work with TensorFlow 2.x\r\n",
        "import numpy as np\r\n",
        "training_padded = np.array(training_padded)\r\n",
        "training_labels = np.array(training_labels)\r\n",
        "testing_padded = np.array(testing_padded)\r\n",
        "testing_labels = np.array(testing_labels)\r\n",
        "\r\n",
        "model = tf.keras.Sequential([\r\n",
        "    tf.keras.layers.Embedding(vocab_size, embedding_dim, input_length=max_length),\r\n",
        "    tf.keras.layers.GlobalAveragePooling1D(),\r\n",
        "    tf.keras.layers.Dense(24, activation='relu'),\r\n",
        "    tf.keras.layers.Dense(1, activation='sigmoid')\r\n",
        "])\r\n",
        "model.compile(loss='binary_crossentropy',optimizer='adam',metrics=['accuracy'])\r\n",
        "\r\n",
        "num_epochs = 30\r\n",
        "history3 = model.fit(training_padded, training_labels, epochs=num_epochs, validation_data=(testing_padded, testing_labels), verbose=2)"
      ],
      "execution_count": 24,
      "outputs": [
        {
          "output_type": "stream",
          "text": [
            "Epoch 1/30\n",
            "625/625 - 2s - loss: 0.5524 - accuracy: 0.7094 - val_loss: 0.3900 - val_accuracy: 0.8313\n",
            "Epoch 2/30\n",
            "625/625 - 2s - loss: 0.3045 - accuracy: 0.8765 - val_loss: 0.3430 - val_accuracy: 0.8575\n",
            "Epoch 3/30\n",
            "625/625 - 2s - loss: 0.2279 - accuracy: 0.9106 - val_loss: 0.3550 - val_accuracy: 0.8472\n",
            "Epoch 4/30\n",
            "625/625 - 2s - loss: 0.1822 - accuracy: 0.9294 - val_loss: 0.3764 - val_accuracy: 0.8548\n",
            "Epoch 5/30\n",
            "625/625 - 2s - loss: 0.1505 - accuracy: 0.9444 - val_loss: 0.4135 - val_accuracy: 0.8423\n",
            "Epoch 6/30\n",
            "625/625 - 2s - loss: 0.1262 - accuracy: 0.9566 - val_loss: 0.4374 - val_accuracy: 0.8445\n",
            "Epoch 7/30\n",
            "625/625 - 2s - loss: 0.1078 - accuracy: 0.9639 - val_loss: 0.4954 - val_accuracy: 0.8368\n",
            "Epoch 8/30\n",
            "625/625 - 2s - loss: 0.0936 - accuracy: 0.9672 - val_loss: 0.5368 - val_accuracy: 0.8362\n",
            "Epoch 9/30\n",
            "625/625 - 2s - loss: 0.0795 - accuracy: 0.9736 - val_loss: 0.5807 - val_accuracy: 0.8314\n",
            "Epoch 10/30\n",
            "625/625 - 2s - loss: 0.0698 - accuracy: 0.9768 - val_loss: 0.6462 - val_accuracy: 0.8259\n",
            "Epoch 11/30\n",
            "625/625 - 2s - loss: 0.0606 - accuracy: 0.9814 - val_loss: 0.6988 - val_accuracy: 0.8269\n",
            "Epoch 12/30\n",
            "625/625 - 2s - loss: 0.0524 - accuracy: 0.9838 - val_loss: 0.7539 - val_accuracy: 0.8223\n",
            "Epoch 13/30\n",
            "625/625 - 2s - loss: 0.0456 - accuracy: 0.9858 - val_loss: 0.8213 - val_accuracy: 0.8195\n",
            "Epoch 14/30\n",
            "625/625 - 2s - loss: 0.0396 - accuracy: 0.9883 - val_loss: 0.8685 - val_accuracy: 0.8183\n",
            "Epoch 15/30\n",
            "625/625 - 2s - loss: 0.0347 - accuracy: 0.9900 - val_loss: 0.9305 - val_accuracy: 0.8161\n",
            "Epoch 16/30\n",
            "625/625 - 2s - loss: 0.0302 - accuracy: 0.9916 - val_loss: 0.9987 - val_accuracy: 0.8144\n",
            "Epoch 17/30\n",
            "625/625 - 2s - loss: 0.0267 - accuracy: 0.9922 - val_loss: 1.0819 - val_accuracy: 0.8114\n",
            "Epoch 18/30\n",
            "625/625 - 2s - loss: 0.0235 - accuracy: 0.9936 - val_loss: 1.1628 - val_accuracy: 0.8107\n",
            "Epoch 19/30\n",
            "625/625 - 2s - loss: 0.0211 - accuracy: 0.9936 - val_loss: 1.2223 - val_accuracy: 0.8079\n",
            "Epoch 20/30\n",
            "625/625 - 2s - loss: 0.0187 - accuracy: 0.9945 - val_loss: 1.2829 - val_accuracy: 0.8080\n",
            "Epoch 21/30\n",
            "625/625 - 2s - loss: 0.0166 - accuracy: 0.9962 - val_loss: 1.3566 - val_accuracy: 0.8065\n",
            "Epoch 22/30\n",
            "625/625 - 2s - loss: 0.0162 - accuracy: 0.9952 - val_loss: 1.3808 - val_accuracy: 0.8035\n",
            "Epoch 23/30\n",
            "625/625 - 2s - loss: 0.0142 - accuracy: 0.9959 - val_loss: 1.4609 - val_accuracy: 0.8052\n",
            "Epoch 24/30\n",
            "625/625 - 2s - loss: 0.0133 - accuracy: 0.9964 - val_loss: 1.5256 - val_accuracy: 0.8013\n",
            "Epoch 25/30\n",
            "625/625 - 2s - loss: 0.0110 - accuracy: 0.9973 - val_loss: 1.5782 - val_accuracy: 0.8010\n",
            "Epoch 26/30\n",
            "625/625 - 2s - loss: 0.0103 - accuracy: 0.9971 - val_loss: 1.6291 - val_accuracy: 0.8027\n",
            "Epoch 27/30\n",
            "625/625 - 2s - loss: 0.0104 - accuracy: 0.9969 - val_loss: 1.6974 - val_accuracy: 0.8013\n",
            "Epoch 28/30\n",
            "625/625 - 2s - loss: 0.0091 - accuracy: 0.9975 - val_loss: 1.7503 - val_accuracy: 0.8015\n",
            "Epoch 29/30\n",
            "625/625 - 2s - loss: 0.0078 - accuracy: 0.9974 - val_loss: 1.8232 - val_accuracy: 0.8028\n",
            "Epoch 30/30\n",
            "625/625 - 2s - loss: 0.0093 - accuracy: 0.9971 - val_loss: 2.0156 - val_accuracy: 0.8010\n"
          ],
          "name": "stdout"
        }
      ]
    },
    {
      "cell_type": "code",
      "metadata": {
        "id": "ZDQj34z3gXRK",
        "outputId": "46cc9fe8-0a25-44e0-9b24-22f280ff8da2",
        "colab": {
          "base_uri": "https://localhost:8080/",
          "height": 541
        }
      },
      "source": [
        "plot_graphs(history3, \"accuracy\")\r\n",
        "plot_graphs(history3, \"loss\")"
      ],
      "execution_count": 25,
      "outputs": [
        {
          "output_type": "display_data",
          "data": {
            "image/png": "[encoded data removed]",
            "text/plain": [
              "<Figure size 432x288 with 1 Axes>"
            ]
          },
          "metadata": {
            "tags": [],
            "needs_background": "light"
          }
        },
        {
          "output_type": "display_data",
          "data": {
            "image/png": "[encoded data removed]",
            "text/plain": [
              "<Figure size 432x288 with 1 Axes>"
            ]
          },
          "metadata": {
            "tags": [],
            "needs_background": "light"
          }
        }
      ]
    },
    {
      "cell_type": "markdown",
      "metadata": {
        "id": "DGbzajPugQcX"
      },
      "source": [
        "### 3. Expand embedding_dim"
      ]
    },
    {
      "cell_type": "code",
      "metadata": {
        "id": "DtW9Jg37gOJx",
        "outputId": "e2056b5e-f4a7-4cb5-e3d4-3581007041a7",
        "colab": {
          "base_uri": "https://localhost:8080/"
        }
      },
      "source": [
        "vocab_size =  10000\r\n",
        "embedding_dim = 32 #16\r\n",
        "max_length = 100\r\n",
        "trunc_type='post'\r\n",
        "padding_type='post'\r\n",
        "oov_tok = \"<OOV>\"\r\n",
        "training_size = 20000\r\n",
        "\r\n",
        "# Sentences to sequences\r\n",
        "tokenizer = Tokenizer(num_words=vocab_size, oov_token=oov_tok)\r\n",
        "tokenizer.fit_on_texts(training_sentences)\r\n",
        "\r\n",
        "word_index = tokenizer.word_index\r\n",
        "\r\n",
        "training_sequences = tokenizer.texts_to_sequences(training_sentences)\r\n",
        "training_padded = pad_sequences(training_sequences, maxlen=max_length, padding=padding_type, truncating=trunc_type)\r\n",
        "\r\n",
        "testing_sequences = tokenizer.texts_to_sequences(testing_sentences)\r\n",
        "testing_padded = pad_sequences(testing_sequences, maxlen=max_length, padding=padding_type, truncating=trunc_type)\r\n",
        "\r\n",
        "# Need this block to get it to work with TensorFlow 2.x\r\n",
        "import numpy as np\r\n",
        "training_padded = np.array(training_padded)\r\n",
        "training_labels = np.array(training_labels)\r\n",
        "testing_padded = np.array(testing_padded)\r\n",
        "testing_labels = np.array(testing_labels)\r\n",
        "\r\n",
        "model = tf.keras.Sequential([\r\n",
        "    tf.keras.layers.Embedding(vocab_size, embedding_dim, input_length=max_length),\r\n",
        "    tf.keras.layers.GlobalAveragePooling1D(),\r\n",
        "    tf.keras.layers.Dense(24, activation='relu'),\r\n",
        "    tf.keras.layers.Dense(1, activation='sigmoid')\r\n",
        "])\r\n",
        "model.compile(loss='binary_crossentropy',optimizer='adam',metrics=['accuracy'])\r\n",
        "\r\n",
        "num_epochs = 30\r\n",
        "history4 = model.fit(training_padded, training_labels, epochs=num_epochs, validation_data=(testing_padded, testing_labels), verbose=2)"
      ],
      "execution_count": 26,
      "outputs": [
        {
          "output_type": "stream",
          "text": [
            "Epoch 1/30\n",
            "625/625 - 3s - loss: 0.6587 - accuracy: 0.6011 - val_loss: 0.5577 - val_accuracy: 0.7217\n",
            "Epoch 2/30\n",
            "625/625 - 3s - loss: 0.4111 - accuracy: 0.8384 - val_loss: 0.3750 - val_accuracy: 0.8441\n",
            "Epoch 3/30\n",
            "625/625 - 3s - loss: 0.3000 - accuracy: 0.8781 - val_loss: 0.3546 - val_accuracy: 0.8489\n",
            "Epoch 4/30\n",
            "625/625 - 3s - loss: 0.2494 - accuracy: 0.8994 - val_loss: 0.3519 - val_accuracy: 0.8450\n",
            "Epoch 5/30\n",
            "625/625 - 3s - loss: 0.2123 - accuracy: 0.9175 - val_loss: 0.3561 - val_accuracy: 0.8536\n",
            "Epoch 6/30\n",
            "625/625 - 3s - loss: 0.1868 - accuracy: 0.9287 - val_loss: 0.3581 - val_accuracy: 0.8544\n",
            "Epoch 7/30\n",
            "625/625 - 3s - loss: 0.1624 - accuracy: 0.9391 - val_loss: 0.4108 - val_accuracy: 0.8359\n",
            "Epoch 8/30\n",
            "625/625 - 3s - loss: 0.1443 - accuracy: 0.9480 - val_loss: 0.4125 - val_accuracy: 0.8456\n",
            "Epoch 9/30\n",
            "625/625 - 3s - loss: 0.1297 - accuracy: 0.9538 - val_loss: 0.4680 - val_accuracy: 0.8305\n",
            "Epoch 10/30\n",
            "625/625 - 3s - loss: 0.1179 - accuracy: 0.9579 - val_loss: 0.4599 - val_accuracy: 0.8439\n",
            "Epoch 11/30\n",
            "625/625 - 3s - loss: 0.1053 - accuracy: 0.9629 - val_loss: 0.4830 - val_accuracy: 0.8398\n",
            "Epoch 12/30\n",
            "625/625 - 3s - loss: 0.0965 - accuracy: 0.9671 - val_loss: 0.5175 - val_accuracy: 0.8380\n",
            "Epoch 13/30\n",
            "625/625 - 3s - loss: 0.0868 - accuracy: 0.9707 - val_loss: 0.5397 - val_accuracy: 0.8384\n",
            "Epoch 14/30\n",
            "625/625 - 3s - loss: 0.0801 - accuracy: 0.9726 - val_loss: 0.6042 - val_accuracy: 0.8314\n",
            "Epoch 15/30\n",
            "625/625 - 3s - loss: 0.0734 - accuracy: 0.9759 - val_loss: 0.6040 - val_accuracy: 0.8360\n",
            "Epoch 16/30\n",
            "625/625 - 3s - loss: 0.0633 - accuracy: 0.9804 - val_loss: 0.6438 - val_accuracy: 0.8317\n",
            "Epoch 17/30\n",
            "625/625 - 3s - loss: 0.0595 - accuracy: 0.9811 - val_loss: 0.6820 - val_accuracy: 0.8299\n",
            "Epoch 18/30\n",
            "625/625 - 3s - loss: 0.0531 - accuracy: 0.9832 - val_loss: 0.7515 - val_accuracy: 0.8258\n",
            "Epoch 19/30\n",
            "625/625 - 3s - loss: 0.0512 - accuracy: 0.9834 - val_loss: 0.8005 - val_accuracy: 0.8225\n",
            "Epoch 20/30\n",
            "625/625 - 3s - loss: 0.0452 - accuracy: 0.9862 - val_loss: 0.8058 - val_accuracy: 0.8229\n",
            "Epoch 21/30\n",
            "625/625 - 3s - loss: 0.0408 - accuracy: 0.9877 - val_loss: 0.8530 - val_accuracy: 0.8223\n",
            "Epoch 22/30\n",
            "625/625 - 3s - loss: 0.0382 - accuracy: 0.9880 - val_loss: 0.8881 - val_accuracy: 0.8208\n",
            "Epoch 23/30\n",
            "625/625 - 3s - loss: 0.0358 - accuracy: 0.9886 - val_loss: 0.9356 - val_accuracy: 0.8188\n",
            "Epoch 24/30\n",
            "625/625 - 3s - loss: 0.0316 - accuracy: 0.9908 - val_loss: 0.9784 - val_accuracy: 0.8177\n",
            "Epoch 25/30\n",
            "625/625 - 3s - loss: 0.0292 - accuracy: 0.9915 - val_loss: 1.1159 - val_accuracy: 0.8144\n",
            "Epoch 26/30\n",
            "625/625 - 3s - loss: 0.0266 - accuracy: 0.9922 - val_loss: 1.1042 - val_accuracy: 0.8155\n",
            "Epoch 27/30\n",
            "625/625 - 3s - loss: 0.0235 - accuracy: 0.9934 - val_loss: 1.0964 - val_accuracy: 0.8122\n",
            "Epoch 28/30\n",
            "625/625 - 3s - loss: 0.0234 - accuracy: 0.9929 - val_loss: 1.1936 - val_accuracy: 0.8147\n",
            "Epoch 29/30\n",
            "625/625 - 3s - loss: 0.0215 - accuracy: 0.9936 - val_loss: 1.1953 - val_accuracy: 0.8116\n",
            "Epoch 30/30\n",
            "625/625 - 3s - loss: 0.0188 - accuracy: 0.9947 - val_loss: 1.3052 - val_accuracy: 0.8125\n"
          ],
          "name": "stdout"
        }
      ]
    },
    {
      "cell_type": "code",
      "metadata": {
        "id": "uMasAzKsgauo",
        "outputId": "15ecd801-83d9-4167-91ce-020e7cb4e4fc",
        "colab": {
          "base_uri": "https://localhost:8080/",
          "height": 541
        }
      },
      "source": [
        "plot_graphs(history4, \"accuracy\")\r\n",
        "plot_graphs(history4, \"loss\")"
      ],
      "execution_count": 27,
      "outputs": [
        {
          "output_type": "display_data",
          "data": {
            "image/png": "[encoded data removed]",
            "text/plain": [
              "<Figure size 432x288 with 1 Axes>"
            ]
          },
          "metadata": {
            "tags": [],
            "needs_background": "light"
          }
        },
        {
          "output_type": "display_data",
          "data": {
            "image/png": "[encoded data removed]",
            "text/plain": [
              "<Figure size 432x288 with 1 Axes>"
            ]
          },
          "metadata": {
            "tags": [],
            "needs_background": "light"
          }
        }
      ]
    },
    {
      "cell_type": "code",
      "metadata": {
        "id": "-NAkmvj7gfXO"
      },
      "source": [
        ""
      ],
      "execution_count": null,
      "outputs": []
    }
  ]
}