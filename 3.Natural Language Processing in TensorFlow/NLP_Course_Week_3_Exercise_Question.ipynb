{
  "nbformat": 4,
  "nbformat_minor": 0,
  "metadata": {
    "accelerator": "GPU",
    "colab": {
      "name": "NLP Course - Week 3 Exercise Question.ipynb",
      "provenance": [],
      "toc_visible": true
    },
    "kernelspec": {
      "display_name": "Python 3",
      "name": "python3"
    }
  },
  "cells": [
    {
      "cell_type": "code",
      "metadata": {
        "id": "zX4Kg8DUTKWO"
      },
      "source": [
        "#@title Licensed under the Apache License, Version 2.0 (the \"License\");\n",
        "# you may not use this file except in compliance with the License.\n",
        "# You may obtain a copy of the License at\n",
        "#\n",
        "# https://www.apache.org/licenses/LICENSE-2.0\n",
        "#\n",
        "# Unless required by applicable law or agreed to in writing, software\n",
        "# distributed under the License is distributed on an \"AS IS\" BASIS,\n",
        "# WITHOUT WARRANTIES OR CONDITIONS OF ANY KIND, either express or implied.\n",
        "# See the License for the specific language governing permissions and\n",
        "# limitations under the License."
      ],
      "execution_count": 1,
      "outputs": []
    },
    {
      "cell_type": "code",
      "metadata": {
        "id": "hmA6EzkQJ5jt"
      },
      "source": [
        "import json\n",
        "import tensorflow as tf\n",
        "import csv\n",
        "import random\n",
        "import numpy as np\n",
        "\n",
        "from tensorflow.keras.preprocessing.text import Tokenizer\n",
        "from tensorflow.keras.preprocessing.sequence import pad_sequences\n",
        "from tensorflow.keras.utils import to_categorical\n",
        "from tensorflow.keras import regularizers\n",
        "\n",
        "\n",
        "embedding_dim = 100\n",
        "max_length = 16\n",
        "trunc_type='post'\n",
        "padding_type='post'\n",
        "oov_tok = \"<OOV>\"\n",
        "training_size= 160000 #Your dataset size here. Experiment using smaller values (i.e. 16000), but don't forget to train on at least 160000 to see the best effects\n",
        "test_portion=.1\n",
        "\n",
        "corpus = []\n"
      ],
      "execution_count": 43,
      "outputs": []
    },
    {
      "cell_type": "code",
      "metadata": {
        "colab": {
          "base_uri": "https://localhost:8080/"
        },
        "id": "bM0l_dORKqE0",
        "outputId": "fccd0d53-9524-4533-8b03-46a8acd615de"
      },
      "source": [
        "# Note that I cleaned the Stanford dataset to remove LATIN1 encoding to make it easier for Python CSV reader\n",
        "# You can do that yourself with:\n",
        "# iconv -f LATIN1 -t UTF8 training.1600000.processed.noemoticon.csv -o training_cleaned.csv\n",
        "# I then hosted it on my site to make it easier to use in this notebook\n",
        "\n",
        "!wget --no-check-certificate \\\n",
        "    https://storage.googleapis.com/laurencemoroney-blog.appspot.com/training_cleaned.csv \\\n",
        "    -O /tmp/training_cleaned.csv\n",
        "\n",
        "num_sentences = 0\n",
        "\n",
        "with open(\"/tmp/training_cleaned.csv\") as csvfile:\n",
        "    reader = csv.reader(csvfile, delimiter=',')\n",
        "    for row in reader:\n",
        "      # Your Code here. Create list items where the first item is the text, found in row[5], and the second is the label. Note that the label is a '0' or a '4' in the text. When it's the former, make\n",
        "      # your label to be 0, otherwise 1. Keep a count of the number of sentences in num_sentences\n",
        "      list_item = []\n",
        "      list_item.append(row[5])\n",
        "      if row[0] != '0':\n",
        "        list_item.append(1)\n",
        "      else:\n",
        "        list_item.append(0)\n",
        "      # YOUR CODE HERE\n",
        "      num_sentences = num_sentences + 1\n",
        "      corpus.append(list_item)\n"
      ],
      "execution_count": 47,
      "outputs": [
        {
          "output_type": "stream",
          "text": [
            "--2021-01-25 13:23:15--  https://storage.googleapis.com/laurencemoroney-blog.appspot.com/training_cleaned.csv\n",
            "Resolving storage.googleapis.com (storage.googleapis.com)... 74.125.124.128, 172.217.212.128, 172.217.214.128, ...\n",
            "Connecting to storage.googleapis.com (storage.googleapis.com)|74.125.124.128|:443... connected.\n",
            "HTTP request sent, awaiting response... 200 OK\n",
            "Length: 238942690 (228M) [application/octet-stream]\n",
            "Saving to: ‘/tmp/training_cleaned.csv’\n",
            "\n",
            "/tmp/training_clean 100%[===================>] 227.87M   270MB/s    in 0.8s    \n",
            "\n",
            "2021-01-25 13:23:16 (270 MB/s) - ‘/tmp/training_cleaned.csv’ saved [238942690/238942690]\n",
            "\n"
          ],
          "name": "stdout"
        }
      ]
    },
    {
      "cell_type": "code",
      "metadata": {
        "colab": {
          "base_uri": "https://localhost:8080/"
        },
        "id": "3kxblBUjEUX-",
        "outputId": "f72e6deb-d610-43ed-a55d-334feea7ec1c"
      },
      "source": [
        "print(num_sentences)\n",
        "print(len(corpus))\n",
        "print(corpus[1])\n",
        "\n",
        "# Expected Output:\n",
        "# 1600000\n",
        "# 1600000\n",
        "# [\"is upset that he can't update his Facebook by texting it... and might cry as a result  School today also. Blah!\", 0]"
      ],
      "execution_count": 48,
      "outputs": [
        {
          "output_type": "stream",
          "text": [
            "1600000\n",
            "1600000\n",
            "[\"is upset that he can't update his Facebook by texting it... and might cry as a result  School today also. Blah!\", 0]\n"
          ],
          "name": "stdout"
        }
      ]
    },
    {
      "cell_type": "code",
      "metadata": {
        "id": "ohOGz24lsNAD"
      },
      "source": [
        "sentences=[]\n",
        "labels=[]\n",
        "random.shuffle(corpus)\n",
        "for x in range(training_size):\n",
        "    sentences.append(corpus[x][0]) # YOUR CODE HERE\n",
        "    labels.append(corpus[x][1]) # YOUR CODE HERE\n",
        "\n",
        "\n",
        "tokenizer = Tokenizer()\n",
        "tokenizer.fit_on_texts(sentences) # YOUR CODE HERE\n",
        "\n",
        "word_index = tokenizer.word_index\n",
        "vocab_size=len(word_index) # YOUR CODE HERE\n",
        "\n",
        "sequences = tokenizer.texts_to_sequences(sentences) # YOUR CODE HERE\n",
        "padded = pad_sequences(sequences, maxlen=max_length, padding=padding_type, truncating=trunc_type) # YOUR CODE HERE\n",
        "\n",
        "split = int(test_portion * training_size)\n",
        "\n",
        "test_sequences = padded[split:] # YOUR CODE HERE\n",
        "training_sequences = padded[: split] # YOUR CODE HERE\n",
        "test_labels = labels[split:] # YOUR CODE HERE\n",
        "training_labels = labels[: split] # YOUR CODE HERE"
      ],
      "execution_count": 49,
      "outputs": []
    },
    {
      "cell_type": "code",
      "metadata": {
        "id": "FWhuaizct6DX"
      },
      "source": [
        "training_labels = np.array(training_labels)\r\n",
        "test_labels = np.array(test_labels)"
      ],
      "execution_count": 56,
      "outputs": []
    },
    {
      "cell_type": "code",
      "metadata": {
        "colab": {
          "base_uri": "https://localhost:8080/"
        },
        "id": "gIrtRem1En3N",
        "outputId": "a3cdb428-77f3-4555-8c43-ad20a7caa745"
      },
      "source": [
        "print(vocab_size)\n",
        "print(word_index['i'])\n",
        "# Expected Output\n",
        "# 138858\n",
        "# 1"
      ],
      "execution_count": 50,
      "outputs": [
        {
          "output_type": "stream",
          "text": [
            "138908\n",
            "1\n"
          ],
          "name": "stdout"
        }
      ]
    },
    {
      "cell_type": "code",
      "metadata": {
        "colab": {
          "base_uri": "https://localhost:8080/"
        },
        "id": "C1zdgJkusRh0",
        "outputId": "cd40f5eb-4523-4fa7-a9fe-e6bf6946592c"
      },
      "source": [
        "# Note this is the 100 dimension version of GloVe from Stanford\n",
        "# I unzipped and hosted it on my site to make this notebook easier\n",
        "!wget --no-check-certificate \\\n",
        "    https://storage.googleapis.com/laurencemoroney-blog.appspot.com/glove.6B.100d.txt \\\n",
        "    -O /tmp/glove.6B.100d.txt\n",
        "embeddings_index = {};\n",
        "with open('/tmp/glove.6B.100d.txt') as f:\n",
        "    for line in f:\n",
        "        values = line.split();\n",
        "        word = values[0];\n",
        "        coefs = np.asarray(values[1:], dtype='float32');\n",
        "        embeddings_index[word] = coefs;\n",
        "\n",
        "embeddings_matrix = np.zeros((vocab_size+1, embedding_dim));\n",
        "for word, i in word_index.items():\n",
        "    embedding_vector = embeddings_index.get(word);\n",
        "    if embedding_vector is not None:\n",
        "        embeddings_matrix[i] = embedding_vector;"
      ],
      "execution_count": 51,
      "outputs": [
        {
          "output_type": "stream",
          "text": [
            "--2021-01-25 13:23:31--  https://storage.googleapis.com/laurencemoroney-blog.appspot.com/glove.6B.100d.txt\n",
            "Resolving storage.googleapis.com (storage.googleapis.com)... 74.125.124.128, 172.217.212.128, 172.217.214.128, ...\n",
            "Connecting to storage.googleapis.com (storage.googleapis.com)|74.125.124.128|:443... connected.\n",
            "HTTP request sent, awaiting response... 200 OK\n",
            "Length: 347116733 (331M) [text/plain]\n",
            "Saving to: ‘/tmp/glove.6B.100d.txt’\n",
            "\n",
            "/tmp/glove.6B.100d. 100%[===================>] 331.04M   279MB/s    in 1.2s    \n",
            "\n",
            "2021-01-25 13:23:32 (279 MB/s) - ‘/tmp/glove.6B.100d.txt’ saved [347116733/347116733]\n",
            "\n"
          ],
          "name": "stdout"
        }
      ]
    },
    {
      "cell_type": "code",
      "metadata": {
        "colab": {
          "base_uri": "https://localhost:8080/"
        },
        "id": "71NLk_lpFLNt",
        "outputId": "bf45fcf7-d907-4e9d-d62a-990aca7ebc35"
      },
      "source": [
        "print(len(embeddings_matrix))\n",
        "# Expected Output\n",
        "# 138859"
      ],
      "execution_count": 52,
      "outputs": [
        {
          "output_type": "stream",
          "text": [
            "138909\n"
          ],
          "name": "stdout"
        }
      ]
    },
    {
      "cell_type": "markdown",
      "metadata": {
        "id": "CCT0XdTn5M7L"
      },
      "source": [
        "## 1. LSTM"
      ]
    },
    {
      "cell_type": "code",
      "metadata": {
        "colab": {
          "base_uri": "https://localhost:8080/"
        },
        "id": "iKKvbuEBOGFz",
        "outputId": "57c6907c-3509-4f74-fae7-9f08507c3346"
      },
      "source": [
        "model = tf.keras.Sequential([\n",
        "    tf.keras.layers.Embedding(vocab_size+1, embedding_dim, input_length=max_length, weights=[embeddings_matrix], trainable=False),\n",
        "    # YOUR CODE HERE - experiment with combining different types, such as convolutions and LSTMs\n",
        "    tf.keras.layers.Bidirectional(tf.keras.layers.LSTM(64, activation='relu', return_sequences=True)),\n",
        "    tf.keras.layers.Bidirectional(tf.keras.layers.LSTM(64, activation='relu')),\n",
        "    tf.keras.layers.Dense(64, activation='relu'),\n",
        "    tf.keras.layers.Dense(1, activation='sigmoid')\n",
        "\n",
        "])\n",
        "model.compile(loss='binary_crossentropy', optimizer='adam', metrics=['accuracy']) # YOUR CODE HERE\n",
        "model.summary()\n",
        "\n",
        "num_epochs = 50\n",
        "history = model.fit(training_sequences, training_labels, epochs=num_epochs, validation_data=(test_sequences, test_labels), verbose=2)\n",
        "\n",
        "print(\"Training Complete\")\n"
      ],
      "execution_count": 57,
      "outputs": [
        {
          "output_type": "stream",
          "text": [
            "WARNING:tensorflow:Layer lstm_4 will not use cuDNN kernel since it doesn't meet the cuDNN kernel criteria. It will use generic GPU kernel as fallback when running on GPU\n",
            "WARNING:tensorflow:Layer lstm_4 will not use cuDNN kernel since it doesn't meet the cuDNN kernel criteria. It will use generic GPU kernel as fallback when running on GPU\n",
            "WARNING:tensorflow:Layer lstm_4 will not use cuDNN kernel since it doesn't meet the cuDNN kernel criteria. It will use generic GPU kernel as fallback when running on GPU\n",
            "WARNING:tensorflow:Layer lstm_5 will not use cuDNN kernel since it doesn't meet the cuDNN kernel criteria. It will use generic GPU kernel as fallback when running on GPU\n",
            "WARNING:tensorflow:Layer lstm_5 will not use cuDNN kernel since it doesn't meet the cuDNN kernel criteria. It will use generic GPU kernel as fallback when running on GPU\n",
            "WARNING:tensorflow:Layer lstm_5 will not use cuDNN kernel since it doesn't meet the cuDNN kernel criteria. It will use generic GPU kernel as fallback when running on GPU\n",
            "Model: \"sequential_2\"\n",
            "_________________________________________________________________\n",
            "Layer (type)                 Output Shape              Param #   \n",
            "=================================================================\n",
            "embedding_2 (Embedding)      (None, 16, 100)           13890900  \n",
            "_________________________________________________________________\n",
            "bidirectional_4 (Bidirection (None, 16, 128)           84480     \n",
            "_________________________________________________________________\n",
            "bidirectional_5 (Bidirection (None, 128)               98816     \n",
            "_________________________________________________________________\n",
            "dense_4 (Dense)              (None, 64)                8256      \n",
            "_________________________________________________________________\n",
            "dense_5 (Dense)              (None, 1)                 65        \n",
            "=================================================================\n",
            "Total params: 14,082,517\n",
            "Trainable params: 191,617\n",
            "Non-trainable params: 13,890,900\n",
            "_________________________________________________________________\n",
            "Epoch 1/50\n",
            "500/500 - 59s - loss: 0.5996 - accuracy: 0.6691 - val_loss: 0.5521 - val_accuracy: 0.7122\n",
            "Epoch 2/50\n",
            "500/500 - 54s - loss: 0.5259 - accuracy: 0.7351 - val_loss: 0.5388 - val_accuracy: 0.7239\n",
            "Epoch 3/50\n",
            "500/500 - 54s - loss: 0.4934 - accuracy: 0.7595 - val_loss: 0.5240 - val_accuracy: 0.7380\n",
            "Epoch 4/50\n",
            "500/500 - 54s - loss: 0.4599 - accuracy: 0.7821 - val_loss: 0.5382 - val_accuracy: 0.7349\n",
            "Epoch 5/50\n",
            "500/500 - 55s - loss: 0.4284 - accuracy: 0.8001 - val_loss: 0.5356 - val_accuracy: 0.7410\n",
            "Epoch 6/50\n",
            "500/500 - 54s - loss: 0.3924 - accuracy: 0.8214 - val_loss: 0.6173 - val_accuracy: 0.7363\n",
            "Epoch 7/50\n",
            "500/500 - 54s - loss: 0.3480 - accuracy: 0.8457 - val_loss: 0.6429 - val_accuracy: 0.7269\n",
            "Epoch 8/50\n",
            "500/500 - 54s - loss: 0.3026 - accuracy: 0.8667 - val_loss: 0.7582 - val_accuracy: 0.7272\n",
            "Epoch 9/50\n",
            "500/500 - 54s - loss: 0.2663 - accuracy: 0.8846 - val_loss: 0.8473 - val_accuracy: 0.7273\n",
            "Epoch 10/50\n",
            "500/500 - 54s - loss: 0.5418 - accuracy: 0.8925 - val_loss: 0.7509 - val_accuracy: 0.7074\n",
            "Epoch 11/50\n",
            "500/500 - 53s - loss: 0.2139 - accuracy: 0.9111 - val_loss: 0.8983 - val_accuracy: 0.7135\n",
            "Epoch 12/50\n",
            "500/500 - 53s - loss: 0.1720 - accuracy: 0.9289 - val_loss: 1.1667 - val_accuracy: 0.7075\n",
            "Epoch 13/50\n",
            "500/500 - 52s - loss: 0.1459 - accuracy: 0.9406 - val_loss: 1.2433 - val_accuracy: 0.7141\n",
            "Epoch 14/50\n",
            "500/500 - 53s - loss: 0.1318 - accuracy: 0.9472 - val_loss: 1.1113 - val_accuracy: 0.7143\n",
            "Epoch 15/50\n",
            "500/500 - 53s - loss: 0.1013 - accuracy: 0.9609 - val_loss: 1.4277 - val_accuracy: 0.7105\n",
            "Epoch 16/50\n",
            "500/500 - 53s - loss: 0.1036 - accuracy: 0.9603 - val_loss: 1.1783 - val_accuracy: 0.7059\n",
            "Epoch 17/50\n",
            "500/500 - 52s - loss: 0.1011 - accuracy: 0.9612 - val_loss: 1.4183 - val_accuracy: 0.7110\n",
            "Epoch 18/50\n",
            "500/500 - 53s - loss: 0.0781 - accuracy: 0.9709 - val_loss: 1.6162 - val_accuracy: 0.7065\n",
            "Epoch 19/50\n",
            "500/500 - 53s - loss: 0.0730 - accuracy: 0.9726 - val_loss: 1.7447 - val_accuracy: 0.7126\n",
            "Epoch 20/50\n",
            "500/500 - 53s - loss: 0.0587 - accuracy: 0.9780 - val_loss: 1.8199 - val_accuracy: 0.7072\n",
            "Epoch 21/50\n",
            "500/500 - 53s - loss: 0.0868 - accuracy: 0.9707 - val_loss: 1.5600 - val_accuracy: 0.7054\n",
            "Epoch 22/50\n",
            "500/500 - 53s - loss: 0.0810 - accuracy: 0.9743 - val_loss: 1.6116 - val_accuracy: 0.7030\n",
            "Epoch 23/50\n",
            "500/500 - 53s - loss: 0.0408 - accuracy: 0.9852 - val_loss: 1.9100 - val_accuracy: 0.7103\n",
            "Epoch 24/50\n",
            "500/500 - 52s - loss: 0.0380 - accuracy: 0.9862 - val_loss: 2.1074 - val_accuracy: 0.7080\n",
            "Epoch 25/50\n",
            "500/500 - 52s - loss: 0.0526 - accuracy: 0.9803 - val_loss: 1.9034 - val_accuracy: 0.7031\n",
            "Epoch 26/50\n",
            "500/500 - 53s - loss: 0.0537 - accuracy: 0.9804 - val_loss: 1.8492 - val_accuracy: 0.7045\n",
            "Epoch 27/50\n",
            "500/500 - 53s - loss: 0.0483 - accuracy: 0.9828 - val_loss: 1.8424 - val_accuracy: 0.7096\n",
            "Epoch 28/50\n",
            "500/500 - 53s - loss: 0.0361 - accuracy: 0.9876 - val_loss: 2.0236 - val_accuracy: 0.7056\n",
            "Epoch 29/50\n",
            "500/500 - 53s - loss: 0.0407 - accuracy: 0.9858 - val_loss: 1.8062 - val_accuracy: 0.7057\n",
            "Epoch 30/50\n",
            "500/500 - 53s - loss: 0.0473 - accuracy: 0.9831 - val_loss: 1.8310 - val_accuracy: 0.7074\n",
            "Epoch 31/50\n",
            "500/500 - 52s - loss: 0.0343 - accuracy: 0.9889 - val_loss: 2.0642 - val_accuracy: 0.6995\n",
            "Epoch 32/50\n",
            "500/500 - 53s - loss: 0.0413 - accuracy: 0.9844 - val_loss: 1.8779 - val_accuracy: 0.7044\n",
            "Epoch 33/50\n",
            "500/500 - 53s - loss: 0.0771 - accuracy: 0.9801 - val_loss: 1.5491 - val_accuracy: 0.7069\n",
            "Epoch 34/50\n",
            "500/500 - 53s - loss: 0.1274 - accuracy: 0.9730 - val_loss: 1.4873 - val_accuracy: 0.7054\n",
            "Epoch 35/50\n",
            "500/500 - 53s - loss: 0.0389 - accuracy: 0.9861 - val_loss: 1.7536 - val_accuracy: 0.7043\n",
            "Epoch 36/50\n",
            "500/500 - 52s - loss: 0.0239 - accuracy: 0.9920 - val_loss: 2.1604 - val_accuracy: 0.7029\n",
            "Epoch 37/50\n",
            "500/500 - 53s - loss: 0.0202 - accuracy: 0.9926 - val_loss: 2.3355 - val_accuracy: 0.7059\n",
            "Epoch 38/50\n",
            "500/500 - 52s - loss: 0.0285 - accuracy: 0.9898 - val_loss: 2.3439 - val_accuracy: 0.7035\n",
            "Epoch 39/50\n",
            "500/500 - 52s - loss: 0.0311 - accuracy: 0.9894 - val_loss: 2.4794 - val_accuracy: 0.7016\n",
            "Epoch 40/50\n",
            "500/500 - 53s - loss: 0.0221 - accuracy: 0.9921 - val_loss: 2.3706 - val_accuracy: 0.7045\n",
            "Epoch 41/50\n",
            "500/500 - 53s - loss: 0.0212 - accuracy: 0.9913 - val_loss: 2.4748 - val_accuracy: 0.7062\n",
            "Epoch 42/50\n",
            "500/500 - 53s - loss: 0.0325 - accuracy: 0.9879 - val_loss: 2.1563 - val_accuracy: 0.7050\n",
            "Epoch 43/50\n",
            "500/500 - 53s - loss: 0.0841 - accuracy: 0.9764 - val_loss: 1.6473 - val_accuracy: 0.7070\n",
            "Epoch 44/50\n",
            "500/500 - 52s - loss: 0.0402 - accuracy: 0.9864 - val_loss: 1.9444 - val_accuracy: 0.7036\n",
            "Epoch 45/50\n",
            "500/500 - 53s - loss: 0.0189 - accuracy: 0.9931 - val_loss: 2.1267 - val_accuracy: 0.7039\n",
            "Epoch 46/50\n",
            "500/500 - 53s - loss: 0.0183 - accuracy: 0.9924 - val_loss: 2.3442 - val_accuracy: 0.7082\n",
            "Epoch 47/50\n",
            "500/500 - 53s - loss: 0.0295 - accuracy: 0.9891 - val_loss: 2.2655 - val_accuracy: 0.7076\n",
            "Epoch 48/50\n",
            "500/500 - 53s - loss: 0.0183 - accuracy: 0.9931 - val_loss: 2.3476 - val_accuracy: 0.7067\n",
            "Epoch 49/50\n",
            "500/500 - 53s - loss: 0.0166 - accuracy: 0.9944 - val_loss: 2.7521 - val_accuracy: 0.7100\n",
            "Epoch 50/50\n",
            "500/500 - 53s - loss: 0.0137 - accuracy: 0.9949 - val_loss: 2.8530 - val_accuracy: 0.7072\n",
            "Training Complete\n"
          ],
          "name": "stdout"
        }
      ]
    },
    {
      "cell_type": "code",
      "metadata": {
        "colab": {
          "base_uri": "https://localhost:8080/",
          "height": 608
        },
        "id": "qxju4ItJKO8F",
        "outputId": "0bd9590a-7e25-4aaa-c87c-ffb46bcf859c"
      },
      "source": [
        "import matplotlib.image  as mpimg\n",
        "import matplotlib.pyplot as plt\n",
        "\n",
        "#-----------------------------------------------------------\n",
        "# Retrieve a list of list results on training and test data\n",
        "# sets for each training epoch\n",
        "#-----------------------------------------------------------\n",
        "acc=history.history['accuracy']\n",
        "val_acc=history.history['val_accuracy']\n",
        "loss=history.history['loss']\n",
        "val_loss=history.history['val_loss']\n",
        "\n",
        "epochs=range(len(acc)) # Get number of epochs\n",
        "\n",
        "#------------------------------------------------\n",
        "# Plot training and validation accuracy per epoch\n",
        "#------------------------------------------------\n",
        "plt.plot(epochs, acc, 'r')\n",
        "plt.plot(epochs, val_acc, 'b')\n",
        "plt.title('Training and validation accuracy')\n",
        "plt.xlabel(\"Epochs\")\n",
        "plt.ylabel(\"Accuracy\")\n",
        "plt.legend([\"Accuracy\", \"Validation Accuracy\"])\n",
        "\n",
        "plt.figure()\n",
        "\n",
        "#------------------------------------------------\n",
        "# Plot training and validation loss per epoch\n",
        "#------------------------------------------------\n",
        "plt.plot(epochs, loss, 'r')\n",
        "plt.plot(epochs, val_loss, 'b')\n",
        "plt.title('Training and validation loss')\n",
        "plt.xlabel(\"Epochs\")\n",
        "plt.ylabel(\"Loss\")\n",
        "plt.legend([\"Loss\", \"Validation Loss\"])\n",
        "\n",
        "plt.figure()\n",
        "\n",
        "\n",
        "# Expected Output\n",
        "# A chart where the validation loss does not increase sharply!"
      ],
      "execution_count": 58,
      "outputs": [
        {
          "output_type": "execute_result",
          "data": {
            "text/plain": [
              "<Figure size 432x288 with 0 Axes>"
            ]
          },
          "metadata": {
            "tags": []
          },
          "execution_count": 58
        },
        {
          "output_type": "display_data",
          "data": {
            "image/png": "[encoded data removed]",
            "text/plain": [
              "<Figure size 432x288 with 1 Axes>"
            ]
          },
          "metadata": {
            "tags": [],
            "needs_background": "light"
          }
        },
        {
          "output_type": "display_data",
          "data": {
            "image/png": "[encoded data removed]",
            "text/plain": [
              "<Figure size 432x288 with 1 Axes>"
            ]
          },
          "metadata": {
            "tags": [],
            "needs_background": "light"
          }
        },
        {
          "output_type": "display_data",
          "data": {
            "text/plain": [
              "<Figure size 432x288 with 0 Axes>"
            ]
          },
          "metadata": {
            "tags": []
          }
        }
      ]
    },
    {
      "cell_type": "markdown",
      "metadata": {
        "id": "JUQ36hzC5IRC"
      },
      "source": [
        "## 2. GRU"
      ]
    },
    {
      "cell_type": "code",
      "metadata": {
        "id": "zse2kwN3uE1a",
        "outputId": "1e521ebb-fbcf-4320-9611-1c823ef42863",
        "colab": {
          "base_uri": "https://localhost:8080/"
        }
      },
      "source": [
        "model = tf.keras.Sequential([\r\n",
        "    tf.keras.layers.Embedding(vocab_size+1, embedding_dim, input_length=max_length, weights=[embeddings_matrix], trainable=False),\r\n",
        "    # YOUR CODE HERE - experiment with combining different types, such as convolutions and LSTMs\r\n",
        "    tf.keras.layers.Bidirectional(tf.keras.layers.GRU(64, activation='relu', return_sequences=True)),\r\n",
        "    tf.keras.layers.Bidirectional(tf.keras.layers.GRU(64, activation='relu')),\r\n",
        "    tf.keras.layers.Dense(64, activation='relu'),\r\n",
        "    tf.keras.layers.Dense(1, activation='sigmoid')\r\n",
        "\r\n",
        "])\r\n",
        "model.compile(loss='binary_crossentropy', optimizer='adam', metrics=['accuracy']) # YOUR CODE HERE\r\n",
        "model.summary()\r\n",
        "\r\n",
        "num_epochs = 20\r\n",
        "history = model.fit(training_sequences, training_labels, epochs=num_epochs, validation_data=(test_sequences, test_labels), verbose=2)\r\n",
        "\r\n",
        "print(\"Training Complete\")\r\n"
      ],
      "execution_count": 60,
      "outputs": [
        {
          "output_type": "stream",
          "text": [
            "WARNING:tensorflow:Layer gru_2 will not use cuDNN kernel since it doesn't meet the cuDNN kernel criteria. It will use generic GPU kernel as fallback when running on GPU\n",
            "WARNING:tensorflow:Layer gru_2 will not use cuDNN kernel since it doesn't meet the cuDNN kernel criteria. It will use generic GPU kernel as fallback when running on GPU\n",
            "WARNING:tensorflow:Layer gru_2 will not use cuDNN kernel since it doesn't meet the cuDNN kernel criteria. It will use generic GPU kernel as fallback when running on GPU\n",
            "WARNING:tensorflow:Layer gru_3 will not use cuDNN kernel since it doesn't meet the cuDNN kernel criteria. It will use generic GPU kernel as fallback when running on GPU\n",
            "WARNING:tensorflow:Layer gru_3 will not use cuDNN kernel since it doesn't meet the cuDNN kernel criteria. It will use generic GPU kernel as fallback when running on GPU\n",
            "WARNING:tensorflow:Layer gru_3 will not use cuDNN kernel since it doesn't meet the cuDNN kernel criteria. It will use generic GPU kernel as fallback when running on GPU\n",
            "Model: \"sequential_4\"\n",
            "_________________________________________________________________\n",
            "Layer (type)                 Output Shape              Param #   \n",
            "=================================================================\n",
            "embedding_4 (Embedding)      (None, 16, 100)           13890900  \n",
            "_________________________________________________________________\n",
            "bidirectional_8 (Bidirection (None, 16, 128)           63744     \n",
            "_________________________________________________________________\n",
            "bidirectional_9 (Bidirection (None, 128)               74496     \n",
            "_________________________________________________________________\n",
            "dense_8 (Dense)              (None, 64)                8256      \n",
            "_________________________________________________________________\n",
            "dense_9 (Dense)              (None, 1)                 65        \n",
            "=================================================================\n",
            "Total params: 14,037,461\n",
            "Trainable params: 146,561\n",
            "Non-trainable params: 13,890,900\n",
            "_________________________________________________________________\n",
            "Epoch 1/20\n",
            "500/500 - 67s - loss: 0.5853 - accuracy: 0.6891 - val_loss: 0.5530 - val_accuracy: 0.7135\n",
            "Epoch 2/20\n",
            "500/500 - 64s - loss: 0.5212 - accuracy: 0.7392 - val_loss: 0.5247 - val_accuracy: 0.7347\n",
            "Epoch 3/20\n",
            "500/500 - 64s - loss: 0.4896 - accuracy: 0.7636 - val_loss: 0.5154 - val_accuracy: 0.7427\n",
            "Epoch 4/20\n",
            "500/500 - 64s - loss: 0.4615 - accuracy: 0.7803 - val_loss: 0.5401 - val_accuracy: 0.7202\n",
            "Epoch 5/20\n",
            "500/500 - 64s - loss: 0.4254 - accuracy: 0.8047 - val_loss: 0.5321 - val_accuracy: 0.7430\n",
            "Epoch 6/20\n",
            "500/500 - 64s - loss: 0.3896 - accuracy: 0.8257 - val_loss: 0.5548 - val_accuracy: 0.7380\n",
            "Epoch 7/20\n",
            "500/500 - 64s - loss: 0.3504 - accuracy: 0.8474 - val_loss: 0.6284 - val_accuracy: 0.7310\n",
            "Epoch 8/20\n",
            "500/500 - 64s - loss: 0.3063 - accuracy: 0.8699 - val_loss: 0.6603 - val_accuracy: 0.7322\n",
            "Epoch 9/20\n",
            "500/500 - 64s - loss: 0.2641 - accuracy: 0.8903 - val_loss: 0.7315 - val_accuracy: 0.7136\n",
            "Epoch 10/20\n",
            "500/500 - 64s - loss: 0.2249 - accuracy: 0.9104 - val_loss: 0.7675 - val_accuracy: 0.7248\n",
            "Epoch 11/20\n",
            "500/500 - 64s - loss: 0.1906 - accuracy: 0.9231 - val_loss: 0.8683 - val_accuracy: 0.7208\n",
            "Epoch 12/20\n",
            "500/500 - 63s - loss: 0.1569 - accuracy: 0.9374 - val_loss: 1.0304 - val_accuracy: 0.7171\n",
            "Epoch 13/20\n",
            "500/500 - 63s - loss: 0.1348 - accuracy: 0.9470 - val_loss: 1.2287 - val_accuracy: 0.7190\n",
            "Epoch 14/20\n",
            "500/500 - 65s - loss: 0.1139 - accuracy: 0.9553 - val_loss: 1.2061 - val_accuracy: 0.7090\n",
            "Epoch 15/20\n",
            "500/500 - 65s - loss: 0.0991 - accuracy: 0.9609 - val_loss: 1.2796 - val_accuracy: 0.7093\n",
            "Epoch 16/20\n",
            "500/500 - 63s - loss: 0.0821 - accuracy: 0.9684 - val_loss: 1.6198 - val_accuracy: 0.7155\n",
            "Epoch 17/20\n",
            "500/500 - 63s - loss: 0.0742 - accuracy: 0.9714 - val_loss: 1.7152 - val_accuracy: 0.7112\n",
            "Epoch 18/20\n",
            "500/500 - 64s - loss: 0.0650 - accuracy: 0.9743 - val_loss: 1.7897 - val_accuracy: 0.7108\n",
            "Epoch 19/20\n",
            "500/500 - 63s - loss: 0.0723 - accuracy: 0.9731 - val_loss: 1.5827 - val_accuracy: 0.7123\n",
            "Epoch 20/20\n",
            "500/500 - 63s - loss: 0.0564 - accuracy: 0.9796 - val_loss: 1.8365 - val_accuracy: 0.7122\n",
            "Training Complete\n"
          ],
          "name": "stdout"
        }
      ]
    },
    {
      "cell_type": "code",
      "metadata": {
        "id": "QlLTtypc5Usi",
        "outputId": "3dd0b901-ca61-4188-f84b-efa1308161ec",
        "colab": {
          "base_uri": "https://localhost:8080/",
          "height": 608
        }
      },
      "source": [
        "import matplotlib.image  as mpimg\r\n",
        "import matplotlib.pyplot as plt\r\n",
        "\r\n",
        "#-----------------------------------------------------------\r\n",
        "# Retrieve a list of list results on training and test data\r\n",
        "# sets for each training epoch\r\n",
        "#-----------------------------------------------------------\r\n",
        "acc=history.history['accuracy']\r\n",
        "val_acc=history.history['val_accuracy']\r\n",
        "loss=history.history['loss']\r\n",
        "val_loss=history.history['val_loss']\r\n",
        "\r\n",
        "epochs=range(len(acc)) # Get number of epochs\r\n",
        "\r\n",
        "#------------------------------------------------\r\n",
        "# Plot training and validation accuracy per epoch\r\n",
        "#------------------------------------------------\r\n",
        "plt.plot(epochs, acc, 'r')\r\n",
        "plt.plot(epochs, val_acc, 'b')\r\n",
        "plt.title('Training and validation accuracy')\r\n",
        "plt.xlabel(\"Epochs\")\r\n",
        "plt.ylabel(\"Accuracy\")\r\n",
        "plt.legend([\"Accuracy\", \"Validation Accuracy\"])\r\n",
        "\r\n",
        "plt.figure()\r\n",
        "\r\n",
        "#------------------------------------------------\r\n",
        "# Plot training and validation loss per epoch\r\n",
        "#------------------------------------------------\r\n",
        "plt.plot(epochs, loss, 'r')\r\n",
        "plt.plot(epochs, val_loss, 'b')\r\n",
        "plt.title('Training and validation loss')\r\n",
        "plt.xlabel(\"Epochs\")\r\n",
        "plt.ylabel(\"Loss\")\r\n",
        "plt.legend([\"Loss\", \"Validation Loss\"])\r\n",
        "\r\n",
        "plt.figure()\r\n",
        "\r\n",
        "\r\n",
        "# Expected Output\r\n",
        "# A chart where the validation loss does not increase sharply!"
      ],
      "execution_count": 61,
      "outputs": [
        {
          "output_type": "execute_result",
          "data": {
            "text/plain": [
              "<Figure size 432x288 with 0 Axes>"
            ]
          },
          "metadata": {
            "tags": []
          },
          "execution_count": 61
        },
        {
          "output_type": "display_data",
          "data": {
            "image/png": "[encoded data removed]",
            "text/plain": [
              "<Figure size 432x288 with 1 Axes>"
            ]
          },
          "metadata": {
            "tags": [],
            "needs_background": "light"
          }
        },
        {
          "output_type": "display_data",
          "data": {
            "image/png": "[encoded data removed]",
            "text/plain": [
              "<Figure size 432x288 with 1 Axes>"
            ]
          },
          "metadata": {
            "tags": [],
            "needs_background": "light"
          }
        },
        {
          "output_type": "display_data",
          "data": {
            "text/plain": [
              "<Figure size 432x288 with 0 Axes>"
            ]
          },
          "metadata": {
            "tags": []
          }
        }
      ]
    },
    {
      "cell_type": "code",
      "metadata": {
        "id": "H1GuF_I97Jrf"
      },
      "source": [
        ""
      ],
      "execution_count": null,
      "outputs": []
    }
  ]
}