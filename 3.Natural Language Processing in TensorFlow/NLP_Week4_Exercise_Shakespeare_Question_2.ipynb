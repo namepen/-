{
  "nbformat": 4,
  "nbformat_minor": 0,
  "metadata": {
    "accelerator": "GPU",
    "colab": {
      "name": "NLP_Week4_Exercise_Shakespeare_Question.ipynb",
      "provenance": [],
      "toc_visible": true
    },
    "kernelspec": {
      "display_name": "Python 3",
      "name": "python3"
    }
  },
  "cells": [
    {
      "cell_type": "code",
      "metadata": {
        "id": "zX4Kg8DUTKWO"
      },
      "source": [
        "#@title Licensed under the Apache License, Version 2.0 (the \"License\");\n",
        "# you may not use this file except in compliance with the License.\n",
        "# You may obtain a copy of the License at\n",
        "#\n",
        "# https://www.apache.org/licenses/LICENSE-2.0\n",
        "#\n",
        "# Unless required by applicable law or agreed to in writing, software\n",
        "# distributed under the License is distributed on an \"AS IS\" BASIS,\n",
        "# WITHOUT WARRANTIES OR CONDITIONS OF ANY KIND, either express or implied.\n",
        "# See the License for the specific language governing permissions and\n",
        "# limitations under the License."
      ],
      "execution_count": null,
      "outputs": []
    },
    {
      "cell_type": "code",
      "metadata": {
        "id": "BOwsuGQQY9OL"
      },
      "source": [
        "from tensorflow.keras.preprocessing.sequence import pad_sequences\n",
        "from tensorflow.keras.layers import Embedding, LSTM, Dense, Dropout, Bidirectional\n",
        "from tensorflow.keras.preprocessing.text import Tokenizer\n",
        "from tensorflow.keras.models import Sequential\n",
        "from tensorflow.keras.optimizers import Adam\n",
        "### YOUR CODE HERE\n",
        "# Figure out how to import regularizers\n",
        "###\n",
        "import tensorflow.keras.utils as ku \n",
        "import numpy as np "
      ],
      "execution_count": null,
      "outputs": []
    },
    {
      "cell_type": "code",
      "metadata": {
        "id": "PRnDnCW-Z7qv"
      },
      "source": [
        "tokenizer = Tokenizer()\n",
        "!wget --no-check-certificate \\\n",
        "    https://storage.googleapis.com/laurencemoroney-blog.appspot.com/sonnets.txt \\\n",
        "    -O /tmp/sonnets.txt\n",
        "data = open('/tmp/sonnets.txt').read()\n",
        "\n",
        "corpus = data.lower().split(\"\\n\")\n",
        "\n",
        "\n",
        "tokenizer.fit_on_texts(corpus)\n",
        "total_words = len(tokenizer.word_index) + 1\n",
        "\n",
        "# create input sequences using list of tokens\n",
        "input_sequences = []\n",
        "for line in corpus:\n",
        "\ttoken_list = tokenizer.texts_to_sequences([line])[0]\n",
        "\tfor i in range(1, len(token_list)):\n",
        "\t\tn_gram_sequence = token_list[:i+1]\n",
        "\t\tinput_sequences.append(n_gram_sequence)\n",
        "\n",
        "\n",
        "# pad sequences \n",
        "max_sequence_len = max([len(x) for x in input_sequences])\n",
        "input_sequences = np.array(pad_sequences(input_sequences, maxlen=max_sequence_len, padding='pre'))\n",
        "\n",
        "# create predictors and label\n",
        "predictors, label = input_sequences[:,:-1],input_sequences[:,-1]\n",
        "\n",
        "label = ku.to_categorical(label, num_classes=total_words)"
      ],
      "execution_count": null,
      "outputs": []
    },
    {
      "cell_type": "code",
      "metadata": {
        "id": "w9vH8Y59ajYL"
      },
      "source": [
        "model = Sequential()\n",
        "model.add(# Your Embedding Layer)\n",
        "model.add(# An LSTM Layer)\n",
        "model.add(# A dropout layer)\n",
        "model.add(# Another LSTM Layer)\n",
        "model.add(# A Dense Layer including regularizers)\n",
        "model.add(# A Dense Layer)\n",
        "# Pick an optimizer\n",
        "model.compile(# Pick a loss function and an optimizer)\n",
        "print(model.summary())\n"
      ],
      "execution_count": null,
      "outputs": []
    },
    {
      "cell_type": "code",
      "metadata": {
        "id": "AIg2f1HBxqof"
      },
      "source": [
        " history = model.fit(predictors, label, epochs=100, verbose=1)"
      ],
      "execution_count": null,
      "outputs": []
    },
    {
      "cell_type": "code",
      "metadata": {
        "id": "1fXTEO3GJ282"
      },
      "source": [
        "import matplotlib.pyplot as plt\n",
        "acc = history.history['accuracy']\n",
        "loss = history.history['loss']\n",
        "\n",
        "epochs = range(len(acc))\n",
        "\n",
        "plt.plot(epochs, acc, 'b', label='Training accuracy')\n",
        "plt.title('Training accuracy')\n",
        "\n",
        "plt.figure()\n",
        "\n",
        "plt.plot(epochs, loss, 'b', label='Training Loss')\n",
        "plt.title('Training loss')\n",
        "plt.legend()\n",
        "\n",
        "plt.show()"
      ],
      "execution_count": null,
      "outputs": []
    },
    {
      "cell_type": "code",
      "metadata": {
        "id": "6Vc6PHgxa6Hm"
      },
      "source": [
        "seed_text = \"Help me Obi Wan Kenobi, you're my only hope\"\n",
        "next_words = 100\n",
        "  \n",
        "for _ in range(next_words):\n",
        "\ttoken_list = tokenizer.texts_to_sequences([seed_text])[0]\n",
        "\ttoken_list = pad_sequences([token_list], maxlen=max_sequence_len-1, padding='pre')\n",
        "\tpredicted = model.predict_classes(token_list, verbose=0)\n",
        "\toutput_word = \"\"\n",
        "\tfor word, index in tokenizer.word_index.items():\n",
        "\t\tif index == predicted:\n",
        "\t\t\toutput_word = word\n",
        "\t\t\tbreak\n",
        "\tseed_text += \" \" + output_word\n",
        "print(seed_text)"
      ],
      "execution_count": null,
      "outputs": []
    },
    {
      "cell_type": "markdown",
      "metadata": {
        "id": "3H4zzir0QKgo"
      },
      "source": [
        "## 실습 코드"
      ]
    },
    {
      "cell_type": "code",
      "metadata": {
        "id": "hQ0bOguaQLZF"
      },
      "source": [
        "import tensorflow as tf\r\n",
        "from tensorflow.keras.layers import Embedding, LSTM, Dropout, Dense, Flatten, Conv1D\r\n",
        "from tensorflow.keras import regularizers\r\n",
        "from tensorflow.keras.optimizers import Adam, RMSprop\r\n",
        "\r\n",
        "from tensorflow.keras.preprocessing.text import Tokenizer\r\n",
        "from tensorflow.keras.preprocessing.sequence import pad_sequences\r\n",
        "from tensorflow.keras.utils import to_categorical\r\n",
        "\r\n",
        "import os"
      ],
      "execution_count": 51,
      "outputs": []
    },
    {
      "cell_type": "code",
      "metadata": {
        "id": "ItdMPxmpQV1q",
        "outputId": "1e6c4005-fbee-4408-b4a9-f34c3045f4a8",
        "colab": {
          "base_uri": "https://localhost:8080/"
        }
      },
      "source": [
        "# Data load by https://storage.googleapis.com/laurencemoroney-blog.appspot.com/sonnets.txt\r\n",
        "!wget https://storage.googleapis.com/laurencemoroney-blog.appspot.com/sonnets.txt -O /tmp/sonnets.txt"
      ],
      "execution_count": 9,
      "outputs": [
        {
          "output_type": "stream",
          "text": [
            "--2021-01-26 01:19:19--  https://storage.googleapis.com/laurencemoroney-blog.appspot.com/sonnets.txt\n",
            "Resolving storage.googleapis.com (storage.googleapis.com)... 172.217.9.208, 172.217.12.240, 172.253.122.128, ...\n",
            "Connecting to storage.googleapis.com (storage.googleapis.com)|172.217.9.208|:443... connected.\n",
            "HTTP request sent, awaiting response... 200 OK\n",
            "Length: 93578 (91K) [text/plain]\n",
            "Saving to: ‘/tmp/sonnets.txt’\n",
            "\n",
            "\r/tmp/sonnets.txt      0%[                    ]       0  --.-KB/s               \r/tmp/sonnets.txt    100%[===================>]  91.38K  --.-KB/s    in 0.001s  \n",
            "\n",
            "2021-01-26 01:19:19 (153 MB/s) - ‘/tmp/sonnets.txt’ saved [93578/93578]\n",
            "\n"
          ],
          "name": "stdout"
        }
      ]
    },
    {
      "cell_type": "code",
      "metadata": {
        "id": "n4iOKR9_RM2E"
      },
      "source": [
        "# Read txt file\r\n",
        "data = open('/tmp/sonnets.txt', 'r')\r\n",
        "data = data.read()\r\n",
        "\r\n",
        "# lower \r\n",
        "corpus = data.lower().split('\\n')"
      ],
      "execution_count": 19,
      "outputs": []
    },
    {
      "cell_type": "code",
      "metadata": {
        "id": "xk-KEL6-SMQK",
        "outputId": "5ca0ea77-2741-4f2c-8041-2b9663c907c4",
        "colab": {
          "base_uri": "https://localhost:8080/"
        }
      },
      "source": [
        "# Make Tokenizer\r\n",
        "tokenizer = Tokenizer()\r\n",
        "tokenizer.fit_on_texts(corpus)\r\n",
        "total_words = len(tokenizer.word_index)+ 1 # number of words\r\n",
        "print(total_words)"
      ],
      "execution_count": 25,
      "outputs": [
        {
          "output_type": "stream",
          "text": [
            "3211\n"
          ],
          "name": "stdout"
        }
      ]
    },
    {
      "cell_type": "code",
      "metadata": {
        "id": "LKWDIENDSNJq"
      },
      "source": [
        "# Make Sequences\r\n",
        "sequences = tokenizer.texts_to_sequences(corpus)"
      ],
      "execution_count": 72,
      "outputs": []
    },
    {
      "cell_type": "code",
      "metadata": {
        "id": "X5CzZokyTAqj"
      },
      "source": [
        "# Make training sequences\r\n",
        "# [1, 2], [1,2, 3], [1, 2, 3, 4]\r\n",
        "input_sequences = list()\r\n",
        "\r\n",
        "for line in sequences:\r\n",
        "  for i in range(1, len(line)):\r\n",
        "    n_gram_sequence = line[: i+1]\r\n",
        "    input_sequences.append(n_gram_sequence)"
      ],
      "execution_count": 73,
      "outputs": []
    },
    {
      "cell_type": "code",
      "metadata": {
        "id": "qFVH1NBKVqMv",
        "outputId": "33e9eff7-76e2-464e-ad3b-71e7491dafc1",
        "colab": {
          "base_uri": "https://localhost:8080/"
        }
      },
      "source": [
        "# Hyper parameters \r\n",
        "padding_type = 'pre'\r\n",
        "trunc_type = 'post'\r\n",
        "max_sequences_len = max(map(len, input_sequences))\r\n",
        "print(max_sequences_len)"
      ],
      "execution_count": 74,
      "outputs": [
        {
          "output_type": "stream",
          "text": [
            "11\n"
          ],
          "name": "stdout"
        }
      ]
    },
    {
      "cell_type": "code",
      "metadata": {
        "id": "oUN3naKKTilR"
      },
      "source": [
        "# Add padding\r\n",
        "padded = pad_sequences(input_sequences, maxlen=max_sequences_len, padding=padding_type, truncating=trunc_type)"
      ],
      "execution_count": 75,
      "outputs": []
    },
    {
      "cell_type": "code",
      "metadata": {
        "id": "W1ppO4yvWDnf",
        "outputId": "58ef4122-972f-467c-e001-981802608a50",
        "colab": {
          "base_uri": "https://localhost:8080/"
        }
      },
      "source": [
        "# Create train and labels\r\n",
        "predictors = padded[:, :-1]\r\n",
        "labels = padded[:, -1]\r\n",
        "\r\n",
        "# categorical\r\n",
        "labels = to_categorical(labels, num_classes=total_words)\r\n",
        "print(predictors[:3], labels[0])"
      ],
      "execution_count": 76,
      "outputs": [
        {
          "output_type": "stream",
          "text": [
            "[[  0   0   0   0   0   0   0   0   0  34]\n",
            " [  0   0   0   0   0   0   0   0  34 417]\n",
            " [  0   0   0   0   0   0   0  34 417 877]] [0. 0. 0. ... 0. 0. 0.]\n"
          ],
          "name": "stdout"
        }
      ]
    },
    {
      "cell_type": "code",
      "metadata": {
        "id": "B-J8hvvvWcZX",
        "outputId": "e9fe8121-bc34-4973-ca30-be05436ee327",
        "colab": {
          "base_uri": "https://localhost:8080/"
        }
      },
      "source": [
        "# Make model\r\n",
        "model = tf.keras.Sequential([\r\n",
        "                             Embedding(input_dim=total_words, output_dim=128, input_length=max_sequences_len-1),\r\n",
        "                             tf.keras.layers.Bidirectional(LSTM(256, return_sequences=True)),\r\n",
        "                             Dropout(0.2),\r\n",
        "                             tf.keras.layers.Bidirectional(LSTM(128, return_sequences=True)),\r\n",
        "                             Conv1D(128, 5, activation='relu'),\r\n",
        "                             Flatten(),\r\n",
        "                             Dense(512, activation='relu', kernel_regularizer=regularizers.l2(0.003)),\r\n",
        "                             Dropout(0.2),\r\n",
        "                             Dense(total_words, activation='softmax')\r\n",
        "])\r\n",
        "\r\n",
        "model.compile(loss='categorical_crossentropy', optimizer=Adam(0.003), metrics=['accuracy'])\r\n",
        "model.summary()"
      ],
      "execution_count": 77,
      "outputs": [
        {
          "output_type": "stream",
          "text": [
            "Model: \"sequential_9\"\n",
            "_________________________________________________________________\n",
            "Layer (type)                 Output Shape              Param #   \n",
            "=================================================================\n",
            "embedding_9 (Embedding)      (None, 10, 128)           411008    \n",
            "_________________________________________________________________\n",
            "bidirectional_18 (Bidirectio (None, 10, 512)           788480    \n",
            "_________________________________________________________________\n",
            "dropout_18 (Dropout)         (None, 10, 512)           0         \n",
            "_________________________________________________________________\n",
            "bidirectional_19 (Bidirectio (None, 10, 256)           656384    \n",
            "_________________________________________________________________\n",
            "conv1d_9 (Conv1D)            (None, 6, 128)            163968    \n",
            "_________________________________________________________________\n",
            "flatten_9 (Flatten)          (None, 768)               0         \n",
            "_________________________________________________________________\n",
            "dense_18 (Dense)             (None, 512)               393728    \n",
            "_________________________________________________________________\n",
            "dropout_19 (Dropout)         (None, 512)               0         \n",
            "_________________________________________________________________\n",
            "dense_19 (Dense)             (None, 3211)              1647243   \n",
            "=================================================================\n",
            "Total params: 4,060,811\n",
            "Trainable params: 4,060,811\n",
            "Non-trainable params: 0\n",
            "_________________________________________________________________\n"
          ],
          "name": "stdout"
        }
      ]
    },
    {
      "cell_type": "code",
      "metadata": {
        "id": "6jH31RWcZdu9",
        "outputId": "192ebbff-e2ca-4514-f880-01cb7871faca",
        "colab": {
          "base_uri": "https://localhost:8080/"
        }
      },
      "source": [
        "history = model.fit(predictors, labels, batch_size=32, epochs=50, verbose=1)"
      ],
      "execution_count": 80,
      "outputs": [
        {
          "output_type": "stream",
          "text": [
            "Epoch 1/50\n",
            "484/484 [==============================] - 7s 13ms/step - loss: 6.6230 - accuracy: 0.0239\n",
            "Epoch 2/50\n",
            "484/484 [==============================] - 6s 13ms/step - loss: 6.4366 - accuracy: 0.0319\n",
            "Epoch 3/50\n",
            "484/484 [==============================] - 6s 13ms/step - loss: 6.2742 - accuracy: 0.0367\n",
            "Epoch 4/50\n",
            "484/484 [==============================] - 6s 13ms/step - loss: 6.1219 - accuracy: 0.0409\n",
            "Epoch 5/50\n",
            "484/484 [==============================] - 6s 13ms/step - loss: 5.9720 - accuracy: 0.0500\n",
            "Epoch 6/50\n",
            "484/484 [==============================] - 6s 13ms/step - loss: 5.8420 - accuracy: 0.0540\n",
            "Epoch 7/50\n",
            "484/484 [==============================] - 6s 13ms/step - loss: 5.6982 - accuracy: 0.0589\n",
            "Epoch 8/50\n",
            "484/484 [==============================] - 6s 13ms/step - loss: 5.5722 - accuracy: 0.0653\n",
            "Epoch 9/50\n",
            "484/484 [==============================] - 6s 13ms/step - loss: 5.4437 - accuracy: 0.0732\n",
            "Epoch 10/50\n",
            "484/484 [==============================] - 6s 13ms/step - loss: 5.3164 - accuracy: 0.0792\n",
            "Epoch 11/50\n",
            "484/484 [==============================] - 6s 13ms/step - loss: 5.1874 - accuracy: 0.0884\n",
            "Epoch 12/50\n",
            "484/484 [==============================] - 7s 13ms/step - loss: 5.0761 - accuracy: 0.0949\n",
            "Epoch 13/50\n",
            "484/484 [==============================] - 6s 13ms/step - loss: 4.9592 - accuracy: 0.1040\n",
            "Epoch 14/50\n",
            "484/484 [==============================] - 6s 13ms/step - loss: 4.8208 - accuracy: 0.1149\n",
            "Epoch 15/50\n",
            "484/484 [==============================] - 6s 13ms/step - loss: 4.7209 - accuracy: 0.1209\n",
            "Epoch 16/50\n",
            "484/484 [==============================] - 6s 13ms/step - loss: 4.6019 - accuracy: 0.1326\n",
            "Epoch 17/50\n",
            "484/484 [==============================] - 6s 13ms/step - loss: 4.4941 - accuracy: 0.1432\n",
            "Epoch 18/50\n",
            "484/484 [==============================] - 6s 13ms/step - loss: 4.3870 - accuracy: 0.1514\n",
            "Epoch 19/50\n",
            "484/484 [==============================] - 6s 13ms/step - loss: 4.2937 - accuracy: 0.1597\n",
            "Epoch 20/50\n",
            "484/484 [==============================] - 6s 13ms/step - loss: 4.1935 - accuracy: 0.1685\n",
            "Epoch 21/50\n",
            "484/484 [==============================] - 6s 13ms/step - loss: 4.1094 - accuracy: 0.1817\n",
            "Epoch 22/50\n",
            "484/484 [==============================] - 6s 13ms/step - loss: 4.0223 - accuracy: 0.1910\n",
            "Epoch 23/50\n",
            "484/484 [==============================] - 6s 13ms/step - loss: 3.9567 - accuracy: 0.1941\n",
            "Epoch 24/50\n",
            "484/484 [==============================] - 6s 13ms/step - loss: 3.8773 - accuracy: 0.2065\n",
            "Epoch 25/50\n",
            "484/484 [==============================] - 6s 13ms/step - loss: 3.8057 - accuracy: 0.2138\n",
            "Epoch 26/50\n",
            "484/484 [==============================] - 6s 13ms/step - loss: 3.7240 - accuracy: 0.2240\n",
            "Epoch 27/50\n",
            "484/484 [==============================] - 6s 13ms/step - loss: 3.6568 - accuracy: 0.2330\n",
            "Epoch 28/50\n",
            "484/484 [==============================] - 6s 13ms/step - loss: 3.6279 - accuracy: 0.2388\n",
            "Epoch 29/50\n",
            "484/484 [==============================] - 6s 13ms/step - loss: 3.5618 - accuracy: 0.2462\n",
            "Epoch 30/50\n",
            "484/484 [==============================] - 6s 13ms/step - loss: 3.5100 - accuracy: 0.2526\n",
            "Epoch 31/50\n",
            "484/484 [==============================] - 6s 13ms/step - loss: 3.4605 - accuracy: 0.2594\n",
            "Epoch 32/50\n",
            "484/484 [==============================] - 6s 13ms/step - loss: 3.4144 - accuracy: 0.2680\n",
            "Epoch 33/50\n",
            "484/484 [==============================] - 6s 13ms/step - loss: 3.3694 - accuracy: 0.2720\n",
            "Epoch 34/50\n",
            "484/484 [==============================] - 6s 13ms/step - loss: 3.3348 - accuracy: 0.2791\n",
            "Epoch 35/50\n",
            "484/484 [==============================] - 6s 13ms/step - loss: 3.2829 - accuracy: 0.2920\n",
            "Epoch 36/50\n",
            "484/484 [==============================] - 6s 13ms/step - loss: 3.2566 - accuracy: 0.2935\n",
            "Epoch 37/50\n",
            "484/484 [==============================] - 6s 13ms/step - loss: 3.2101 - accuracy: 0.3019\n",
            "Epoch 38/50\n",
            "484/484 [==============================] - 6s 13ms/step - loss: 3.1799 - accuracy: 0.3011\n",
            "Epoch 39/50\n",
            "484/484 [==============================] - 6s 13ms/step - loss: 3.1560 - accuracy: 0.3097\n",
            "Epoch 40/50\n",
            "484/484 [==============================] - 6s 13ms/step - loss: 3.1136 - accuracy: 0.3151\n",
            "Epoch 41/50\n",
            "484/484 [==============================] - 6s 13ms/step - loss: 3.0686 - accuracy: 0.3264\n",
            "Epoch 42/50\n",
            "484/484 [==============================] - 6s 13ms/step - loss: 3.0267 - accuracy: 0.3268\n",
            "Epoch 43/50\n",
            "484/484 [==============================] - 6s 13ms/step - loss: 3.0207 - accuracy: 0.3287\n",
            "Epoch 44/50\n",
            "484/484 [==============================] - 6s 13ms/step - loss: 3.0036 - accuracy: 0.3335\n",
            "Epoch 45/50\n",
            "484/484 [==============================] - 6s 13ms/step - loss: 2.9743 - accuracy: 0.3412\n",
            "Epoch 46/50\n",
            "484/484 [==============================] - 6s 13ms/step - loss: 2.9679 - accuracy: 0.3428\n",
            "Epoch 47/50\n",
            "484/484 [==============================] - 6s 13ms/step - loss: 2.9266 - accuracy: 0.3454\n",
            "Epoch 48/50\n",
            "484/484 [==============================] - 6s 13ms/step - loss: 2.9154 - accuracy: 0.3470\n",
            "Epoch 49/50\n",
            "484/484 [==============================] - 6s 13ms/step - loss: 2.9011 - accuracy: 0.3536\n",
            "Epoch 50/50\n",
            "484/484 [==============================] - 6s 13ms/step - loss: 2.8670 - accuracy: 0.3594\n"
          ],
          "name": "stdout"
        }
      ]
    },
    {
      "cell_type": "code",
      "metadata": {
        "id": "zSKxSzJjXYcc",
        "outputId": "9530468d-9e8c-4377-a05a-4f79c4757928",
        "colab": {
          "base_uri": "https://localhost:8080/",
          "height": 544
        }
      },
      "source": [
        "import matplotlib.pyplot as plt\r\n",
        "acc = history.history['accuracy']\r\n",
        "loss = history.history['loss']\r\n",
        "\r\n",
        "epochs = range(len(acc))\r\n",
        "\r\n",
        "plt.plot(epochs, acc, 'b', label='Training accuracy')\r\n",
        "plt.title('Training accuracy')\r\n",
        "\r\n",
        "plt.figure()\r\n",
        "\r\n",
        "plt.plot(epochs, loss, 'b', label='Training Loss')\r\n",
        "plt.title('Training loss')\r\n",
        "plt.legend()\r\n",
        "\r\n",
        "plt.show()"
      ],
      "execution_count": 92,
      "outputs": [
        {
          "output_type": "display_data",
          "data": {
            "image/png": "[encoded data removed]",
            "text/plain": [
              "<Figure size 432x288 with 1 Axes>"
            ]
          },
          "metadata": {
            "tags": [],
            "needs_background": "light"
          }
        },
        {
          "output_type": "display_data",
          "data": {
            "image/png": "[encoded data removed]",
            "text/plain": [
              "<Figure size 432x288 with 1 Axes>"
            ]
          },
          "metadata": {
            "tags": [],
            "needs_background": "light"
          }
        }
      ]
    },
    {
      "cell_type": "code",
      "metadata": {
        "id": "OK9D-Im4cMrM"
      },
      "source": [
        "# Create new sentences"
      ],
      "execution_count": 93,
      "outputs": []
    },
    {
      "cell_type": "code",
      "metadata": {
        "id": "fOR1vbqncQIq",
        "outputId": "c7542ed9-7584-432e-dfae-f06734607265",
        "colab": {
          "base_uri": "https://localhost:8080/"
        }
      },
      "source": [
        "seed_text = \"Help me Obi Wan Kenobi, you're my only hope\"\r\n",
        "next_words = 50\r\n",
        "reverse_word_index = dict((value, key) for (key, value) in tokenizer.word_index.items())\r\n",
        "\r\n",
        "for i in range(next_words):\r\n",
        "  token_list = tokenizer.texts_to_sequences([seed_text])\r\n",
        "  token_list = pad_sequences(token_list, maxlen=max_sequences_len-1)\r\n",
        "  next_words = model.predict_classes(token_list)\r\n",
        "  try:\r\n",
        "    seed_text += \" \" + reverse_word_index[next_words[0]]\r\n",
        "  except KeyError as key:\r\n",
        "    pass"
      ],
      "execution_count": 127,
      "outputs": [
        {
          "output_type": "stream",
          "text": [
            "/usr/local/lib/python3.6/dist-packages/tensorflow/python/keras/engine/sequential.py:450: UserWarning: `model.predict_classes()` is deprecated and will be removed after 2021-01-01. Please use instead:* `np.argmax(model.predict(x), axis=-1)`,   if your model does multi-class classification   (e.g. if it uses a `softmax` last-layer activation).* `(model.predict(x) > 0.5).astype(\"int32\")`,   if your model does binary classification   (e.g. if it uses a `sigmoid` last-layer activation).\n",
            "  warnings.warn('`model.predict_classes()` is deprecated and '\n"
          ],
          "name": "stderr"
        }
      ]
    },
    {
      "cell_type": "code",
      "metadata": {
        "id": "8k5MKOgHcy4S",
        "outputId": "ea64d3cc-9ada-4895-b4e9-109fd36b8b70",
        "colab": {
          "base_uri": "https://localhost:8080/",
          "height": 52
        }
      },
      "source": [
        "seed_text"
      ],
      "execution_count": 128,
      "outputs": [
        {
          "output_type": "execute_result",
          "data": {
            "application/vnd.google.colaboratory.intrinsic+json": {
              "type": "string"
            },
            "text/plain": [
              "\"Help me Obi Wan Kenobi, you're my only hope quite ride hour doth hide his skill up you must rare old deceive exceeds dead exceeds more remember all too chest give praise away something new to thee i died before straight than blind wrong ' must dead afloat appear hide my love up all things pride of him i\""
            ]
          },
          "metadata": {
            "tags": []
          },
          "execution_count": 128
        }
      ]
    }
  ]
}