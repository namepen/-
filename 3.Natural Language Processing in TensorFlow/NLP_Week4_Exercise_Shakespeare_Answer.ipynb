{
  "nbformat": 4,
  "nbformat_minor": 0,
  "metadata": {
    "accelerator": "GPU",
    "colab": {
      "name": "NLP_Week4_Exercise_Shakespeare_Answer.ipynb",
      "provenance": [],
      "toc_visible": true
    },
    "kernelspec": {
      "display_name": "Python 3",
      "name": "python3"
    }
  },
  "cells": [
    {
      "cell_type": "code",
      "metadata": {
        "id": "zX4Kg8DUTKWO"
      },
      "source": [
        "#@title Licensed under the Apache License, Version 2.0 (the \"License\");\n",
        "# you may not use this file except in compliance with the License.\n",
        "# You may obtain a copy of the License at\n",
        "#\n",
        "# https://www.apache.org/licenses/LICENSE-2.0\n",
        "#\n",
        "# Unless required by applicable law or agreed to in writing, software\n",
        "# distributed under the License is distributed on an \"AS IS\" BASIS,\n",
        "# WITHOUT WARRANTIES OR CONDITIONS OF ANY KIND, either express or implied.\n",
        "# See the License for the specific language governing permissions and\n",
        "# limitations under the License."
      ],
      "execution_count": null,
      "outputs": []
    },
    {
      "cell_type": "code",
      "metadata": {
        "id": "BOwsuGQQY9OL"
      },
      "source": [
        "from tensorflow.keras.preprocessing.sequence import pad_sequences\n",
        "from tensorflow.keras.layers import Embedding, LSTM, Dense, Dropout, Bidirectional\n",
        "from tensorflow.keras.preprocessing.text import Tokenizer\n",
        "from tensorflow.keras.models import Sequential\n",
        "from tensorflow.keras.optimizers import Adam\n",
        "from tensorflow.keras import regularizers\n",
        "import tensorflow.keras.utils as ku \n",
        "import numpy as np "
      ],
      "execution_count": 1,
      "outputs": []
    },
    {
      "cell_type": "code",
      "metadata": {
        "colab": {
          "base_uri": "https://localhost:8080/"
        },
        "id": "PRnDnCW-Z7qv",
        "outputId": "bcaa52e5-397f-476a-f55a-4ac9423f84eb"
      },
      "source": [
        "tokenizer = Tokenizer()\n",
        "!wget --no-check-certificate \\\n",
        "    https://storage.googleapis.com/laurencemoroney-blog.appspot.com/sonnets.txt \\\n",
        "    -O /tmp/sonnets.txt\n",
        "data = open('/tmp/sonnets.txt').read()\n",
        "\n",
        "corpus = data.lower().split(\"\\n\")\n",
        "\n",
        "\n",
        "tokenizer.fit_on_texts(corpus)\n",
        "total_words = len(tokenizer.word_index) + 1\n",
        "\n",
        "# create input sequences using list of tokens\n",
        "input_sequences = []\n",
        "for line in corpus:\n",
        "\ttoken_list = tokenizer.texts_to_sequences([line])[0]\n",
        "\tfor i in range(1, len(token_list)):\n",
        "\t\tn_gram_sequence = token_list[:i+1]\n",
        "\t\tinput_sequences.append(n_gram_sequence)\n",
        "\n",
        "\n",
        "# pad sequences \n",
        "max_sequence_len = max([len(x) for x in input_sequences])\n",
        "input_sequences = np.array(pad_sequences(input_sequences, maxlen=max_sequence_len, padding='pre'))\n",
        "\n",
        "# create predictors and label\n",
        "predictors, label = input_sequences[:,:-1],input_sequences[:,-1]\n",
        "\n",
        "label = ku.to_categorical(label, num_classes=total_words)"
      ],
      "execution_count": 2,
      "outputs": [
        {
          "output_type": "stream",
          "text": [
            "--2021-01-25 16:33:07--  https://storage.googleapis.com/laurencemoroney-blog.appspot.com/sonnets.txt\n",
            "Resolving storage.googleapis.com (storage.googleapis.com)... 172.217.7.208, 172.217.9.208, 172.217.12.240, ...\n",
            "Connecting to storage.googleapis.com (storage.googleapis.com)|172.217.7.208|:443... connected.\n",
            "HTTP request sent, awaiting response... 200 OK\n",
            "Length: 93578 (91K) [text/plain]\n",
            "Saving to: ‘/tmp/sonnets.txt’\n",
            "\n",
            "\r/tmp/sonnets.txt      0%[                    ]       0  --.-KB/s               \r/tmp/sonnets.txt    100%[===================>]  91.38K  --.-KB/s    in 0.001s  \n",
            "\n",
            "2021-01-25 16:33:07 (117 MB/s) - ‘/tmp/sonnets.txt’ saved [93578/93578]\n",
            "\n"
          ],
          "name": "stdout"
        }
      ]
    },
    {
      "cell_type": "code",
      "metadata": {
        "colab": {
          "base_uri": "https://localhost:8080/"
        },
        "id": "w9vH8Y59ajYL",
        "outputId": "6e7c8012-fbbb-4513-a3ac-1d0436b76840"
      },
      "source": [
        "model = Sequential()\n",
        "model.add(Embedding(total_words, 100, input_length=max_sequence_len-1))\n",
        "model.add(Bidirectional(LSTM(150, return_sequences = True)))\n",
        "model.add(Dropout(0.2))\n",
        "model.add(LSTM(100))\n",
        "model.add(Dense(total_words/2, activation='relu', kernel_regularizer=regularizers.l2(0.01)))\n",
        "model.add(Dense(total_words, activation='softmax'))\n",
        "model.compile(loss='categorical_crossentropy', optimizer='adam', metrics=['accuracy'])\n",
        "print(model.summary())\n"
      ],
      "execution_count": 3,
      "outputs": [
        {
          "output_type": "stream",
          "text": [
            "Model: \"sequential\"\n",
            "_________________________________________________________________\n",
            "Layer (type)                 Output Shape              Param #   \n",
            "=================================================================\n",
            "embedding (Embedding)        (None, 10, 100)           321100    \n",
            "_________________________________________________________________\n",
            "bidirectional (Bidirectional (None, 10, 300)           301200    \n",
            "_________________________________________________________________\n",
            "dropout (Dropout)            (None, 10, 300)           0         \n",
            "_________________________________________________________________\n",
            "lstm_1 (LSTM)                (None, 100)               160400    \n",
            "_________________________________________________________________\n",
            "dense (Dense)                (None, 1605)              162105    \n",
            "_________________________________________________________________\n",
            "dense_1 (Dense)              (None, 3211)              5156866   \n",
            "=================================================================\n",
            "Total params: 6,101,671\n",
            "Trainable params: 6,101,671\n",
            "Non-trainable params: 0\n",
            "_________________________________________________________________\n",
            "None\n"
          ],
          "name": "stdout"
        }
      ]
    },
    {
      "cell_type": "code",
      "metadata": {
        "colab": {
          "base_uri": "https://localhost:8080/"
        },
        "id": "AIg2f1HBxqof",
        "outputId": "71f052e1-8909-40c7-e824-74d8f959913e"
      },
      "source": [
        " history = model.fit(predictors, label, epochs=100, verbose=1)"
      ],
      "execution_count": 4,
      "outputs": [
        {
          "output_type": "stream",
          "text": [
            "Epoch 1/100\n",
            "484/484 [==============================] - 15s 11ms/step - loss: 7.3179 - accuracy: 0.0209\n",
            "Epoch 2/100\n",
            "484/484 [==============================] - 5s 11ms/step - loss: 6.4991 - accuracy: 0.0225\n",
            "Epoch 3/100\n",
            "484/484 [==============================] - 5s 11ms/step - loss: 6.3955 - accuracy: 0.0218\n",
            "Epoch 4/100\n",
            "484/484 [==============================] - 5s 11ms/step - loss: 6.2893 - accuracy: 0.0291\n",
            "Epoch 5/100\n",
            "484/484 [==============================] - 5s 11ms/step - loss: 6.1697 - accuracy: 0.0325\n",
            "Epoch 6/100\n",
            "484/484 [==============================] - 5s 11ms/step - loss: 6.1040 - accuracy: 0.0376\n",
            "Epoch 7/100\n",
            "484/484 [==============================] - 5s 11ms/step - loss: 6.0243 - accuracy: 0.0402\n",
            "Epoch 8/100\n",
            "484/484 [==============================] - 5s 11ms/step - loss: 5.9099 - accuracy: 0.0484\n",
            "Epoch 9/100\n",
            "484/484 [==============================] - 5s 11ms/step - loss: 5.8660 - accuracy: 0.0513\n",
            "Epoch 10/100\n",
            "484/484 [==============================] - 5s 11ms/step - loss: 5.7416 - accuracy: 0.0546\n",
            "Epoch 11/100\n",
            "484/484 [==============================] - 5s 11ms/step - loss: 5.6351 - accuracy: 0.0611\n",
            "Epoch 12/100\n",
            "484/484 [==============================] - 5s 11ms/step - loss: 5.5043 - accuracy: 0.0686\n",
            "Epoch 13/100\n",
            "484/484 [==============================] - 5s 11ms/step - loss: 5.4061 - accuracy: 0.0773\n",
            "Epoch 14/100\n",
            "484/484 [==============================] - 5s 11ms/step - loss: 5.3172 - accuracy: 0.0783\n",
            "Epoch 15/100\n",
            "484/484 [==============================] - 5s 11ms/step - loss: 5.1797 - accuracy: 0.0858\n",
            "Epoch 16/100\n",
            "484/484 [==============================] - 5s 11ms/step - loss: 5.0911 - accuracy: 0.0946\n",
            "Epoch 17/100\n",
            "484/484 [==============================] - 5s 11ms/step - loss: 4.9875 - accuracy: 0.1008\n",
            "Epoch 18/100\n",
            "484/484 [==============================] - 5s 11ms/step - loss: 4.9003 - accuracy: 0.1065\n",
            "Epoch 19/100\n",
            "484/484 [==============================] - 5s 11ms/step - loss: 4.7917 - accuracy: 0.1113\n",
            "Epoch 20/100\n",
            "484/484 [==============================] - 5s 11ms/step - loss: 4.6888 - accuracy: 0.1263\n",
            "Epoch 21/100\n",
            "484/484 [==============================] - 5s 11ms/step - loss: 4.5918 - accuracy: 0.1327\n",
            "Epoch 22/100\n",
            "484/484 [==============================] - 5s 11ms/step - loss: 4.5035 - accuracy: 0.1417\n",
            "Epoch 23/100\n",
            "484/484 [==============================] - 5s 11ms/step - loss: 4.3742 - accuracy: 0.1555\n",
            "Epoch 24/100\n",
            "484/484 [==============================] - 5s 11ms/step - loss: 4.2727 - accuracy: 0.1595\n",
            "Epoch 25/100\n",
            "484/484 [==============================] - 5s 11ms/step - loss: 4.1641 - accuracy: 0.1789\n",
            "Epoch 26/100\n",
            "484/484 [==============================] - 5s 11ms/step - loss: 4.0799 - accuracy: 0.1879\n",
            "Epoch 27/100\n",
            "484/484 [==============================] - 5s 11ms/step - loss: 3.9617 - accuracy: 0.2017\n",
            "Epoch 28/100\n",
            "484/484 [==============================] - 5s 11ms/step - loss: 3.8309 - accuracy: 0.2318\n",
            "Epoch 29/100\n",
            "484/484 [==============================] - 5s 11ms/step - loss: 3.7577 - accuracy: 0.2440\n",
            "Epoch 30/100\n",
            "484/484 [==============================] - 5s 11ms/step - loss: 3.6354 - accuracy: 0.2611\n",
            "Epoch 31/100\n",
            "484/484 [==============================] - 5s 11ms/step - loss: 3.5373 - accuracy: 0.2888\n",
            "Epoch 32/100\n",
            "484/484 [==============================] - 5s 11ms/step - loss: 3.4328 - accuracy: 0.3051\n",
            "Epoch 33/100\n",
            "484/484 [==============================] - 5s 11ms/step - loss: 3.3597 - accuracy: 0.3256\n",
            "Epoch 34/100\n",
            "484/484 [==============================] - 5s 11ms/step - loss: 3.2905 - accuracy: 0.3467\n",
            "Epoch 35/100\n",
            "484/484 [==============================] - 5s 11ms/step - loss: 3.1964 - accuracy: 0.3614\n",
            "Epoch 36/100\n",
            "484/484 [==============================] - 5s 11ms/step - loss: 3.1414 - accuracy: 0.3809\n",
            "Epoch 37/100\n",
            "484/484 [==============================] - 5s 11ms/step - loss: 3.0588 - accuracy: 0.3973\n",
            "Epoch 38/100\n",
            "484/484 [==============================] - 5s 11ms/step - loss: 2.9421 - accuracy: 0.4248\n",
            "Epoch 39/100\n",
            "484/484 [==============================] - 5s 11ms/step - loss: 2.8678 - accuracy: 0.4415\n",
            "Epoch 40/100\n",
            "484/484 [==============================] - 5s 11ms/step - loss: 2.8092 - accuracy: 0.4467\n",
            "Epoch 41/100\n",
            "484/484 [==============================] - 5s 11ms/step - loss: 2.7697 - accuracy: 0.4610\n",
            "Epoch 42/100\n",
            "484/484 [==============================] - 5s 11ms/step - loss: 2.6780 - accuracy: 0.4862\n",
            "Epoch 43/100\n",
            "484/484 [==============================] - 5s 11ms/step - loss: 2.6230 - accuracy: 0.4969\n",
            "Epoch 44/100\n",
            "484/484 [==============================] - 5s 11ms/step - loss: 2.5519 - accuracy: 0.5137\n",
            "Epoch 45/100\n",
            "484/484 [==============================] - 5s 11ms/step - loss: 2.5209 - accuracy: 0.5164\n",
            "Epoch 46/100\n",
            "484/484 [==============================] - 5s 11ms/step - loss: 2.4580 - accuracy: 0.5362\n",
            "Epoch 47/100\n",
            "484/484 [==============================] - 5s 11ms/step - loss: 2.4107 - accuracy: 0.5515\n",
            "Epoch 48/100\n",
            "484/484 [==============================] - 5s 11ms/step - loss: 2.3171 - accuracy: 0.5718\n",
            "Epoch 49/100\n",
            "484/484 [==============================] - 5s 11ms/step - loss: 2.2868 - accuracy: 0.5769\n",
            "Epoch 50/100\n",
            "484/484 [==============================] - 5s 11ms/step - loss: 2.2507 - accuracy: 0.5888\n",
            "Epoch 51/100\n",
            "484/484 [==============================] - 5s 11ms/step - loss: 2.1687 - accuracy: 0.6063\n",
            "Epoch 52/100\n",
            "484/484 [==============================] - 5s 11ms/step - loss: 2.1459 - accuracy: 0.6137\n",
            "Epoch 53/100\n",
            "484/484 [==============================] - 5s 11ms/step - loss: 2.1046 - accuracy: 0.6214\n",
            "Epoch 54/100\n",
            "484/484 [==============================] - 5s 11ms/step - loss: 2.0721 - accuracy: 0.6226\n",
            "Epoch 55/100\n",
            "484/484 [==============================] - 5s 11ms/step - loss: 2.0117 - accuracy: 0.6378\n",
            "Epoch 56/100\n",
            "484/484 [==============================] - 5s 11ms/step - loss: 1.9667 - accuracy: 0.6453\n",
            "Epoch 57/100\n",
            "484/484 [==============================] - 5s 11ms/step - loss: 1.9423 - accuracy: 0.6592\n",
            "Epoch 58/100\n",
            "484/484 [==============================] - 5s 11ms/step - loss: 1.9027 - accuracy: 0.6592\n",
            "Epoch 59/100\n",
            "484/484 [==============================] - 5s 11ms/step - loss: 1.8565 - accuracy: 0.6734\n",
            "Epoch 60/100\n",
            "484/484 [==============================] - 5s 11ms/step - loss: 1.8417 - accuracy: 0.6753\n",
            "Epoch 61/100\n",
            "484/484 [==============================] - 5s 11ms/step - loss: 1.8099 - accuracy: 0.6773\n",
            "Epoch 62/100\n",
            "484/484 [==============================] - 5s 11ms/step - loss: 1.7699 - accuracy: 0.6919\n",
            "Epoch 63/100\n",
            "484/484 [==============================] - 5s 11ms/step - loss: 1.7369 - accuracy: 0.6986\n",
            "Epoch 64/100\n",
            "484/484 [==============================] - 5s 11ms/step - loss: 1.6959 - accuracy: 0.7054\n",
            "Epoch 65/100\n",
            "484/484 [==============================] - 5s 11ms/step - loss: 1.6863 - accuracy: 0.7060\n",
            "Epoch 66/100\n",
            "484/484 [==============================] - 5s 11ms/step - loss: 1.6629 - accuracy: 0.7129\n",
            "Epoch 67/100\n",
            "484/484 [==============================] - 5s 11ms/step - loss: 1.6204 - accuracy: 0.7191\n",
            "Epoch 68/100\n",
            "484/484 [==============================] - 5s 11ms/step - loss: 1.6124 - accuracy: 0.7231\n",
            "Epoch 69/100\n",
            "484/484 [==============================] - 5s 11ms/step - loss: 1.5865 - accuracy: 0.7303\n",
            "Epoch 70/100\n",
            "484/484 [==============================] - 5s 11ms/step - loss: 1.5418 - accuracy: 0.7383\n",
            "Epoch 71/100\n",
            "484/484 [==============================] - 5s 11ms/step - loss: 1.5266 - accuracy: 0.7421\n",
            "Epoch 72/100\n",
            "484/484 [==============================] - 5s 11ms/step - loss: 1.5085 - accuracy: 0.7467\n",
            "Epoch 73/100\n",
            "484/484 [==============================] - 5s 11ms/step - loss: 1.5027 - accuracy: 0.7402\n",
            "Epoch 74/100\n",
            "484/484 [==============================] - 5s 11ms/step - loss: 1.4653 - accuracy: 0.7493\n",
            "Epoch 75/100\n",
            "484/484 [==============================] - 5s 11ms/step - loss: 1.4434 - accuracy: 0.7565\n",
            "Epoch 76/100\n",
            "484/484 [==============================] - 5s 11ms/step - loss: 1.4162 - accuracy: 0.7592\n",
            "Epoch 77/100\n",
            "484/484 [==============================] - 5s 11ms/step - loss: 1.4186 - accuracy: 0.7589\n",
            "Epoch 78/100\n",
            "484/484 [==============================] - 5s 11ms/step - loss: 1.3911 - accuracy: 0.7676\n",
            "Epoch 79/100\n",
            "484/484 [==============================] - 5s 11ms/step - loss: 1.3548 - accuracy: 0.7734\n",
            "Epoch 80/100\n",
            "484/484 [==============================] - 5s 11ms/step - loss: 1.3500 - accuracy: 0.7717\n",
            "Epoch 81/100\n",
            "484/484 [==============================] - 5s 11ms/step - loss: 1.3488 - accuracy: 0.7752\n",
            "Epoch 82/100\n",
            "484/484 [==============================] - 5s 11ms/step - loss: 1.3283 - accuracy: 0.7758\n",
            "Epoch 83/100\n",
            "484/484 [==============================] - 5s 11ms/step - loss: 1.3191 - accuracy: 0.7766\n",
            "Epoch 84/100\n",
            "484/484 [==============================] - 5s 11ms/step - loss: 1.2961 - accuracy: 0.7772\n",
            "Epoch 85/100\n",
            "484/484 [==============================] - 5s 11ms/step - loss: 1.2749 - accuracy: 0.7848\n",
            "Epoch 86/100\n",
            "484/484 [==============================] - 5s 11ms/step - loss: 1.2780 - accuracy: 0.7839\n",
            "Epoch 87/100\n",
            "484/484 [==============================] - 5s 11ms/step - loss: 1.2501 - accuracy: 0.7852\n",
            "Epoch 88/100\n",
            "484/484 [==============================] - 5s 11ms/step - loss: 1.2203 - accuracy: 0.7955\n",
            "Epoch 89/100\n",
            "484/484 [==============================] - 5s 11ms/step - loss: 1.2021 - accuracy: 0.7999\n",
            "Epoch 90/100\n",
            "484/484 [==============================] - 5s 11ms/step - loss: 1.2070 - accuracy: 0.7929\n",
            "Epoch 91/100\n",
            "484/484 [==============================] - 5s 11ms/step - loss: 1.2146 - accuracy: 0.7932\n",
            "Epoch 92/100\n",
            "484/484 [==============================] - 5s 11ms/step - loss: 1.1996 - accuracy: 0.7957\n",
            "Epoch 93/100\n",
            "484/484 [==============================] - 5s 11ms/step - loss: 1.1702 - accuracy: 0.7979\n",
            "Epoch 94/100\n",
            "484/484 [==============================] - 5s 11ms/step - loss: 1.1670 - accuracy: 0.7978\n",
            "Epoch 95/100\n",
            "484/484 [==============================] - 5s 11ms/step - loss: 1.1351 - accuracy: 0.8075\n",
            "Epoch 96/100\n",
            "484/484 [==============================] - 5s 11ms/step - loss: 1.1366 - accuracy: 0.8058\n",
            "Epoch 97/100\n",
            "484/484 [==============================] - 5s 11ms/step - loss: 1.1058 - accuracy: 0.8144\n",
            "Epoch 98/100\n",
            "484/484 [==============================] - 5s 11ms/step - loss: 1.1097 - accuracy: 0.8114\n",
            "Epoch 99/100\n",
            "484/484 [==============================] - 5s 11ms/step - loss: 1.1033 - accuracy: 0.8127\n",
            "Epoch 100/100\n",
            "484/484 [==============================] - 5s 11ms/step - loss: 1.0905 - accuracy: 0.8159\n"
          ],
          "name": "stdout"
        }
      ]
    },
    {
      "cell_type": "code",
      "metadata": {
        "colab": {
          "base_uri": "https://localhost:8080/",
          "height": 544
        },
        "id": "1fXTEO3GJ282",
        "outputId": "2ccdf0f6-96fa-4b71-c72b-eca53a06b2ee"
      },
      "source": [
        "import matplotlib.pyplot as plt\n",
        "acc = history.history['accuracy']\n",
        "loss = history.history['loss']\n",
        "\n",
        "epochs = range(len(acc))\n",
        "\n",
        "plt.plot(epochs, acc, 'b', label='Training accuracy')\n",
        "plt.title('Training accuracy')\n",
        "\n",
        "plt.figure()\n",
        "\n",
        "plt.plot(epochs, loss, 'b', label='Training Loss')\n",
        "plt.title('Training loss')\n",
        "plt.legend()\n",
        "\n",
        "plt.show()"
      ],
      "execution_count": 5,
      "outputs": [
        {
          "output_type": "display_data",
          "data": {
            "image/png": "[encoded data removed]",
            "text/plain": [
              "<Figure size 432x288 with 1 Axes>"
            ]
          },
          "metadata": {
            "tags": [],
            "needs_background": "light"
          }
        },
        {
          "output_type": "display_data",
          "data": {
            "image/png": "[encoded data removed]",
            "text/plain": [
              "<Figure size 432x288 with 1 Axes>"
            ]
          },
          "metadata": {
            "tags": [],
            "needs_background": "light"
          }
        }
      ]
    },
    {
      "cell_type": "code",
      "metadata": {
        "colab": {
          "base_uri": "https://localhost:8080/"
        },
        "id": "6Vc6PHgxa6Hm",
        "outputId": "fc0ea784-5503-4411-e5de-bf9592fb8c62"
      },
      "source": [
        "seed_text = \"Help me Obi Wan Kenobi, you're my only hope\"\n",
        "next_words = 100\n",
        "  \n",
        "for _ in range(next_words):\n",
        "\ttoken_list = tokenizer.texts_to_sequences([seed_text])[0]\n",
        "\ttoken_list = pad_sequences([token_list], maxlen=max_sequence_len-1, padding='pre')\n",
        "\tpredicted = model.predict_classes(token_list, verbose=0)\n",
        "\toutput_word = \"\"\n",
        "\tfor word, index in tokenizer.word_index.items():\n",
        "\t\tif index == predicted:\n",
        "\t\t\toutput_word = word\n",
        "\t\t\tbreak\n",
        "\tseed_text += \" \" + output_word\n",
        "print(seed_text)"
      ],
      "execution_count": 6,
      "outputs": [
        {
          "output_type": "stream",
          "text": [
            "/usr/local/lib/python3.6/dist-packages/tensorflow/python/keras/engine/sequential.py:450: UserWarning: `model.predict_classes()` is deprecated and will be removed after 2021-01-01. Please use instead:* `np.argmax(model.predict(x), axis=-1)`,   if your model does multi-class classification   (e.g. if it uses a `softmax` last-layer activation).* `(model.predict(x) > 0.5).astype(\"int32\")`,   if your model does binary classification   (e.g. if it uses a `sigmoid` last-layer activation).\n",
            "  warnings.warn('`model.predict_classes()` is deprecated and '\n"
          ],
          "name": "stderr"
        },
        {
          "output_type": "stream",
          "text": [
            "Help me Obi Wan Kenobi, you're my only hope full hence assured mine eye ' it there was there still mine eyes more own poverty shall show thee doth his defect flatter fear alone long place well flesh appetite die leaves hate place back back down such loss of fullness forsworn all thee hate glory write of ill men ' aside me bright muse thee well ever write for such good moan false praises show me me ill ill new much well substance ' ill delight prove be gone and men loss thee of be give thee of thee more grow young alone young thee heretic many commend about\n"
          ],
          "name": "stdout"
        }
      ]
    },
    {
      "cell_type": "code",
      "metadata": {
        "id": "TFEGXisabqLm"
      },
      "source": [
        ""
      ],
      "execution_count": null,
      "outputs": []
    }
  ]
}